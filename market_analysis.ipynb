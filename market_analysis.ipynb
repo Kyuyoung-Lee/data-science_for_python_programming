{
 "cells": [
  {
   "cell_type": "code",
   "execution_count": 1,
   "id": "f14ab14b",
   "metadata": {},
   "outputs": [
    {
     "data": {
      "text/html": [
       "        <script type=\"text/javascript\">\n",
       "        window.PlotlyConfig = {MathJaxConfig: 'local'};\n",
       "        if (window.MathJax && window.MathJax.Hub && window.MathJax.Hub.Config) {window.MathJax.Hub.Config({SVG: {font: \"STIX-Web\"}});}\n",
       "        if (typeof require !== 'undefined') {\n",
       "        require.undef(\"plotly\");\n",
       "        requirejs.config({\n",
       "            paths: {\n",
       "                'plotly': ['https://cdn.plot.ly/plotly-2.20.0.min']\n",
       "            }\n",
       "        });\n",
       "        require(['plotly'], function(Plotly) {\n",
       "            window._Plotly = Plotly;\n",
       "        });\n",
       "        }\n",
       "        </script>\n",
       "        "
      ]
     },
     "metadata": {},
     "output_type": "display_data"
    }
   ],
   "source": [
    "import math\n",
    "from IPython import display\n",
    "from matplotlib import cm\n",
    "from matplotlib import gridspec\n",
    "from matplotlib import pyplot as plt\n",
    "import seaborn as sns\n",
    "import numpy as np\n",
    "import pandas as pd\n",
    "\n",
    "from sklearn import metrics\n",
    "from sklearn.preprocessing import scale, StandardScaler, normalize\n",
    "from sklearn import preprocessing\n",
    "from sklearn import decomposition\n",
    "from sklearn.decomposition import PCA\n",
    "from sklearn.cluster import KMeans\n",
    "from sklearn.metrics import silhouette_samples, silhouette_score\n",
    "import pickle\n",
    "from collections import Counter\n",
    "\n",
    "from plotly.offline import download_plotlyjs, init_notebook_mode, plot, iplot\n",
    "import plotly.graph_objs as go\n",
    "init_notebook_mode(connected=True)\n",
    "\n",
    "from altair import Chart, X, Y, Axis, SortField\n",
    "\n",
    "pd.options.display.max_rows = 100\n",
    "pd.options.display.max_columns = 100\n",
    "pd.options.display.float_format = '{:.1f}'.format\n",
    "\n",
    "%matplotlib inline\n",
    "\n",
    "import pandas as pd\n",
    "import numpy as np\n",
    "import seaborn as sns\n",
    "import matplotlib.pyplot as plt\n",
    "from scipy import stats\n",
    "from sklearn.linear_model import LinearRegression\n",
    "from sklearn.metrics import mean_squared_error\n",
    "from sklearn.model_selection import train_test_split\n",
    "\n",
    "sns.set()"
   ]
  },
  {
   "cell_type": "code",
   "execution_count": 2,
   "id": "307ae42d",
   "metadata": {},
   "outputs": [
    {
     "data": {
      "text/html": [
       "<div>\n",
       "<style scoped>\n",
       "    .dataframe tbody tr th:only-of-type {\n",
       "        vertical-align: middle;\n",
       "    }\n",
       "\n",
       "    .dataframe tbody tr th {\n",
       "        vertical-align: top;\n",
       "    }\n",
       "\n",
       "    .dataframe thead th {\n",
       "        text-align: right;\n",
       "    }\n",
       "</style>\n",
       "<table border=\"1\" class=\"dataframe\">\n",
       "  <thead>\n",
       "    <tr style=\"text-align: right;\">\n",
       "      <th></th>\n",
       "      <th>InvoiceNo</th>\n",
       "      <th>StockCode</th>\n",
       "      <th>Description</th>\n",
       "      <th>Quantity</th>\n",
       "      <th>InvoiceDate</th>\n",
       "      <th>UnitPrice</th>\n",
       "      <th>CustomerID</th>\n",
       "      <th>Country</th>\n",
       "    </tr>\n",
       "  </thead>\n",
       "  <tbody>\n",
       "    <tr>\n",
       "      <th>0</th>\n",
       "      <td>536365</td>\n",
       "      <td>85123A</td>\n",
       "      <td>WHITE HANGING HEART T-LIGHT HOLDER</td>\n",
       "      <td>6</td>\n",
       "      <td>12/1/2010 8:26</td>\n",
       "      <td>2.5</td>\n",
       "      <td>17850.0</td>\n",
       "      <td>United Kingdom</td>\n",
       "    </tr>\n",
       "    <tr>\n",
       "      <th>1</th>\n",
       "      <td>536365</td>\n",
       "      <td>71053</td>\n",
       "      <td>WHITE METAL LANTERN</td>\n",
       "      <td>6</td>\n",
       "      <td>12/1/2010 8:26</td>\n",
       "      <td>3.4</td>\n",
       "      <td>17850.0</td>\n",
       "      <td>United Kingdom</td>\n",
       "    </tr>\n",
       "    <tr>\n",
       "      <th>2</th>\n",
       "      <td>536365</td>\n",
       "      <td>84406B</td>\n",
       "      <td>CREAM CUPID HEARTS COAT HANGER</td>\n",
       "      <td>8</td>\n",
       "      <td>12/1/2010 8:26</td>\n",
       "      <td>2.8</td>\n",
       "      <td>17850.0</td>\n",
       "      <td>United Kingdom</td>\n",
       "    </tr>\n",
       "    <tr>\n",
       "      <th>3</th>\n",
       "      <td>536365</td>\n",
       "      <td>84029G</td>\n",
       "      <td>KNITTED UNION FLAG HOT WATER BOTTLE</td>\n",
       "      <td>6</td>\n",
       "      <td>12/1/2010 8:26</td>\n",
       "      <td>3.4</td>\n",
       "      <td>17850.0</td>\n",
       "      <td>United Kingdom</td>\n",
       "    </tr>\n",
       "    <tr>\n",
       "      <th>4</th>\n",
       "      <td>536365</td>\n",
       "      <td>84029E</td>\n",
       "      <td>RED WOOLLY HOTTIE WHITE HEART.</td>\n",
       "      <td>6</td>\n",
       "      <td>12/1/2010 8:26</td>\n",
       "      <td>3.4</td>\n",
       "      <td>17850.0</td>\n",
       "      <td>United Kingdom</td>\n",
       "    </tr>\n",
       "  </tbody>\n",
       "</table>\n",
       "</div>"
      ],
      "text/plain": [
       "  InvoiceNo StockCode                          Description  Quantity  \\\n",
       "0    536365    85123A   WHITE HANGING HEART T-LIGHT HOLDER         6   \n",
       "1    536365     71053                  WHITE METAL LANTERN         6   \n",
       "2    536365    84406B       CREAM CUPID HEARTS COAT HANGER         8   \n",
       "3    536365    84029G  KNITTED UNION FLAG HOT WATER BOTTLE         6   \n",
       "4    536365    84029E       RED WOOLLY HOTTIE WHITE HEART.         6   \n",
       "\n",
       "      InvoiceDate  UnitPrice  CustomerID         Country  \n",
       "0  12/1/2010 8:26        2.5     17850.0  United Kingdom  \n",
       "1  12/1/2010 8:26        3.4     17850.0  United Kingdom  \n",
       "2  12/1/2010 8:26        2.8     17850.0  United Kingdom  \n",
       "3  12/1/2010 8:26        3.4     17850.0  United Kingdom  \n",
       "4  12/1/2010 8:26        3.4     17850.0  United Kingdom  "
      ]
     },
     "execution_count": 2,
     "metadata": {},
     "output_type": "execute_result"
    }
   ],
   "source": [
    "df = pd.read_csv('./data.csv',encoding='ISO-8859-1')\n",
    "df.head()"
   ]
  },
  {
   "cell_type": "code",
   "execution_count": 3,
   "id": "5efca703",
   "metadata": {},
   "outputs": [],
   "source": [
    "total_spend = df['Quantity'] * df['UnitPrice']"
   ]
  },
  {
   "cell_type": "code",
   "execution_count": 4,
   "id": "6afa2de9",
   "metadata": {},
   "outputs": [],
   "source": [
    "df.InvoiceDate = pd.to_datetime(df.InvoiceDate)\n",
    "\n"
   ]
  },
  {
   "cell_type": "code",
   "execution_count": 5,
   "id": "015ebfd6",
   "metadata": {},
   "outputs": [
    {
     "name": "stderr",
     "output_type": "stream",
     "text": [
      "C:\\Users\\pc\\AppData\\Local\\Temp\\ipykernel_14024\\1850283500.py:3: FutureWarning:\n",
      "\n",
      "Series.dt.weekofyear and Series.dt.week have been deprecated. Please use Series.dt.isocalendar().week instead.\n",
      "\n"
     ]
    }
   ],
   "source": [
    "df['Quarter'] = df.InvoiceDate.dt.quarter\n",
    "df['Month'] = df.InvoiceDate.dt.month\n",
    "df['Week'] = df.InvoiceDate.dt.week\n",
    "\n",
    "\n"
   ]
  },
  {
   "cell_type": "code",
   "execution_count": 6,
   "id": "e71c7e77",
   "metadata": {},
   "outputs": [
    {
     "data": {
      "text/html": [
       "<div>\n",
       "<style scoped>\n",
       "    .dataframe tbody tr th:only-of-type {\n",
       "        vertical-align: middle;\n",
       "    }\n",
       "\n",
       "    .dataframe tbody tr th {\n",
       "        vertical-align: top;\n",
       "    }\n",
       "\n",
       "    .dataframe thead th {\n",
       "        text-align: right;\n",
       "    }\n",
       "</style>\n",
       "<table border=\"1\" class=\"dataframe\">\n",
       "  <thead>\n",
       "    <tr style=\"text-align: right;\">\n",
       "      <th></th>\n",
       "      <th>InvoiceNo</th>\n",
       "      <th>StockCode</th>\n",
       "      <th>Description</th>\n",
       "      <th>Quantity</th>\n",
       "      <th>InvoiceDate</th>\n",
       "      <th>UnitPrice</th>\n",
       "      <th>CustomerID</th>\n",
       "      <th>Country</th>\n",
       "      <th>Quarter</th>\n",
       "      <th>Month</th>\n",
       "      <th>Week</th>\n",
       "    </tr>\n",
       "  </thead>\n",
       "  <tbody>\n",
       "    <tr>\n",
       "      <th>0</th>\n",
       "      <td>536365</td>\n",
       "      <td>85123A</td>\n",
       "      <td>WHITE HANGING HEART T-LIGHT HOLDER</td>\n",
       "      <td>6</td>\n",
       "      <td>2010-12-01 08:26:00</td>\n",
       "      <td>2.5</td>\n",
       "      <td>17850.0</td>\n",
       "      <td>United Kingdom</td>\n",
       "      <td>4</td>\n",
       "      <td>12</td>\n",
       "      <td>48</td>\n",
       "    </tr>\n",
       "    <tr>\n",
       "      <th>1</th>\n",
       "      <td>536365</td>\n",
       "      <td>71053</td>\n",
       "      <td>WHITE METAL LANTERN</td>\n",
       "      <td>6</td>\n",
       "      <td>2010-12-01 08:26:00</td>\n",
       "      <td>3.4</td>\n",
       "      <td>17850.0</td>\n",
       "      <td>United Kingdom</td>\n",
       "      <td>4</td>\n",
       "      <td>12</td>\n",
       "      <td>48</td>\n",
       "    </tr>\n",
       "    <tr>\n",
       "      <th>2</th>\n",
       "      <td>536365</td>\n",
       "      <td>84406B</td>\n",
       "      <td>CREAM CUPID HEARTS COAT HANGER</td>\n",
       "      <td>8</td>\n",
       "      <td>2010-12-01 08:26:00</td>\n",
       "      <td>2.8</td>\n",
       "      <td>17850.0</td>\n",
       "      <td>United Kingdom</td>\n",
       "      <td>4</td>\n",
       "      <td>12</td>\n",
       "      <td>48</td>\n",
       "    </tr>\n",
       "    <tr>\n",
       "      <th>3</th>\n",
       "      <td>536365</td>\n",
       "      <td>84029G</td>\n",
       "      <td>KNITTED UNION FLAG HOT WATER BOTTLE</td>\n",
       "      <td>6</td>\n",
       "      <td>2010-12-01 08:26:00</td>\n",
       "      <td>3.4</td>\n",
       "      <td>17850.0</td>\n",
       "      <td>United Kingdom</td>\n",
       "      <td>4</td>\n",
       "      <td>12</td>\n",
       "      <td>48</td>\n",
       "    </tr>\n",
       "    <tr>\n",
       "      <th>4</th>\n",
       "      <td>536365</td>\n",
       "      <td>84029E</td>\n",
       "      <td>RED WOOLLY HOTTIE WHITE HEART.</td>\n",
       "      <td>6</td>\n",
       "      <td>2010-12-01 08:26:00</td>\n",
       "      <td>3.4</td>\n",
       "      <td>17850.0</td>\n",
       "      <td>United Kingdom</td>\n",
       "      <td>4</td>\n",
       "      <td>12</td>\n",
       "      <td>48</td>\n",
       "    </tr>\n",
       "  </tbody>\n",
       "</table>\n",
       "</div>"
      ],
      "text/plain": [
       "  InvoiceNo StockCode                          Description  Quantity  \\\n",
       "0    536365    85123A   WHITE HANGING HEART T-LIGHT HOLDER         6   \n",
       "1    536365     71053                  WHITE METAL LANTERN         6   \n",
       "2    536365    84406B       CREAM CUPID HEARTS COAT HANGER         8   \n",
       "3    536365    84029G  KNITTED UNION FLAG HOT WATER BOTTLE         6   \n",
       "4    536365    84029E       RED WOOLLY HOTTIE WHITE HEART.         6   \n",
       "\n",
       "          InvoiceDate  UnitPrice  CustomerID         Country  Quarter  Month  \\\n",
       "0 2010-12-01 08:26:00        2.5     17850.0  United Kingdom        4     12   \n",
       "1 2010-12-01 08:26:00        3.4     17850.0  United Kingdom        4     12   \n",
       "2 2010-12-01 08:26:00        2.8     17850.0  United Kingdom        4     12   \n",
       "3 2010-12-01 08:26:00        3.4     17850.0  United Kingdom        4     12   \n",
       "4 2010-12-01 08:26:00        3.4     17850.0  United Kingdom        4     12   \n",
       "\n",
       "   Week  \n",
       "0    48  \n",
       "1    48  \n",
       "2    48  \n",
       "3    48  \n",
       "4    48  "
      ]
     },
     "execution_count": 6,
     "metadata": {},
     "output_type": "execute_result"
    }
   ],
   "source": [
    "df.head()"
   ]
  },
  {
   "cell_type": "code",
   "execution_count": 7,
   "id": "1793da65",
   "metadata": {},
   "outputs": [
    {
     "name": "stdout",
     "output_type": "stream",
     "text": [
      "<class 'pandas.core.frame.DataFrame'>\n",
      "RangeIndex: 541909 entries, 0 to 541908\n",
      "Data columns (total 11 columns):\n",
      " #   Column       Non-Null Count   Dtype         \n",
      "---  ------       --------------   -----         \n",
      " 0   InvoiceNo    541909 non-null  object        \n",
      " 1   StockCode    541909 non-null  object        \n",
      " 2   Description  540455 non-null  object        \n",
      " 3   Quantity     541909 non-null  int64         \n",
      " 4   InvoiceDate  541909 non-null  datetime64[ns]\n",
      " 5   UnitPrice    541909 non-null  float64       \n",
      " 6   CustomerID   406829 non-null  float64       \n",
      " 7   Country      541909 non-null  object        \n",
      " 8   Quarter      541909 non-null  int64         \n",
      " 9   Month        541909 non-null  int64         \n",
      " 10  Week         541909 non-null  int64         \n",
      "dtypes: datetime64[ns](1), float64(2), int64(4), object(4)\n",
      "memory usage: 45.5+ MB\n"
     ]
    }
   ],
   "source": [
    "df.info()"
   ]
  },
  {
   "cell_type": "code",
   "execution_count": 8,
   "id": "f1b97644",
   "metadata": {},
   "outputs": [],
   "source": [
    "total_spend = df['Quantity'] * df['UnitPrice']\n"
   ]
  },
  {
   "cell_type": "code",
   "execution_count": 9,
   "id": "4021524b",
   "metadata": {},
   "outputs": [],
   "source": [
    "df= df.assign(total_spend=total_spend.values)"
   ]
  },
  {
   "cell_type": "code",
   "execution_count": 10,
   "id": "6d64af21",
   "metadata": {},
   "outputs": [
    {
     "data": {
      "text/html": [
       "<div>\n",
       "<style scoped>\n",
       "    .dataframe tbody tr th:only-of-type {\n",
       "        vertical-align: middle;\n",
       "    }\n",
       "\n",
       "    .dataframe tbody tr th {\n",
       "        vertical-align: top;\n",
       "    }\n",
       "\n",
       "    .dataframe thead th {\n",
       "        text-align: right;\n",
       "    }\n",
       "</style>\n",
       "<table border=\"1\" class=\"dataframe\">\n",
       "  <thead>\n",
       "    <tr style=\"text-align: right;\">\n",
       "      <th></th>\n",
       "      <th>InvoiceNo</th>\n",
       "      <th>StockCode</th>\n",
       "      <th>Description</th>\n",
       "      <th>Quantity</th>\n",
       "      <th>InvoiceDate</th>\n",
       "      <th>UnitPrice</th>\n",
       "      <th>CustomerID</th>\n",
       "      <th>Country</th>\n",
       "      <th>Quarter</th>\n",
       "      <th>Month</th>\n",
       "      <th>Week</th>\n",
       "      <th>total_spend</th>\n",
       "    </tr>\n",
       "  </thead>\n",
       "  <tbody>\n",
       "    <tr>\n",
       "      <th>0</th>\n",
       "      <td>536365</td>\n",
       "      <td>85123A</td>\n",
       "      <td>WHITE HANGING HEART T-LIGHT HOLDER</td>\n",
       "      <td>6</td>\n",
       "      <td>2010-12-01 08:26:00</td>\n",
       "      <td>2.5</td>\n",
       "      <td>17850.0</td>\n",
       "      <td>United Kingdom</td>\n",
       "      <td>4</td>\n",
       "      <td>12</td>\n",
       "      <td>48</td>\n",
       "      <td>15.3</td>\n",
       "    </tr>\n",
       "    <tr>\n",
       "      <th>1</th>\n",
       "      <td>536365</td>\n",
       "      <td>71053</td>\n",
       "      <td>WHITE METAL LANTERN</td>\n",
       "      <td>6</td>\n",
       "      <td>2010-12-01 08:26:00</td>\n",
       "      <td>3.4</td>\n",
       "      <td>17850.0</td>\n",
       "      <td>United Kingdom</td>\n",
       "      <td>4</td>\n",
       "      <td>12</td>\n",
       "      <td>48</td>\n",
       "      <td>20.3</td>\n",
       "    </tr>\n",
       "    <tr>\n",
       "      <th>2</th>\n",
       "      <td>536365</td>\n",
       "      <td>84406B</td>\n",
       "      <td>CREAM CUPID HEARTS COAT HANGER</td>\n",
       "      <td>8</td>\n",
       "      <td>2010-12-01 08:26:00</td>\n",
       "      <td>2.8</td>\n",
       "      <td>17850.0</td>\n",
       "      <td>United Kingdom</td>\n",
       "      <td>4</td>\n",
       "      <td>12</td>\n",
       "      <td>48</td>\n",
       "      <td>22.0</td>\n",
       "    </tr>\n",
       "    <tr>\n",
       "      <th>3</th>\n",
       "      <td>536365</td>\n",
       "      <td>84029G</td>\n",
       "      <td>KNITTED UNION FLAG HOT WATER BOTTLE</td>\n",
       "      <td>6</td>\n",
       "      <td>2010-12-01 08:26:00</td>\n",
       "      <td>3.4</td>\n",
       "      <td>17850.0</td>\n",
       "      <td>United Kingdom</td>\n",
       "      <td>4</td>\n",
       "      <td>12</td>\n",
       "      <td>48</td>\n",
       "      <td>20.3</td>\n",
       "    </tr>\n",
       "    <tr>\n",
       "      <th>4</th>\n",
       "      <td>536365</td>\n",
       "      <td>84029E</td>\n",
       "      <td>RED WOOLLY HOTTIE WHITE HEART.</td>\n",
       "      <td>6</td>\n",
       "      <td>2010-12-01 08:26:00</td>\n",
       "      <td>3.4</td>\n",
       "      <td>17850.0</td>\n",
       "      <td>United Kingdom</td>\n",
       "      <td>4</td>\n",
       "      <td>12</td>\n",
       "      <td>48</td>\n",
       "      <td>20.3</td>\n",
       "    </tr>\n",
       "  </tbody>\n",
       "</table>\n",
       "</div>"
      ],
      "text/plain": [
       "  InvoiceNo StockCode                          Description  Quantity  \\\n",
       "0    536365    85123A   WHITE HANGING HEART T-LIGHT HOLDER         6   \n",
       "1    536365     71053                  WHITE METAL LANTERN         6   \n",
       "2    536365    84406B       CREAM CUPID HEARTS COAT HANGER         8   \n",
       "3    536365    84029G  KNITTED UNION FLAG HOT WATER BOTTLE         6   \n",
       "4    536365    84029E       RED WOOLLY HOTTIE WHITE HEART.         6   \n",
       "\n",
       "          InvoiceDate  UnitPrice  CustomerID         Country  Quarter  Month  \\\n",
       "0 2010-12-01 08:26:00        2.5     17850.0  United Kingdom        4     12   \n",
       "1 2010-12-01 08:26:00        3.4     17850.0  United Kingdom        4     12   \n",
       "2 2010-12-01 08:26:00        2.8     17850.0  United Kingdom        4     12   \n",
       "3 2010-12-01 08:26:00        3.4     17850.0  United Kingdom        4     12   \n",
       "4 2010-12-01 08:26:00        3.4     17850.0  United Kingdom        4     12   \n",
       "\n",
       "   Week  total_spend  \n",
       "0    48         15.3  \n",
       "1    48         20.3  \n",
       "2    48         22.0  \n",
       "3    48         20.3  \n",
       "4    48         20.3  "
      ]
     },
     "execution_count": 10,
     "metadata": {},
     "output_type": "execute_result"
    }
   ],
   "source": [
    "df.head()"
   ]
  },
  {
   "cell_type": "code",
   "execution_count": 11,
   "id": "832de992",
   "metadata": {},
   "outputs": [
    {
     "data": {
      "text/html": [
       "<div>\n",
       "<style scoped>\n",
       "    .dataframe tbody tr th:only-of-type {\n",
       "        vertical-align: middle;\n",
       "    }\n",
       "\n",
       "    .dataframe tbody tr th {\n",
       "        vertical-align: top;\n",
       "    }\n",
       "\n",
       "    .dataframe thead th {\n",
       "        text-align: right;\n",
       "    }\n",
       "</style>\n",
       "<table border=\"1\" class=\"dataframe\">\n",
       "  <thead>\n",
       "    <tr style=\"text-align: right;\">\n",
       "      <th></th>\n",
       "      <th>InvoiceNo</th>\n",
       "      <th>StockCode</th>\n",
       "      <th>Description</th>\n",
       "      <th>Quantity</th>\n",
       "      <th>InvoiceDate</th>\n",
       "      <th>UnitPrice</th>\n",
       "      <th>CustomerID</th>\n",
       "      <th>Country</th>\n",
       "      <th>Quarter</th>\n",
       "      <th>Month</th>\n",
       "      <th>Week</th>\n",
       "      <th>total_spend</th>\n",
       "    </tr>\n",
       "  </thead>\n",
       "  <tbody>\n",
       "    <tr>\n",
       "      <th>141</th>\n",
       "      <td>C536379</td>\n",
       "      <td>D</td>\n",
       "      <td>Discount</td>\n",
       "      <td>-1</td>\n",
       "      <td>2010-12-01 09:41:00</td>\n",
       "      <td>27.5</td>\n",
       "      <td>14527.0</td>\n",
       "      <td>United Kingdom</td>\n",
       "      <td>4</td>\n",
       "      <td>12</td>\n",
       "      <td>48</td>\n",
       "      <td>-27.5</td>\n",
       "    </tr>\n",
       "    <tr>\n",
       "      <th>154</th>\n",
       "      <td>C536383</td>\n",
       "      <td>35004C</td>\n",
       "      <td>SET OF 3 COLOURED  FLYING DUCKS</td>\n",
       "      <td>-1</td>\n",
       "      <td>2010-12-01 09:49:00</td>\n",
       "      <td>4.7</td>\n",
       "      <td>15311.0</td>\n",
       "      <td>United Kingdom</td>\n",
       "      <td>4</td>\n",
       "      <td>12</td>\n",
       "      <td>48</td>\n",
       "      <td>-4.7</td>\n",
       "    </tr>\n",
       "    <tr>\n",
       "      <th>235</th>\n",
       "      <td>C536391</td>\n",
       "      <td>22556</td>\n",
       "      <td>PLASTERS IN TIN CIRCUS PARADE</td>\n",
       "      <td>-12</td>\n",
       "      <td>2010-12-01 10:24:00</td>\n",
       "      <td>1.6</td>\n",
       "      <td>17548.0</td>\n",
       "      <td>United Kingdom</td>\n",
       "      <td>4</td>\n",
       "      <td>12</td>\n",
       "      <td>48</td>\n",
       "      <td>-19.8</td>\n",
       "    </tr>\n",
       "    <tr>\n",
       "      <th>236</th>\n",
       "      <td>C536391</td>\n",
       "      <td>21984</td>\n",
       "      <td>PACK OF 12 PINK PAISLEY TISSUES</td>\n",
       "      <td>-24</td>\n",
       "      <td>2010-12-01 10:24:00</td>\n",
       "      <td>0.3</td>\n",
       "      <td>17548.0</td>\n",
       "      <td>United Kingdom</td>\n",
       "      <td>4</td>\n",
       "      <td>12</td>\n",
       "      <td>48</td>\n",
       "      <td>-7.0</td>\n",
       "    </tr>\n",
       "    <tr>\n",
       "      <th>237</th>\n",
       "      <td>C536391</td>\n",
       "      <td>21983</td>\n",
       "      <td>PACK OF 12 BLUE PAISLEY TISSUES</td>\n",
       "      <td>-24</td>\n",
       "      <td>2010-12-01 10:24:00</td>\n",
       "      <td>0.3</td>\n",
       "      <td>17548.0</td>\n",
       "      <td>United Kingdom</td>\n",
       "      <td>4</td>\n",
       "      <td>12</td>\n",
       "      <td>48</td>\n",
       "      <td>-7.0</td>\n",
       "    </tr>\n",
       "    <tr>\n",
       "      <th>...</th>\n",
       "      <td>...</td>\n",
       "      <td>...</td>\n",
       "      <td>...</td>\n",
       "      <td>...</td>\n",
       "      <td>...</td>\n",
       "      <td>...</td>\n",
       "      <td>...</td>\n",
       "      <td>...</td>\n",
       "      <td>...</td>\n",
       "      <td>...</td>\n",
       "      <td>...</td>\n",
       "      <td>...</td>\n",
       "    </tr>\n",
       "    <tr>\n",
       "      <th>540449</th>\n",
       "      <td>C581490</td>\n",
       "      <td>23144</td>\n",
       "      <td>ZINC T-LIGHT HOLDER STARS SMALL</td>\n",
       "      <td>-11</td>\n",
       "      <td>2011-12-09 09:57:00</td>\n",
       "      <td>0.8</td>\n",
       "      <td>14397.0</td>\n",
       "      <td>United Kingdom</td>\n",
       "      <td>4</td>\n",
       "      <td>12</td>\n",
       "      <td>49</td>\n",
       "      <td>-9.1</td>\n",
       "    </tr>\n",
       "    <tr>\n",
       "      <th>541541</th>\n",
       "      <td>C581499</td>\n",
       "      <td>M</td>\n",
       "      <td>Manual</td>\n",
       "      <td>-1</td>\n",
       "      <td>2011-12-09 10:28:00</td>\n",
       "      <td>224.7</td>\n",
       "      <td>15498.0</td>\n",
       "      <td>United Kingdom</td>\n",
       "      <td>4</td>\n",
       "      <td>12</td>\n",
       "      <td>49</td>\n",
       "      <td>-224.7</td>\n",
       "    </tr>\n",
       "    <tr>\n",
       "      <th>541715</th>\n",
       "      <td>C581568</td>\n",
       "      <td>21258</td>\n",
       "      <td>VICTORIAN SEWING BOX LARGE</td>\n",
       "      <td>-5</td>\n",
       "      <td>2011-12-09 11:57:00</td>\n",
       "      <td>10.9</td>\n",
       "      <td>15311.0</td>\n",
       "      <td>United Kingdom</td>\n",
       "      <td>4</td>\n",
       "      <td>12</td>\n",
       "      <td>49</td>\n",
       "      <td>-54.8</td>\n",
       "    </tr>\n",
       "    <tr>\n",
       "      <th>541716</th>\n",
       "      <td>C581569</td>\n",
       "      <td>84978</td>\n",
       "      <td>HANGING HEART JAR T-LIGHT HOLDER</td>\n",
       "      <td>-1</td>\n",
       "      <td>2011-12-09 11:58:00</td>\n",
       "      <td>1.2</td>\n",
       "      <td>17315.0</td>\n",
       "      <td>United Kingdom</td>\n",
       "      <td>4</td>\n",
       "      <td>12</td>\n",
       "      <td>49</td>\n",
       "      <td>-1.2</td>\n",
       "    </tr>\n",
       "    <tr>\n",
       "      <th>541717</th>\n",
       "      <td>C581569</td>\n",
       "      <td>20979</td>\n",
       "      <td>36 PENCILS TUBE RED RETROSPOT</td>\n",
       "      <td>-5</td>\n",
       "      <td>2011-12-09 11:58:00</td>\n",
       "      <td>1.2</td>\n",
       "      <td>17315.0</td>\n",
       "      <td>United Kingdom</td>\n",
       "      <td>4</td>\n",
       "      <td>12</td>\n",
       "      <td>49</td>\n",
       "      <td>-6.2</td>\n",
       "    </tr>\n",
       "  </tbody>\n",
       "</table>\n",
       "<p>10624 rows × 12 columns</p>\n",
       "</div>"
      ],
      "text/plain": [
       "       InvoiceNo StockCode                       Description  Quantity  \\\n",
       "141      C536379         D                          Discount        -1   \n",
       "154      C536383    35004C   SET OF 3 COLOURED  FLYING DUCKS        -1   \n",
       "235      C536391     22556    PLASTERS IN TIN CIRCUS PARADE        -12   \n",
       "236      C536391     21984  PACK OF 12 PINK PAISLEY TISSUES        -24   \n",
       "237      C536391     21983  PACK OF 12 BLUE PAISLEY TISSUES        -24   \n",
       "...          ...       ...                               ...       ...   \n",
       "540449   C581490     23144   ZINC T-LIGHT HOLDER STARS SMALL       -11   \n",
       "541541   C581499         M                            Manual        -1   \n",
       "541715   C581568     21258        VICTORIAN SEWING BOX LARGE        -5   \n",
       "541716   C581569     84978  HANGING HEART JAR T-LIGHT HOLDER        -1   \n",
       "541717   C581569     20979     36 PENCILS TUBE RED RETROSPOT        -5   \n",
       "\n",
       "               InvoiceDate  UnitPrice  CustomerID         Country  Quarter  \\\n",
       "141    2010-12-01 09:41:00       27.5     14527.0  United Kingdom        4   \n",
       "154    2010-12-01 09:49:00        4.7     15311.0  United Kingdom        4   \n",
       "235    2010-12-01 10:24:00        1.6     17548.0  United Kingdom        4   \n",
       "236    2010-12-01 10:24:00        0.3     17548.0  United Kingdom        4   \n",
       "237    2010-12-01 10:24:00        0.3     17548.0  United Kingdom        4   \n",
       "...                    ...        ...         ...             ...      ...   \n",
       "540449 2011-12-09 09:57:00        0.8     14397.0  United Kingdom        4   \n",
       "541541 2011-12-09 10:28:00      224.7     15498.0  United Kingdom        4   \n",
       "541715 2011-12-09 11:57:00       10.9     15311.0  United Kingdom        4   \n",
       "541716 2011-12-09 11:58:00        1.2     17315.0  United Kingdom        4   \n",
       "541717 2011-12-09 11:58:00        1.2     17315.0  United Kingdom        4   \n",
       "\n",
       "        Month  Week  total_spend  \n",
       "141        12    48        -27.5  \n",
       "154        12    48         -4.7  \n",
       "235        12    48        -19.8  \n",
       "236        12    48         -7.0  \n",
       "237        12    48         -7.0  \n",
       "...       ...   ...          ...  \n",
       "540449     12    49         -9.1  \n",
       "541541     12    49       -224.7  \n",
       "541715     12    49        -54.8  \n",
       "541716     12    49         -1.2  \n",
       "541717     12    49         -6.2  \n",
       "\n",
       "[10624 rows x 12 columns]"
      ]
     },
     "execution_count": 11,
     "metadata": {},
     "output_type": "execute_result"
    }
   ],
   "source": [
    "df[(df.Quantity<0)]"
   ]
  },
  {
   "cell_type": "code",
   "execution_count": 12,
   "id": "986e377e",
   "metadata": {},
   "outputs": [
    {
     "name": "stdout",
     "output_type": "stream",
     "text": [
      "InoviceNo에 환불상품 개수는 9288 개입니다 데이터셋의 1.7139409015166756 % 를 차지합니다.\n"
     ]
    }
   ],
   "source": [
    "print('InoviceNo에 환불상품 개수는',df['InvoiceNo'].str.contains(\"C\").sum(), '개입니다 데이터셋의',(df['InvoiceNo'].str.contains(\"C\").sum()/len(df))*100, '% 를 차지합니다.')\n",
    "#print('There are:',df['InvoiceNo'].str.contains(\"C\").sum(), 'orders marked C, which contribute',(df['InvoiceNo'].str.contains(\"C\").sum()/len(df))*100, '% of the dataset.')\n"
   ]
  },
  {
   "cell_type": "code",
   "execution_count": 13,
   "id": "037fad9c",
   "metadata": {},
   "outputs": [
    {
     "data": {
      "text/html": [
       "<div>\n",
       "<style scoped>\n",
       "    .dataframe tbody tr th:only-of-type {\n",
       "        vertical-align: middle;\n",
       "    }\n",
       "\n",
       "    .dataframe tbody tr th {\n",
       "        vertical-align: top;\n",
       "    }\n",
       "\n",
       "    .dataframe thead th {\n",
       "        text-align: right;\n",
       "    }\n",
       "</style>\n",
       "<table border=\"1\" class=\"dataframe\">\n",
       "  <thead>\n",
       "    <tr style=\"text-align: right;\">\n",
       "      <th></th>\n",
       "      <th>InvoiceNo</th>\n",
       "      <th>StockCode</th>\n",
       "      <th>Description</th>\n",
       "      <th>Quantity</th>\n",
       "      <th>InvoiceDate</th>\n",
       "      <th>UnitPrice</th>\n",
       "      <th>CustomerID</th>\n",
       "      <th>Country</th>\n",
       "      <th>Quarter</th>\n",
       "      <th>Month</th>\n",
       "      <th>Week</th>\n",
       "      <th>total_spend</th>\n",
       "    </tr>\n",
       "  </thead>\n",
       "  <tbody>\n",
       "    <tr>\n",
       "      <th>141</th>\n",
       "      <td>C536379</td>\n",
       "      <td>D</td>\n",
       "      <td>Discount</td>\n",
       "      <td>-1</td>\n",
       "      <td>2010-12-01 09:41:00</td>\n",
       "      <td>27.5</td>\n",
       "      <td>14527.0</td>\n",
       "      <td>United Kingdom</td>\n",
       "      <td>4</td>\n",
       "      <td>12</td>\n",
       "      <td>48</td>\n",
       "      <td>-27.5</td>\n",
       "    </tr>\n",
       "    <tr>\n",
       "      <th>154</th>\n",
       "      <td>C536383</td>\n",
       "      <td>35004C</td>\n",
       "      <td>SET OF 3 COLOURED  FLYING DUCKS</td>\n",
       "      <td>-1</td>\n",
       "      <td>2010-12-01 09:49:00</td>\n",
       "      <td>4.7</td>\n",
       "      <td>15311.0</td>\n",
       "      <td>United Kingdom</td>\n",
       "      <td>4</td>\n",
       "      <td>12</td>\n",
       "      <td>48</td>\n",
       "      <td>-4.7</td>\n",
       "    </tr>\n",
       "    <tr>\n",
       "      <th>235</th>\n",
       "      <td>C536391</td>\n",
       "      <td>22556</td>\n",
       "      <td>PLASTERS IN TIN CIRCUS PARADE</td>\n",
       "      <td>-12</td>\n",
       "      <td>2010-12-01 10:24:00</td>\n",
       "      <td>1.6</td>\n",
       "      <td>17548.0</td>\n",
       "      <td>United Kingdom</td>\n",
       "      <td>4</td>\n",
       "      <td>12</td>\n",
       "      <td>48</td>\n",
       "      <td>-19.8</td>\n",
       "    </tr>\n",
       "    <tr>\n",
       "      <th>236</th>\n",
       "      <td>C536391</td>\n",
       "      <td>21984</td>\n",
       "      <td>PACK OF 12 PINK PAISLEY TISSUES</td>\n",
       "      <td>-24</td>\n",
       "      <td>2010-12-01 10:24:00</td>\n",
       "      <td>0.3</td>\n",
       "      <td>17548.0</td>\n",
       "      <td>United Kingdom</td>\n",
       "      <td>4</td>\n",
       "      <td>12</td>\n",
       "      <td>48</td>\n",
       "      <td>-7.0</td>\n",
       "    </tr>\n",
       "    <tr>\n",
       "      <th>237</th>\n",
       "      <td>C536391</td>\n",
       "      <td>21983</td>\n",
       "      <td>PACK OF 12 BLUE PAISLEY TISSUES</td>\n",
       "      <td>-24</td>\n",
       "      <td>2010-12-01 10:24:00</td>\n",
       "      <td>0.3</td>\n",
       "      <td>17548.0</td>\n",
       "      <td>United Kingdom</td>\n",
       "      <td>4</td>\n",
       "      <td>12</td>\n",
       "      <td>48</td>\n",
       "      <td>-7.0</td>\n",
       "    </tr>\n",
       "    <tr>\n",
       "      <th>238</th>\n",
       "      <td>C536391</td>\n",
       "      <td>21980</td>\n",
       "      <td>PACK OF 12 RED RETROSPOT TISSUES</td>\n",
       "      <td>-24</td>\n",
       "      <td>2010-12-01 10:24:00</td>\n",
       "      <td>0.3</td>\n",
       "      <td>17548.0</td>\n",
       "      <td>United Kingdom</td>\n",
       "      <td>4</td>\n",
       "      <td>12</td>\n",
       "      <td>48</td>\n",
       "      <td>-7.0</td>\n",
       "    </tr>\n",
       "    <tr>\n",
       "      <th>239</th>\n",
       "      <td>C536391</td>\n",
       "      <td>21484</td>\n",
       "      <td>CHICK GREY HOT WATER BOTTLE</td>\n",
       "      <td>-12</td>\n",
       "      <td>2010-12-01 10:24:00</td>\n",
       "      <td>3.5</td>\n",
       "      <td>17548.0</td>\n",
       "      <td>United Kingdom</td>\n",
       "      <td>4</td>\n",
       "      <td>12</td>\n",
       "      <td>48</td>\n",
       "      <td>-41.4</td>\n",
       "    </tr>\n",
       "    <tr>\n",
       "      <th>240</th>\n",
       "      <td>C536391</td>\n",
       "      <td>22557</td>\n",
       "      <td>PLASTERS IN TIN VINTAGE PAISLEY</td>\n",
       "      <td>-12</td>\n",
       "      <td>2010-12-01 10:24:00</td>\n",
       "      <td>1.6</td>\n",
       "      <td>17548.0</td>\n",
       "      <td>United Kingdom</td>\n",
       "      <td>4</td>\n",
       "      <td>12</td>\n",
       "      <td>48</td>\n",
       "      <td>-19.8</td>\n",
       "    </tr>\n",
       "    <tr>\n",
       "      <th>241</th>\n",
       "      <td>C536391</td>\n",
       "      <td>22553</td>\n",
       "      <td>PLASTERS IN TIN SKULLS</td>\n",
       "      <td>-24</td>\n",
       "      <td>2010-12-01 10:24:00</td>\n",
       "      <td>1.6</td>\n",
       "      <td>17548.0</td>\n",
       "      <td>United Kingdom</td>\n",
       "      <td>4</td>\n",
       "      <td>12</td>\n",
       "      <td>48</td>\n",
       "      <td>-39.6</td>\n",
       "    </tr>\n",
       "    <tr>\n",
       "      <th>939</th>\n",
       "      <td>C536506</td>\n",
       "      <td>22960</td>\n",
       "      <td>JAM MAKING SET WITH JARS</td>\n",
       "      <td>-6</td>\n",
       "      <td>2010-12-01 12:38:00</td>\n",
       "      <td>4.2</td>\n",
       "      <td>17897.0</td>\n",
       "      <td>United Kingdom</td>\n",
       "      <td>4</td>\n",
       "      <td>12</td>\n",
       "      <td>48</td>\n",
       "      <td>-25.5</td>\n",
       "    </tr>\n",
       "  </tbody>\n",
       "</table>\n",
       "</div>"
      ],
      "text/plain": [
       "    InvoiceNo StockCode                        Description  Quantity  \\\n",
       "141   C536379         D                           Discount        -1   \n",
       "154   C536383    35004C    SET OF 3 COLOURED  FLYING DUCKS        -1   \n",
       "235   C536391     22556     PLASTERS IN TIN CIRCUS PARADE        -12   \n",
       "236   C536391     21984   PACK OF 12 PINK PAISLEY TISSUES        -24   \n",
       "237   C536391     21983   PACK OF 12 BLUE PAISLEY TISSUES        -24   \n",
       "238   C536391     21980  PACK OF 12 RED RETROSPOT TISSUES        -24   \n",
       "239   C536391     21484        CHICK GREY HOT WATER BOTTLE       -12   \n",
       "240   C536391     22557   PLASTERS IN TIN VINTAGE PAISLEY        -12   \n",
       "241   C536391     22553             PLASTERS IN TIN SKULLS       -24   \n",
       "939   C536506     22960           JAM MAKING SET WITH JARS        -6   \n",
       "\n",
       "            InvoiceDate  UnitPrice  CustomerID         Country  Quarter  \\\n",
       "141 2010-12-01 09:41:00       27.5     14527.0  United Kingdom        4   \n",
       "154 2010-12-01 09:49:00        4.7     15311.0  United Kingdom        4   \n",
       "235 2010-12-01 10:24:00        1.6     17548.0  United Kingdom        4   \n",
       "236 2010-12-01 10:24:00        0.3     17548.0  United Kingdom        4   \n",
       "237 2010-12-01 10:24:00        0.3     17548.0  United Kingdom        4   \n",
       "238 2010-12-01 10:24:00        0.3     17548.0  United Kingdom        4   \n",
       "239 2010-12-01 10:24:00        3.5     17548.0  United Kingdom        4   \n",
       "240 2010-12-01 10:24:00        1.6     17548.0  United Kingdom        4   \n",
       "241 2010-12-01 10:24:00        1.6     17548.0  United Kingdom        4   \n",
       "939 2010-12-01 12:38:00        4.2     17897.0  United Kingdom        4   \n",
       "\n",
       "     Month  Week  total_spend  \n",
       "141     12    48        -27.5  \n",
       "154     12    48         -4.7  \n",
       "235     12    48        -19.8  \n",
       "236     12    48         -7.0  \n",
       "237     12    48         -7.0  \n",
       "238     12    48         -7.0  \n",
       "239     12    48        -41.4  \n",
       "240     12    48        -19.8  \n",
       "241     12    48        -39.6  \n",
       "939     12    48        -25.5  "
      ]
     },
     "execution_count": 13,
     "metadata": {},
     "output_type": "execute_result"
    }
   ],
   "source": [
    "cancelled_orders = df[df.InvoiceNo.str.contains(\"C\")]\n",
    "cancelled_orders.head(10)"
   ]
  },
  {
   "cell_type": "code",
   "execution_count": 14,
   "id": "0177df27",
   "metadata": {},
   "outputs": [],
   "source": [
    "c1_tmp = pd.DataFrame(cancelled_orders['InvoiceNo'])\n",
    "c2_tmp = cancelled_orders['InvoiceNo'].str.extract('(\\d+)').astype(int)\n",
    "c1_tmp['invoice2'] = c2_tmp"
   ]
  },
  {
   "cell_type": "code",
   "execution_count": 15,
   "id": "5359de2a",
   "metadata": {},
   "outputs": [],
   "source": [
    "df = df[~df['InvoiceNo'].isin(c1_tmp['InvoiceNo'])]\n",
    "df = df[~df['InvoiceNo'].isin(c1_tmp['invoice2'])]"
   ]
  },
  {
   "cell_type": "code",
   "execution_count": 16,
   "id": "6424fdfe",
   "metadata": {},
   "outputs": [
    {
     "name": "stdout",
     "output_type": "stream",
     "text": [
      "InoviceNo에 환불상품 개수는 0 개입니다 데이터셋의 0.0 % 를 차지합니다.\n"
     ]
    }
   ],
   "source": [
    "print('InoviceNo에 환불상품 개수는',df['InvoiceNo'].str.contains(\"C\").sum(), '개입니다 데이터셋의',(df['InvoiceNo'].str.contains(\"C\").sum()/len(df))*100, '% 를 차지합니다.')\n",
    "\n"
   ]
  },
  {
   "cell_type": "code",
   "execution_count": 17,
   "id": "5967f18a",
   "metadata": {},
   "outputs": [],
   "source": [
    "df = df.drop(df[df.Quantity < 0].index)"
   ]
  },
  {
   "cell_type": "code",
   "execution_count": 18,
   "id": "5fffe84b",
   "metadata": {},
   "outputs": [
    {
     "data": {
      "text/html": [
       "<div>\n",
       "<style scoped>\n",
       "    .dataframe tbody tr th:only-of-type {\n",
       "        vertical-align: middle;\n",
       "    }\n",
       "\n",
       "    .dataframe tbody tr th {\n",
       "        vertical-align: top;\n",
       "    }\n",
       "\n",
       "    .dataframe thead th {\n",
       "        text-align: right;\n",
       "    }\n",
       "</style>\n",
       "<table border=\"1\" class=\"dataframe\">\n",
       "  <thead>\n",
       "    <tr style=\"text-align: right;\">\n",
       "      <th></th>\n",
       "      <th>InvoiceNo</th>\n",
       "      <th>StockCode</th>\n",
       "      <th>Description</th>\n",
       "      <th>Quantity</th>\n",
       "      <th>InvoiceDate</th>\n",
       "      <th>UnitPrice</th>\n",
       "      <th>CustomerID</th>\n",
       "      <th>Country</th>\n",
       "      <th>Quarter</th>\n",
       "      <th>Month</th>\n",
       "      <th>Week</th>\n",
       "      <th>total_spend</th>\n",
       "    </tr>\n",
       "  </thead>\n",
       "  <tbody>\n",
       "    <tr>\n",
       "      <th>0</th>\n",
       "      <td>536365</td>\n",
       "      <td>85123A</td>\n",
       "      <td>WHITE HANGING HEART T-LIGHT HOLDER</td>\n",
       "      <td>6</td>\n",
       "      <td>2010-12-01 08:26:00</td>\n",
       "      <td>2.5</td>\n",
       "      <td>17850.0</td>\n",
       "      <td>United Kingdom</td>\n",
       "      <td>4</td>\n",
       "      <td>12</td>\n",
       "      <td>48</td>\n",
       "      <td>15.3</td>\n",
       "    </tr>\n",
       "    <tr>\n",
       "      <th>1</th>\n",
       "      <td>536365</td>\n",
       "      <td>71053</td>\n",
       "      <td>WHITE METAL LANTERN</td>\n",
       "      <td>6</td>\n",
       "      <td>2010-12-01 08:26:00</td>\n",
       "      <td>3.4</td>\n",
       "      <td>17850.0</td>\n",
       "      <td>United Kingdom</td>\n",
       "      <td>4</td>\n",
       "      <td>12</td>\n",
       "      <td>48</td>\n",
       "      <td>20.3</td>\n",
       "    </tr>\n",
       "    <tr>\n",
       "      <th>2</th>\n",
       "      <td>536365</td>\n",
       "      <td>84406B</td>\n",
       "      <td>CREAM CUPID HEARTS COAT HANGER</td>\n",
       "      <td>8</td>\n",
       "      <td>2010-12-01 08:26:00</td>\n",
       "      <td>2.8</td>\n",
       "      <td>17850.0</td>\n",
       "      <td>United Kingdom</td>\n",
       "      <td>4</td>\n",
       "      <td>12</td>\n",
       "      <td>48</td>\n",
       "      <td>22.0</td>\n",
       "    </tr>\n",
       "    <tr>\n",
       "      <th>3</th>\n",
       "      <td>536365</td>\n",
       "      <td>84029G</td>\n",
       "      <td>KNITTED UNION FLAG HOT WATER BOTTLE</td>\n",
       "      <td>6</td>\n",
       "      <td>2010-12-01 08:26:00</td>\n",
       "      <td>3.4</td>\n",
       "      <td>17850.0</td>\n",
       "      <td>United Kingdom</td>\n",
       "      <td>4</td>\n",
       "      <td>12</td>\n",
       "      <td>48</td>\n",
       "      <td>20.3</td>\n",
       "    </tr>\n",
       "    <tr>\n",
       "      <th>4</th>\n",
       "      <td>536365</td>\n",
       "      <td>84029E</td>\n",
       "      <td>RED WOOLLY HOTTIE WHITE HEART.</td>\n",
       "      <td>6</td>\n",
       "      <td>2010-12-01 08:26:00</td>\n",
       "      <td>3.4</td>\n",
       "      <td>17850.0</td>\n",
       "      <td>United Kingdom</td>\n",
       "      <td>4</td>\n",
       "      <td>12</td>\n",
       "      <td>48</td>\n",
       "      <td>20.3</td>\n",
       "    </tr>\n",
       "    <tr>\n",
       "      <th>...</th>\n",
       "      <td>...</td>\n",
       "      <td>...</td>\n",
       "      <td>...</td>\n",
       "      <td>...</td>\n",
       "      <td>...</td>\n",
       "      <td>...</td>\n",
       "      <td>...</td>\n",
       "      <td>...</td>\n",
       "      <td>...</td>\n",
       "      <td>...</td>\n",
       "      <td>...</td>\n",
       "      <td>...</td>\n",
       "    </tr>\n",
       "    <tr>\n",
       "      <th>541904</th>\n",
       "      <td>581587</td>\n",
       "      <td>22613</td>\n",
       "      <td>PACK OF 20 SPACEBOY NAPKINS</td>\n",
       "      <td>12</td>\n",
       "      <td>2011-12-09 12:50:00</td>\n",
       "      <td>0.8</td>\n",
       "      <td>12680.0</td>\n",
       "      <td>France</td>\n",
       "      <td>4</td>\n",
       "      <td>12</td>\n",
       "      <td>49</td>\n",
       "      <td>10.2</td>\n",
       "    </tr>\n",
       "    <tr>\n",
       "      <th>541905</th>\n",
       "      <td>581587</td>\n",
       "      <td>22899</td>\n",
       "      <td>CHILDREN'S APRON DOLLY GIRL</td>\n",
       "      <td>6</td>\n",
       "      <td>2011-12-09 12:50:00</td>\n",
       "      <td>2.1</td>\n",
       "      <td>12680.0</td>\n",
       "      <td>France</td>\n",
       "      <td>4</td>\n",
       "      <td>12</td>\n",
       "      <td>49</td>\n",
       "      <td>12.6</td>\n",
       "    </tr>\n",
       "    <tr>\n",
       "      <th>541906</th>\n",
       "      <td>581587</td>\n",
       "      <td>23254</td>\n",
       "      <td>CHILDRENS CUTLERY DOLLY GIRL</td>\n",
       "      <td>4</td>\n",
       "      <td>2011-12-09 12:50:00</td>\n",
       "      <td>4.2</td>\n",
       "      <td>12680.0</td>\n",
       "      <td>France</td>\n",
       "      <td>4</td>\n",
       "      <td>12</td>\n",
       "      <td>49</td>\n",
       "      <td>16.6</td>\n",
       "    </tr>\n",
       "    <tr>\n",
       "      <th>541907</th>\n",
       "      <td>581587</td>\n",
       "      <td>23255</td>\n",
       "      <td>CHILDRENS CUTLERY CIRCUS PARADE</td>\n",
       "      <td>4</td>\n",
       "      <td>2011-12-09 12:50:00</td>\n",
       "      <td>4.2</td>\n",
       "      <td>12680.0</td>\n",
       "      <td>France</td>\n",
       "      <td>4</td>\n",
       "      <td>12</td>\n",
       "      <td>49</td>\n",
       "      <td>16.6</td>\n",
       "    </tr>\n",
       "    <tr>\n",
       "      <th>541908</th>\n",
       "      <td>581587</td>\n",
       "      <td>22138</td>\n",
       "      <td>BAKING SET 9 PIECE RETROSPOT</td>\n",
       "      <td>3</td>\n",
       "      <td>2011-12-09 12:50:00</td>\n",
       "      <td>5.0</td>\n",
       "      <td>12680.0</td>\n",
       "      <td>France</td>\n",
       "      <td>4</td>\n",
       "      <td>12</td>\n",
       "      <td>49</td>\n",
       "      <td>14.9</td>\n",
       "    </tr>\n",
       "  </tbody>\n",
       "</table>\n",
       "<p>531285 rows × 12 columns</p>\n",
       "</div>"
      ],
      "text/plain": [
       "       InvoiceNo StockCode                          Description  Quantity  \\\n",
       "0         536365    85123A   WHITE HANGING HEART T-LIGHT HOLDER         6   \n",
       "1         536365     71053                  WHITE METAL LANTERN         6   \n",
       "2         536365    84406B       CREAM CUPID HEARTS COAT HANGER         8   \n",
       "3         536365    84029G  KNITTED UNION FLAG HOT WATER BOTTLE         6   \n",
       "4         536365    84029E       RED WOOLLY HOTTIE WHITE HEART.         6   \n",
       "...          ...       ...                                  ...       ...   \n",
       "541904    581587     22613          PACK OF 20 SPACEBOY NAPKINS        12   \n",
       "541905    581587     22899         CHILDREN'S APRON DOLLY GIRL          6   \n",
       "541906    581587     23254        CHILDRENS CUTLERY DOLLY GIRL          4   \n",
       "541907    581587     23255      CHILDRENS CUTLERY CIRCUS PARADE         4   \n",
       "541908    581587     22138        BAKING SET 9 PIECE RETROSPOT          3   \n",
       "\n",
       "               InvoiceDate  UnitPrice  CustomerID         Country  Quarter  \\\n",
       "0      2010-12-01 08:26:00        2.5     17850.0  United Kingdom        4   \n",
       "1      2010-12-01 08:26:00        3.4     17850.0  United Kingdom        4   \n",
       "2      2010-12-01 08:26:00        2.8     17850.0  United Kingdom        4   \n",
       "3      2010-12-01 08:26:00        3.4     17850.0  United Kingdom        4   \n",
       "4      2010-12-01 08:26:00        3.4     17850.0  United Kingdom        4   \n",
       "...                    ...        ...         ...             ...      ...   \n",
       "541904 2011-12-09 12:50:00        0.8     12680.0          France        4   \n",
       "541905 2011-12-09 12:50:00        2.1     12680.0          France        4   \n",
       "541906 2011-12-09 12:50:00        4.2     12680.0          France        4   \n",
       "541907 2011-12-09 12:50:00        4.2     12680.0          France        4   \n",
       "541908 2011-12-09 12:50:00        5.0     12680.0          France        4   \n",
       "\n",
       "        Month  Week  total_spend  \n",
       "0          12    48         15.3  \n",
       "1          12    48         20.3  \n",
       "2          12    48         22.0  \n",
       "3          12    48         20.3  \n",
       "4          12    48         20.3  \n",
       "...       ...   ...          ...  \n",
       "541904     12    49         10.2  \n",
       "541905     12    49         12.6  \n",
       "541906     12    49         16.6  \n",
       "541907     12    49         16.6  \n",
       "541908     12    49         14.9  \n",
       "\n",
       "[531285 rows x 12 columns]"
      ]
     },
     "execution_count": 18,
     "metadata": {},
     "output_type": "execute_result"
    }
   ],
   "source": [
    "df"
   ]
  },
  {
   "cell_type": "code",
   "execution_count": 19,
   "id": "0ec1b01f",
   "metadata": {},
   "outputs": [
    {
     "data": {
      "text/html": [
       "<div>\n",
       "<style scoped>\n",
       "    .dataframe tbody tr th:only-of-type {\n",
       "        vertical-align: middle;\n",
       "    }\n",
       "\n",
       "    .dataframe tbody tr th {\n",
       "        vertical-align: top;\n",
       "    }\n",
       "\n",
       "    .dataframe thead th {\n",
       "        text-align: right;\n",
       "    }\n",
       "</style>\n",
       "<table border=\"1\" class=\"dataframe\">\n",
       "  <thead>\n",
       "    <tr style=\"text-align: right;\">\n",
       "      <th></th>\n",
       "      <th>CustomerID</th>\n",
       "      <th>구매한 물품수</th>\n",
       "    </tr>\n",
       "  </thead>\n",
       "  <tbody>\n",
       "    <tr>\n",
       "      <th>4011</th>\n",
       "      <td>17841.0</td>\n",
       "      <td>7847</td>\n",
       "    </tr>\n",
       "    <tr>\n",
       "      <th>1880</th>\n",
       "      <td>14911.0</td>\n",
       "      <td>5677</td>\n",
       "    </tr>\n",
       "    <tr>\n",
       "      <th>1290</th>\n",
       "      <td>14096.0</td>\n",
       "      <td>5111</td>\n",
       "    </tr>\n",
       "    <tr>\n",
       "      <th>326</th>\n",
       "      <td>12748.0</td>\n",
       "      <td>4596</td>\n",
       "    </tr>\n",
       "    <tr>\n",
       "      <th>1662</th>\n",
       "      <td>14606.0</td>\n",
       "      <td>2700</td>\n",
       "    </tr>\n",
       "    <tr>\n",
       "      <th>2177</th>\n",
       "      <td>15311.0</td>\n",
       "      <td>2379</td>\n",
       "    </tr>\n",
       "    <tr>\n",
       "      <th>1690</th>\n",
       "      <td>14646.0</td>\n",
       "      <td>2080</td>\n",
       "    </tr>\n",
       "    <tr>\n",
       "      <th>562</th>\n",
       "      <td>13089.0</td>\n",
       "      <td>1818</td>\n",
       "    </tr>\n",
       "    <tr>\n",
       "      <th>691</th>\n",
       "      <td>13263.0</td>\n",
       "      <td>1677</td>\n",
       "    </tr>\n",
       "    <tr>\n",
       "      <th>1435</th>\n",
       "      <td>14298.0</td>\n",
       "      <td>1637</td>\n",
       "    </tr>\n",
       "  </tbody>\n",
       "</table>\n",
       "</div>"
      ],
      "text/plain": [
       "      CustomerID  구매한 물품수\n",
       "4011     17841.0     7847\n",
       "1880     14911.0     5677\n",
       "1290     14096.0     5111\n",
       "326      12748.0     4596\n",
       "1662     14606.0     2700\n",
       "2177     15311.0     2379\n",
       "1690     14646.0     2080\n",
       "562      13089.0     1818\n",
       "691      13263.0     1677\n",
       "1435     14298.0     1637"
      ]
     },
     "execution_count": 19,
     "metadata": {},
     "output_type": "execute_result"
    }
   ],
   "source": [
    "# group by customer ID to create a rank buyers by how many products they buy in total.\n",
    "temp = df.groupby(by=['CustomerID'], as_index=False)['InvoiceDate'].count()\n",
    "products_per_basket = temp.rename(columns = {'InvoiceDate':'구매한 물품수'})\n",
    "top_baskets = products_per_basket.sort_values('구매한 물품수', ascending=False)\n",
    "top_baskets.head(10)"
   ]
  },
  {
   "cell_type": "code",
   "execution_count": 20,
   "id": "5ebe8f22",
   "metadata": {},
   "outputs": [
    {
     "name": "stderr",
     "output_type": "stream",
     "text": [
      "C:\\Users\\pc\\AppData\\Local\\Temp\\ipykernel_14024\\2440457240.py:3: SettingWithCopyWarning:\n",
      "\n",
      "\n",
      "A value is trying to be set on a copy of a slice from a DataFrame\n",
      "\n",
      "See the caveats in the documentation: https://pandas.pydata.org/pandas-docs/stable/user_guide/indexing.html#returning-a-view-versus-a-copy\n",
      "\n",
      "C:\\Users\\pc\\AppData\\Local\\Temp\\ipykernel_14024\\2440457240.py:4: SettingWithCopyWarning:\n",
      "\n",
      "\n",
      "A value is trying to be set on a copy of a slice from a DataFrame.\n",
      "Try using .loc[row_indexer,col_indexer] = value instead\n",
      "\n",
      "See the caveats in the documentation: https://pandas.pydata.org/pandas-docs/stable/user_guide/indexing.html#returning-a-view-versus-a-copy\n",
      "\n"
     ]
    }
   ],
   "source": [
    "grouped = top_baskets[:50]\n",
    "grouped.reset_index(level=0, inplace=True)\n",
    "grouped.sort_values('구매한 물품수', ascending=False, inplace=True)\n",
    "grouped['CustomerID'] = grouped['CustomerID'].astype(str)"
   ]
  },
  {
   "cell_type": "code",
   "execution_count": 22,
   "id": "df08dafc",
   "metadata": {},
   "outputs": [
    {
     "name": "stderr",
     "output_type": "stream",
     "text": [
      "C:\\Users\\pc\\AppData\\Local\\Temp\\ipykernel_14024\\1867304219.py:1: FutureWarning:\n",
      "\n",
      "The default value of numeric_only in DataFrameGroupBy.sum is deprecated. In a future version, numeric_only will default to False. Either specify numeric_only or select only columns which should be valid for the function.\n",
      "\n"
     ]
    },
    {
     "data": {
      "image/png": "[encoded data removed]",
      "text/plain": [
       "<Figure size 1200x1000 with 1 Axes>"
      ]
     },
     "metadata": {},
     "output_type": "display_data"
    },
    {
     "data": {
      "application/vnd.plotly.v1+json": {
       "config": {
        "linkText": "Export to plot.ly",
        "plotlyServerURL": "https://plot.ly",
        "showLink": false
       },
       "data": [
        {
         "type": "bar",
         "x": [
          14646,
          18102,
          17450,
          16446,
          14911,
          12415,
          14156,
          17511,
          16029,
          12346,
          16684,
          14096,
          13694,
          15311,
          13089,
          17949,
          15769,
          15061,
          14298,
          14088,
          15749,
          12931,
          17841,
          15098,
          13798,
          16013,
          16422,
          12748,
          15838,
          17404,
          17389,
          13098,
          14680,
          13081,
          13408,
          17857,
          16333,
          13777,
          12753,
          12744,
          16210,
          17675,
          17381,
          15039,
          12471,
          12731,
          15159,
          12901,
          12678,
          14031
         ],
         "y": [
          280206.02,
          259657.3,
          194550.79,
          168472.5,
          143825.06,
          124914.53,
          117379.63,
          91062.38,
          81024.84,
          77183.6,
          66653.56,
          65164.79,
          65039.62,
          60767.9,
          58825.83,
          58510.48,
          56252.72,
          54534.14,
          51527.3,
          50491.81,
          44534.3,
          42055.96,
          40991.57,
          39916.5,
          37153.85,
          37130.6,
          34684.4,
          33719.73,
          33643.08,
          31906.82,
          31833.68,
          28882.44,
          28754.11,
          28337.38,
          28117.04,
          26879.04,
          26626.8,
          25977.16,
          21429.39,
          21279.29,
          21086.3,
          20374.28,
          20275.61,
          19914.44,
          19824.05,
          18895.91,
          18641.010000000002,
          17654.54,
          17628.46,
          17286.86
         ]
        }
       ],
       "layout": {
        "template": {
         "data": {
          "bar": [
           {
            "error_x": {
             "color": "#2a3f5f"
            },
            "error_y": {
             "color": "#2a3f5f"
            },
            "marker": {
             "line": {
              "color": "#E5ECF6",
              "width": 0.5
             },
             "pattern": {
              "fillmode": "overlay",
              "size": 10,
              "solidity": 0.2
             }
            },
            "type": "bar"
           }
          ],
          "barpolar": [
           {
            "marker": {
             "line": {
              "color": "#E5ECF6",
              "width": 0.5
             },
             "pattern": {
              "fillmode": "overlay",
              "size": 10,
              "solidity": 0.2
             }
            },
            "type": "barpolar"
           }
          ],
          "carpet": [
           {
            "aaxis": {
             "endlinecolor": "#2a3f5f",
             "gridcolor": "white",
             "linecolor": "white",
             "minorgridcolor": "white",
             "startlinecolor": "#2a3f5f"
            },
            "baxis": {
             "endlinecolor": "#2a3f5f",
             "gridcolor": "white",
             "linecolor": "white",
             "minorgridcolor": "white",
             "startlinecolor": "#2a3f5f"
            },
            "type": "carpet"
           }
          ],
          "choropleth": [
           {
            "colorbar": {
             "outlinewidth": 0,
             "ticks": ""
            },
            "type": "choropleth"
           }
          ],
          "contour": [
           {
            "colorbar": {
             "outlinewidth": 0,
             "ticks": ""
            },
            "colorscale": [
             [
              0,
              "#0d0887"
             ],
             [
              0.1111111111111111,
              "#46039f"
             ],
             [
              0.2222222222222222,
              "#7201a8"
             ],
             [
              0.3333333333333333,
              "#9c179e"
             ],
             [
              0.4444444444444444,
              "#bd3786"
             ],
             [
              0.5555555555555556,
              "#d8576b"
             ],
             [
              0.6666666666666666,
              "#ed7953"
             ],
             [
              0.7777777777777778,
              "#fb9f3a"
             ],
             [
              0.8888888888888888,
              "#fdca26"
             ],
             [
              1,
              "#f0f921"
             ]
            ],
            "type": "contour"
           }
          ],
          "contourcarpet": [
           {
            "colorbar": {
             "outlinewidth": 0,
             "ticks": ""
            },
            "type": "contourcarpet"
           }
          ],
          "heatmap": [
           {
            "colorbar": {
             "outlinewidth": 0,
             "ticks": ""
            },
            "colorscale": [
             [
              0,
              "#0d0887"
             ],
             [
              0.1111111111111111,
              "#46039f"
             ],
             [
              0.2222222222222222,
              "#7201a8"
             ],
             [
              0.3333333333333333,
              "#9c179e"
             ],
             [
              0.4444444444444444,
              "#bd3786"
             ],
             [
              0.5555555555555556,
              "#d8576b"
             ],
             [
              0.6666666666666666,
              "#ed7953"
             ],
             [
              0.7777777777777778,
              "#fb9f3a"
             ],
             [
              0.8888888888888888,
              "#fdca26"
             ],
             [
              1,
              "#f0f921"
             ]
            ],
            "type": "heatmap"
           }
          ],
          "heatmapgl": [
           {
            "colorbar": {
             "outlinewidth": 0,
             "ticks": ""
            },
            "colorscale": [
             [
              0,
              "#0d0887"
             ],
             [
              0.1111111111111111,
              "#46039f"
             ],
             [
              0.2222222222222222,
              "#7201a8"
             ],
             [
              0.3333333333333333,
              "#9c179e"
             ],
             [
              0.4444444444444444,
              "#bd3786"
             ],
             [
              0.5555555555555556,
              "#d8576b"
             ],
             [
              0.6666666666666666,
              "#ed7953"
             ],
             [
              0.7777777777777778,
              "#fb9f3a"
             ],
             [
              0.8888888888888888,
              "#fdca26"
             ],
             [
              1,
              "#f0f921"
             ]
            ],
            "type": "heatmapgl"
           }
          ],
          "histogram": [
           {
            "marker": {
             "pattern": {
              "fillmode": "overlay",
              "size": 10,
              "solidity": 0.2
             }
            },
            "type": "histogram"
           }
          ],
          "histogram2d": [
           {
            "colorbar": {
             "outlinewidth": 0,
             "ticks": ""
            },
            "colorscale": [
             [
              0,
              "#0d0887"
             ],
             [
              0.1111111111111111,
              "#46039f"
             ],
             [
              0.2222222222222222,
              "#7201a8"
             ],
             [
              0.3333333333333333,
              "#9c179e"
             ],
             [
              0.4444444444444444,
              "#bd3786"
             ],
             [
              0.5555555555555556,
              "#d8576b"
             ],
             [
              0.6666666666666666,
              "#ed7953"
             ],
             [
              0.7777777777777778,
              "#fb9f3a"
             ],
             [
              0.8888888888888888,
              "#fdca26"
             ],
             [
              1,
              "#f0f921"
             ]
            ],
            "type": "histogram2d"
           }
          ],
          "histogram2dcontour": [
           {
            "colorbar": {
             "outlinewidth": 0,
             "ticks": ""
            },
            "colorscale": [
             [
              0,
              "#0d0887"
             ],
             [
              0.1111111111111111,
              "#46039f"
             ],
             [
              0.2222222222222222,
              "#7201a8"
             ],
             [
              0.3333333333333333,
              "#9c179e"
             ],
             [
              0.4444444444444444,
              "#bd3786"
             ],
             [
              0.5555555555555556,
              "#d8576b"
             ],
             [
              0.6666666666666666,
              "#ed7953"
             ],
             [
              0.7777777777777778,
              "#fb9f3a"
             ],
             [
              0.8888888888888888,
              "#fdca26"
             ],
             [
              1,
              "#f0f921"
             ]
            ],
            "type": "histogram2dcontour"
           }
          ],
          "mesh3d": [
           {
            "colorbar": {
             "outlinewidth": 0,
             "ticks": ""
            },
            "type": "mesh3d"
           }
          ],
          "parcoords": [
           {
            "line": {
             "colorbar": {
              "outlinewidth": 0,
              "ticks": ""
             }
            },
            "type": "parcoords"
           }
          ],
          "pie": [
           {
            "automargin": true,
            "type": "pie"
           }
          ],
          "scatter": [
           {
            "fillpattern": {
             "fillmode": "overlay",
             "size": 10,
             "solidity": 0.2
            },
            "type": "scatter"
           }
          ],
          "scatter3d": [
           {
            "line": {
             "colorbar": {
              "outlinewidth": 0,
              "ticks": ""
             }
            },
            "marker": {
             "colorbar": {
              "outlinewidth": 0,
              "ticks": ""
             }
            },
            "type": "scatter3d"
           }
          ],
          "scattercarpet": [
           {
            "marker": {
             "colorbar": {
              "outlinewidth": 0,
              "ticks": ""
             }
            },
            "type": "scattercarpet"
           }
          ],
          "scattergeo": [
           {
            "marker": {
             "colorbar": {
              "outlinewidth": 0,
              "ticks": ""
             }
            },
            "type": "scattergeo"
           }
          ],
          "scattergl": [
           {
            "marker": {
             "colorbar": {
              "outlinewidth": 0,
              "ticks": ""
             }
            },
            "type": "scattergl"
           }
          ],
          "scattermapbox": [
           {
            "marker": {
             "colorbar": {
              "outlinewidth": 0,
              "ticks": ""
             }
            },
            "type": "scattermapbox"
           }
          ],
          "scatterpolar": [
           {
            "marker": {
             "colorbar": {
              "outlinewidth": 0,
              "ticks": ""
             }
            },
            "type": "scatterpolar"
           }
          ],
          "scatterpolargl": [
           {
            "marker": {
             "colorbar": {
              "outlinewidth": 0,
              "ticks": ""
             }
            },
            "type": "scatterpolargl"
           }
          ],
          "scatterternary": [
           {
            "marker": {
             "colorbar": {
              "outlinewidth": 0,
              "ticks": ""
             }
            },
            "type": "scatterternary"
           }
          ],
          "surface": [
           {
            "colorbar": {
             "outlinewidth": 0,
             "ticks": ""
            },
            "colorscale": [
             [
              0,
              "#0d0887"
             ],
             [
              0.1111111111111111,
              "#46039f"
             ],
             [
              0.2222222222222222,
              "#7201a8"
             ],
             [
              0.3333333333333333,
              "#9c179e"
             ],
             [
              0.4444444444444444,
              "#bd3786"
             ],
             [
              0.5555555555555556,
              "#d8576b"
             ],
             [
              0.6666666666666666,
              "#ed7953"
             ],
             [
              0.7777777777777778,
              "#fb9f3a"
             ],
             [
              0.8888888888888888,
              "#fdca26"
             ],
             [
              1,
              "#f0f921"
             ]
            ],
            "type": "surface"
           }
          ],
          "table": [
           {
            "cells": {
             "fill": {
              "color": "#EBF0F8"
             },
             "line": {
              "color": "white"
             }
            },
            "header": {
             "fill": {
              "color": "#C8D4E3"
             },
             "line": {
              "color": "white"
             }
            },
            "type": "table"
           }
          ]
         },
         "layout": {
          "annotationdefaults": {
           "arrowcolor": "#2a3f5f",
           "arrowhead": 0,
           "arrowwidth": 1
          },
          "autotypenumbers": "strict",
          "coloraxis": {
           "colorbar": {
            "outlinewidth": 0,
            "ticks": ""
           }
          },
          "colorscale": {
           "diverging": [
            [
             0,
             "#8e0152"
            ],
            [
             0.1,
             "#c51b7d"
            ],
            [
             0.2,
             "#de77ae"
            ],
            [
             0.3,
             "#f1b6da"
            ],
            [
             0.4,
             "#fde0ef"
            ],
            [
             0.5,
             "#f7f7f7"
            ],
            [
             0.6,
             "#e6f5d0"
            ],
            [
             0.7,
             "#b8e186"
            ],
            [
             0.8,
             "#7fbc41"
            ],
            [
             0.9,
             "#4d9221"
            ],
            [
             1,
             "#276419"
            ]
           ],
           "sequential": [
            [
             0,
             "#0d0887"
            ],
            [
             0.1111111111111111,
             "#46039f"
            ],
            [
             0.2222222222222222,
             "#7201a8"
            ],
            [
             0.3333333333333333,
             "#9c179e"
            ],
            [
             0.4444444444444444,
             "#bd3786"
            ],
            [
             0.5555555555555556,
             "#d8576b"
            ],
            [
             0.6666666666666666,
             "#ed7953"
            ],
            [
             0.7777777777777778,
             "#fb9f3a"
            ],
            [
             0.8888888888888888,
             "#fdca26"
            ],
            [
             1,
             "#f0f921"
            ]
           ],
           "sequentialminus": [
            [
             0,
             "#0d0887"
            ],
            [
             0.1111111111111111,
             "#46039f"
            ],
            [
             0.2222222222222222,
             "#7201a8"
            ],
            [
             0.3333333333333333,
             "#9c179e"
            ],
            [
             0.4444444444444444,
             "#bd3786"
            ],
            [
             0.5555555555555556,
             "#d8576b"
            ],
            [
             0.6666666666666666,
             "#ed7953"
            ],
            [
             0.7777777777777778,
             "#fb9f3a"
            ],
            [
             0.8888888888888888,
             "#fdca26"
            ],
            [
             1,
             "#f0f921"
            ]
           ]
          },
          "colorway": [
           "#636efa",
           "#EF553B",
           "#00cc96",
           "#ab63fa",
           "#FFA15A",
           "#19d3f3",
           "#FF6692",
           "#B6E880",
           "#FF97FF",
           "#FECB52"
          ],
          "font": {
           "color": "#2a3f5f"
          },
          "geo": {
           "bgcolor": "white",
           "lakecolor": "white",
           "landcolor": "#E5ECF6",
           "showlakes": true,
           "showland": true,
           "subunitcolor": "white"
          },
          "hoverlabel": {
           "align": "left"
          },
          "hovermode": "closest",
          "mapbox": {
           "style": "light"
          },
          "paper_bgcolor": "white",
          "plot_bgcolor": "#E5ECF6",
          "polar": {
           "angularaxis": {
            "gridcolor": "white",
            "linecolor": "white",
            "ticks": ""
           },
           "bgcolor": "#E5ECF6",
           "radialaxis": {
            "gridcolor": "white",
            "linecolor": "white",
            "ticks": ""
           }
          },
          "scene": {
           "xaxis": {
            "backgroundcolor": "#E5ECF6",
            "gridcolor": "white",
            "gridwidth": 2,
            "linecolor": "white",
            "showbackground": true,
            "ticks": "",
            "zerolinecolor": "white"
           },
           "yaxis": {
            "backgroundcolor": "#E5ECF6",
            "gridcolor": "white",
            "gridwidth": 2,
            "linecolor": "white",
            "showbackground": true,
            "ticks": "",
            "zerolinecolor": "white"
           },
           "zaxis": {
            "backgroundcolor": "#E5ECF6",
            "gridcolor": "white",
            "gridwidth": 2,
            "linecolor": "white",
            "showbackground": true,
            "ticks": "",
            "zerolinecolor": "white"
           }
          },
          "shapedefaults": {
           "line": {
            "color": "#2a3f5f"
           }
          },
          "ternary": {
           "aaxis": {
            "gridcolor": "white",
            "linecolor": "white",
            "ticks": ""
           },
           "baxis": {
            "gridcolor": "white",
            "linecolor": "white",
            "ticks": ""
           },
           "bgcolor": "#E5ECF6",
           "caxis": {
            "gridcolor": "white",
            "linecolor": "white",
            "ticks": ""
           }
          },
          "title": {
           "x": 0.05
          },
          "xaxis": {
           "automargin": true,
           "gridcolor": "white",
           "linecolor": "white",
           "ticks": "",
           "title": {
            "standoff": 15
           },
           "zerolinecolor": "white",
           "zerolinewidth": 2
          },
          "yaxis": {
           "automargin": true,
           "gridcolor": "white",
           "linecolor": "white",
           "ticks": "",
           "title": {
            "standoff": 15
           },
           "zerolinecolor": "white",
           "zerolinewidth": 2
          }
         }
        },
        "xaxis": {
         "title": {
          "text": "총 지출"
         },
         "type": "category"
        },
        "yaxis": {
         "autorange": true,
         "title": {
          "text": "상위 50 customers"
         }
        }
       }
      },
      "text/html": [
       "<div>                            <div id=\"cc422936-bda9-426d-900b-f70fd763aa5f\" class=\"plotly-graph-div\" style=\"height:525px; width:100%;\"></div>            <script type=\"text/javascript\">                require([\"plotly\"], function(Plotly) {                    window.PLOTLYENV=window.PLOTLYENV || {};                                    if (document.getElementById(\"cc422936-bda9-426d-900b-f70fd763aa5f\")) {                    Plotly.newPlot(                        \"cc422936-bda9-426d-900b-f70fd763aa5f\",                        [{\"x\":[14646.0,18102.0,17450.0,16446.0,14911.0,12415.0,14156.0,17511.0,16029.0,12346.0,16684.0,14096.0,13694.0,15311.0,13089.0,17949.0,15769.0,15061.0,14298.0,14088.0,15749.0,12931.0,17841.0,15098.0,13798.0,16013.0,16422.0,12748.0,15838.0,17404.0,17389.0,13098.0,14680.0,13081.0,13408.0,17857.0,16333.0,13777.0,12753.0,12744.0,16210.0,17675.0,17381.0,15039.0,12471.0,12731.0,15159.0,12901.0,12678.0,14031.0],\"y\":[280206.02,259657.3,194550.79,168472.5,143825.06,124914.53,117379.63,91062.38,81024.84,77183.6,66653.56,65164.79,65039.62,60767.9,58825.83,58510.48,56252.72,54534.14,51527.3,50491.81,44534.3,42055.96,40991.57,39916.5,37153.85,37130.6,34684.4,33719.73,33643.08,31906.82,31833.68,28882.44,28754.11,28337.38,28117.04,26879.04,26626.8,25977.16,21429.39,21279.29,21086.3,20374.28,20275.61,19914.44,19824.05,18895.91,18641.010000000002,17654.54,17628.46,17286.86],\"type\":\"bar\"}],                        {\"template\":{\"data\":{\"barpolar\":[{\"marker\":{\"line\":{\"color\":\"#E5ECF6\",\"width\":0.5},\"pattern\":{\"fillmode\":\"overlay\",\"size\":10,\"solidity\":0.2}},\"type\":\"barpolar\"}],\"bar\":[{\"error_x\":{\"color\":\"#2a3f5f\"},\"error_y\":{\"color\":\"#2a3f5f\"},\"marker\":{\"line\":{\"color\":\"#E5ECF6\",\"width\":0.5},\"pattern\":{\"fillmode\":\"overlay\",\"size\":10,\"solidity\":0.2}},\"type\":\"bar\"}],\"carpet\":[{\"aaxis\":{\"endlinecolor\":\"#2a3f5f\",\"gridcolor\":\"white\",\"linecolor\":\"white\",\"minorgridcolor\":\"white\",\"startlinecolor\":\"#2a3f5f\"},\"baxis\":{\"endlinecolor\":\"#2a3f5f\",\"gridcolor\":\"white\",\"linecolor\":\"white\",\"minorgridcolor\":\"white\",\"startlinecolor\":\"#2a3f5f\"},\"type\":\"carpet\"}],\"choropleth\":[{\"colorbar\":{\"outlinewidth\":0,\"ticks\":\"\"},\"type\":\"choropleth\"}],\"contourcarpet\":[{\"colorbar\":{\"outlinewidth\":0,\"ticks\":\"\"},\"type\":\"contourcarpet\"}],\"contour\":[{\"colorbar\":{\"outlinewidth\":0,\"ticks\":\"\"},\"colorscale\":[[0.0,\"#0d0887\"],[0.1111111111111111,\"#46039f\"],[0.2222222222222222,\"#7201a8\"],[0.3333333333333333,\"#9c179e\"],[0.4444444444444444,\"#bd3786\"],[0.5555555555555556,\"#d8576b\"],[0.6666666666666666,\"#ed7953\"],[0.7777777777777778,\"#fb9f3a\"],[0.8888888888888888,\"#fdca26\"],[1.0,\"#f0f921\"]],\"type\":\"contour\"}],\"heatmapgl\":[{\"colorbar\":{\"outlinewidth\":0,\"ticks\":\"\"},\"colorscale\":[[0.0,\"#0d0887\"],[0.1111111111111111,\"#46039f\"],[0.2222222222222222,\"#7201a8\"],[0.3333333333333333,\"#9c179e\"],[0.4444444444444444,\"#bd3786\"],[0.5555555555555556,\"#d8576b\"],[0.6666666666666666,\"#ed7953\"],[0.7777777777777778,\"#fb9f3a\"],[0.8888888888888888,\"#fdca26\"],[1.0,\"#f0f921\"]],\"type\":\"heatmapgl\"}],\"heatmap\":[{\"colorbar\":{\"outlinewidth\":0,\"ticks\":\"\"},\"colorscale\":[[0.0,\"#0d0887\"],[0.1111111111111111,\"#46039f\"],[0.2222222222222222,\"#7201a8\"],[0.3333333333333333,\"#9c179e\"],[0.4444444444444444,\"#bd3786\"],[0.5555555555555556,\"#d8576b\"],[0.6666666666666666,\"#ed7953\"],[0.7777777777777778,\"#fb9f3a\"],[0.8888888888888888,\"#fdca26\"],[1.0,\"#f0f921\"]],\"type\":\"heatmap\"}],\"histogram2dcontour\":[{\"colorbar\":{\"outlinewidth\":0,\"ticks\":\"\"},\"colorscale\":[[0.0,\"#0d0887\"],[0.1111111111111111,\"#46039f\"],[0.2222222222222222,\"#7201a8\"],[0.3333333333333333,\"#9c179e\"],[0.4444444444444444,\"#bd3786\"],[0.5555555555555556,\"#d8576b\"],[0.6666666666666666,\"#ed7953\"],[0.7777777777777778,\"#fb9f3a\"],[0.8888888888888888,\"#fdca26\"],[1.0,\"#f0f921\"]],\"type\":\"histogram2dcontour\"}],\"histogram2d\":[{\"colorbar\":{\"outlinewidth\":0,\"ticks\":\"\"},\"colorscale\":[[0.0,\"#0d0887\"],[0.1111111111111111,\"#46039f\"],[0.2222222222222222,\"#7201a8\"],[0.3333333333333333,\"#9c179e\"],[0.4444444444444444,\"#bd3786\"],[0.5555555555555556,\"#d8576b\"],[0.6666666666666666,\"#ed7953\"],[0.7777777777777778,\"#fb9f3a\"],[0.8888888888888888,\"#fdca26\"],[1.0,\"#f0f921\"]],\"type\":\"histogram2d\"}],\"histogram\":[{\"marker\":{\"pattern\":{\"fillmode\":\"overlay\",\"size\":10,\"solidity\":0.2}},\"type\":\"histogram\"}],\"mesh3d\":[{\"colorbar\":{\"outlinewidth\":0,\"ticks\":\"\"},\"type\":\"mesh3d\"}],\"parcoords\":[{\"line\":{\"colorbar\":{\"outlinewidth\":0,\"ticks\":\"\"}},\"type\":\"parcoords\"}],\"pie\":[{\"automargin\":true,\"type\":\"pie\"}],\"scatter3d\":[{\"line\":{\"colorbar\":{\"outlinewidth\":0,\"ticks\":\"\"}},\"marker\":{\"colorbar\":{\"outlinewidth\":0,\"ticks\":\"\"}},\"type\":\"scatter3d\"}],\"scattercarpet\":[{\"marker\":{\"colorbar\":{\"outlinewidth\":0,\"ticks\":\"\"}},\"type\":\"scattercarpet\"}],\"scattergeo\":[{\"marker\":{\"colorbar\":{\"outlinewidth\":0,\"ticks\":\"\"}},\"type\":\"scattergeo\"}],\"scattergl\":[{\"marker\":{\"colorbar\":{\"outlinewidth\":0,\"ticks\":\"\"}},\"type\":\"scattergl\"}],\"scattermapbox\":[{\"marker\":{\"colorbar\":{\"outlinewidth\":0,\"ticks\":\"\"}},\"type\":\"scattermapbox\"}],\"scatterpolargl\":[{\"marker\":{\"colorbar\":{\"outlinewidth\":0,\"ticks\":\"\"}},\"type\":\"scatterpolargl\"}],\"scatterpolar\":[{\"marker\":{\"colorbar\":{\"outlinewidth\":0,\"ticks\":\"\"}},\"type\":\"scatterpolar\"}],\"scatter\":[{\"fillpattern\":{\"fillmode\":\"overlay\",\"size\":10,\"solidity\":0.2},\"type\":\"scatter\"}],\"scatterternary\":[{\"marker\":{\"colorbar\":{\"outlinewidth\":0,\"ticks\":\"\"}},\"type\":\"scatterternary\"}],\"surface\":[{\"colorbar\":{\"outlinewidth\":0,\"ticks\":\"\"},\"colorscale\":[[0.0,\"#0d0887\"],[0.1111111111111111,\"#46039f\"],[0.2222222222222222,\"#7201a8\"],[0.3333333333333333,\"#9c179e\"],[0.4444444444444444,\"#bd3786\"],[0.5555555555555556,\"#d8576b\"],[0.6666666666666666,\"#ed7953\"],[0.7777777777777778,\"#fb9f3a\"],[0.8888888888888888,\"#fdca26\"],[1.0,\"#f0f921\"]],\"type\":\"surface\"}],\"table\":[{\"cells\":{\"fill\":{\"color\":\"#EBF0F8\"},\"line\":{\"color\":\"white\"}},\"header\":{\"fill\":{\"color\":\"#C8D4E3\"},\"line\":{\"color\":\"white\"}},\"type\":\"table\"}]},\"layout\":{\"annotationdefaults\":{\"arrowcolor\":\"#2a3f5f\",\"arrowhead\":0,\"arrowwidth\":1},\"autotypenumbers\":\"strict\",\"coloraxis\":{\"colorbar\":{\"outlinewidth\":0,\"ticks\":\"\"}},\"colorscale\":{\"diverging\":[[0,\"#8e0152\"],[0.1,\"#c51b7d\"],[0.2,\"#de77ae\"],[0.3,\"#f1b6da\"],[0.4,\"#fde0ef\"],[0.5,\"#f7f7f7\"],[0.6,\"#e6f5d0\"],[0.7,\"#b8e186\"],[0.8,\"#7fbc41\"],[0.9,\"#4d9221\"],[1,\"#276419\"]],\"sequential\":[[0.0,\"#0d0887\"],[0.1111111111111111,\"#46039f\"],[0.2222222222222222,\"#7201a8\"],[0.3333333333333333,\"#9c179e\"],[0.4444444444444444,\"#bd3786\"],[0.5555555555555556,\"#d8576b\"],[0.6666666666666666,\"#ed7953\"],[0.7777777777777778,\"#fb9f3a\"],[0.8888888888888888,\"#fdca26\"],[1.0,\"#f0f921\"]],\"sequentialminus\":[[0.0,\"#0d0887\"],[0.1111111111111111,\"#46039f\"],[0.2222222222222222,\"#7201a8\"],[0.3333333333333333,\"#9c179e\"],[0.4444444444444444,\"#bd3786\"],[0.5555555555555556,\"#d8576b\"],[0.6666666666666666,\"#ed7953\"],[0.7777777777777778,\"#fb9f3a\"],[0.8888888888888888,\"#fdca26\"],[1.0,\"#f0f921\"]]},\"colorway\":[\"#636efa\",\"#EF553B\",\"#00cc96\",\"#ab63fa\",\"#FFA15A\",\"#19d3f3\",\"#FF6692\",\"#B6E880\",\"#FF97FF\",\"#FECB52\"],\"font\":{\"color\":\"#2a3f5f\"},\"geo\":{\"bgcolor\":\"white\",\"lakecolor\":\"white\",\"landcolor\":\"#E5ECF6\",\"showlakes\":true,\"showland\":true,\"subunitcolor\":\"white\"},\"hoverlabel\":{\"align\":\"left\"},\"hovermode\":\"closest\",\"mapbox\":{\"style\":\"light\"},\"paper_bgcolor\":\"white\",\"plot_bgcolor\":\"#E5ECF6\",\"polar\":{\"angularaxis\":{\"gridcolor\":\"white\",\"linecolor\":\"white\",\"ticks\":\"\"},\"bgcolor\":\"#E5ECF6\",\"radialaxis\":{\"gridcolor\":\"white\",\"linecolor\":\"white\",\"ticks\":\"\"}},\"scene\":{\"xaxis\":{\"backgroundcolor\":\"#E5ECF6\",\"gridcolor\":\"white\",\"gridwidth\":2,\"linecolor\":\"white\",\"showbackground\":true,\"ticks\":\"\",\"zerolinecolor\":\"white\"},\"yaxis\":{\"backgroundcolor\":\"#E5ECF6\",\"gridcolor\":\"white\",\"gridwidth\":2,\"linecolor\":\"white\",\"showbackground\":true,\"ticks\":\"\",\"zerolinecolor\":\"white\"},\"zaxis\":{\"backgroundcolor\":\"#E5ECF6\",\"gridcolor\":\"white\",\"gridwidth\":2,\"linecolor\":\"white\",\"showbackground\":true,\"ticks\":\"\",\"zerolinecolor\":\"white\"}},\"shapedefaults\":{\"line\":{\"color\":\"#2a3f5f\"}},\"ternary\":{\"aaxis\":{\"gridcolor\":\"white\",\"linecolor\":\"white\",\"ticks\":\"\"},\"baxis\":{\"gridcolor\":\"white\",\"linecolor\":\"white\",\"ticks\":\"\"},\"bgcolor\":\"#E5ECF6\",\"caxis\":{\"gridcolor\":\"white\",\"linecolor\":\"white\",\"ticks\":\"\"}},\"title\":{\"x\":0.05},\"xaxis\":{\"automargin\":true,\"gridcolor\":\"white\",\"linecolor\":\"white\",\"ticks\":\"\",\"title\":{\"standoff\":15},\"zerolinecolor\":\"white\",\"zerolinewidth\":2},\"yaxis\":{\"automargin\":true,\"gridcolor\":\"white\",\"linecolor\":\"white\",\"ticks\":\"\",\"title\":{\"standoff\":15},\"zerolinecolor\":\"white\",\"zerolinewidth\":2}}},\"xaxis\":{\"title\":{\"text\":\"\\ucd1d \\uc9c0\\ucd9c\"},\"type\":\"category\"},\"yaxis\":{\"autorange\":true,\"title\":{\"text\":\"\\uc0c1\\uc704 50 customers\"}}},                        {\"responsive\": true}                    ).then(function(){\n",
       "                            \n",
       "var gd = document.getElementById('cc422936-bda9-426d-900b-f70fd763aa5f');\n",
       "var x = new MutationObserver(function (mutations, observer) {{\n",
       "        var display = window.getComputedStyle(gd).display;\n",
       "        if (!display || display === 'none') {{\n",
       "            console.log([gd, 'removed!']);\n",
       "            Plotly.purge(gd);\n",
       "            observer.disconnect();\n",
       "        }}\n",
       "}});\n",
       "\n",
       "// Listen for the removal of the full notebook cells\n",
       "var notebookContainer = gd.closest('#notebook-container');\n",
       "if (notebookContainer) {{\n",
       "    x.observe(notebookContainer, {childList: true});\n",
       "}}\n",
       "\n",
       "// Listen for the clearing of the current output cell\n",
       "var outputEl = gd.closest('.output');\n",
       "if (outputEl) {{\n",
       "    x.observe(outputEl, {childList: true});\n",
       "}}\n",
       "\n",
       "                        })                };                });            </script>        </div>"
      ]
     },
     "metadata": {},
     "output_type": "display_data"
    }
   ],
   "source": [
    "grouped  = df.groupby(['CustomerID']).sum()['total_spend'].sort_values(ascending=False)\n",
    "grouped_top = pd.DataFrame(grouped.head(50))\n",
    "grouped_top.reset_index(level=0, inplace=True)\n",
    "grouped_top.sort_values('CustomerID', ascending=False)\n",
    "\n",
    "f, ax = plt.subplots(figsize=(12, 10))\n",
    "plt.xticks(rotation='vertical')\n",
    "sns.barplot(x=grouped_top['CustomerID'], y=grouped_top['total_spend'],order=grouped_top['CustomerID'],color='steelblue')\n",
    "plt.ylabel('total expenditure', fontsize=13)\n",
    "plt.xlabel('top 50 customers', fontsize=13)\n",
    "plt.show()\n",
    "\n",
    "data_plot = [go.Bar(x=grouped_top['CustomerID'], y=grouped_top['total_spend'])]\n",
    "layout = go.Layout(yaxis={'autorange':True,'title':'상위 50 customers'},xaxis={'type':'category','title':'총 지출'})\n",
    "fig = go.Figure(data=data_plot, layout=layout)\n",
    "iplot(fig)"
   ]
  },
  {
   "cell_type": "code",
   "execution_count": 23,
   "id": "9a7393d2",
   "metadata": {},
   "outputs": [
    {
     "data": {
      "text/html": [
       "<div>\n",
       "<style scoped>\n",
       "    .dataframe tbody tr th:only-of-type {\n",
       "        vertical-align: middle;\n",
       "    }\n",
       "\n",
       "    .dataframe tbody tr th {\n",
       "        vertical-align: top;\n",
       "    }\n",
       "\n",
       "    .dataframe thead th {\n",
       "        text-align: right;\n",
       "    }\n",
       "</style>\n",
       "<table border=\"1\" class=\"dataframe\">\n",
       "  <thead>\n",
       "    <tr style=\"text-align: right;\">\n",
       "      <th></th>\n",
       "      <th>Quantity</th>\n",
       "      <th>UnitPrice</th>\n",
       "      <th>total_spend</th>\n",
       "      <th>CustomerID</th>\n",
       "    </tr>\n",
       "  </thead>\n",
       "  <tbody>\n",
       "    <tr>\n",
       "      <th>0</th>\n",
       "      <td>74215.0</td>\n",
       "      <td>1.0</td>\n",
       "      <td>77183.6</td>\n",
       "      <td>12346.0</td>\n",
       "    </tr>\n",
       "    <tr>\n",
       "      <th>1</th>\n",
       "      <td>2458.0</td>\n",
       "      <td>481.2</td>\n",
       "      <td>4310.0</td>\n",
       "      <td>12347.0</td>\n",
       "    </tr>\n",
       "    <tr>\n",
       "      <th>2</th>\n",
       "      <td>2341.0</td>\n",
       "      <td>178.7</td>\n",
       "      <td>1797.2</td>\n",
       "      <td>12348.0</td>\n",
       "    </tr>\n",
       "    <tr>\n",
       "      <th>3</th>\n",
       "      <td>631.0</td>\n",
       "      <td>605.1</td>\n",
       "      <td>1757.6</td>\n",
       "      <td>12349.0</td>\n",
       "    </tr>\n",
       "    <tr>\n",
       "      <th>4</th>\n",
       "      <td>197.0</td>\n",
       "      <td>65.3</td>\n",
       "      <td>334.4</td>\n",
       "      <td>12350.0</td>\n",
       "    </tr>\n",
       "  </tbody>\n",
       "</table>\n",
       "</div>"
      ],
      "text/plain": [
       "   Quantity  UnitPrice  total_spend  CustomerID\n",
       "0   74215.0        1.0      77183.6     12346.0\n",
       "1    2458.0      481.2       4310.0     12347.0\n",
       "2    2341.0      178.7       1797.2     12348.0\n",
       "3     631.0      605.1       1757.6     12349.0\n",
       "4     197.0       65.3        334.4     12350.0"
      ]
     },
     "execution_count": 23,
     "metadata": {},
     "output_type": "execute_result"
    }
   ],
   "source": [
    "data_grouped = df.groupby('CustomerID')\n",
    "data_cluster=pd.DataFrame(columns=['Quantity','UnitPrice', 'total_spend', 'CustomerID'])\n",
    "count=0\n",
    "#data_grouped.head(5)\n",
    "for k,v in (data_grouped):\n",
    "    data_cluster.loc[count] = [(v['Quantity'].sum()), v['UnitPrice'].sum(), v['total_spend'].sum(), k]\n",
    "    count+=1\n",
    "\n",
    "# Applying K-Means Clustering Algorithm to quantity, and total spend\n",
    "X = data_cluster.iloc[:, [0, 2]].values\n",
    "data_cluster.head()"
   ]
  },
  {
   "cell_type": "code",
   "execution_count": 23,
   "id": "0f6232fe",
   "metadata": {},
   "outputs": [
    {
     "data": {
      "text/html": [
       "<div>\n",
       "<style scoped>\n",
       "    .dataframe tbody tr th:only-of-type {\n",
       "        vertical-align: middle;\n",
       "    }\n",
       "\n",
       "    .dataframe tbody tr th {\n",
       "        vertical-align: top;\n",
       "    }\n",
       "\n",
       "    .dataframe thead th {\n",
       "        text-align: right;\n",
       "    }\n",
       "</style>\n",
       "<table border=\"1\" class=\"dataframe\">\n",
       "  <thead>\n",
       "    <tr style=\"text-align: right;\">\n",
       "      <th></th>\n",
       "      <th>Quantity</th>\n",
       "      <th>UnitPrice</th>\n",
       "      <th>total_spend</th>\n",
       "      <th>CustomerID</th>\n",
       "    </tr>\n",
       "  </thead>\n",
       "  <tbody>\n",
       "    <tr>\n",
       "      <th>0</th>\n",
       "      <td>74215.0</td>\n",
       "      <td>1.0</td>\n",
       "      <td>77183.6</td>\n",
       "      <td>12346.0</td>\n",
       "    </tr>\n",
       "    <tr>\n",
       "      <th>1</th>\n",
       "      <td>2458.0</td>\n",
       "      <td>481.2</td>\n",
       "      <td>4310.0</td>\n",
       "      <td>12347.0</td>\n",
       "    </tr>\n",
       "    <tr>\n",
       "      <th>2</th>\n",
       "      <td>2341.0</td>\n",
       "      <td>178.7</td>\n",
       "      <td>1797.2</td>\n",
       "      <td>12348.0</td>\n",
       "    </tr>\n",
       "    <tr>\n",
       "      <th>3</th>\n",
       "      <td>631.0</td>\n",
       "      <td>605.1</td>\n",
       "      <td>1757.6</td>\n",
       "      <td>12349.0</td>\n",
       "    </tr>\n",
       "    <tr>\n",
       "      <th>4</th>\n",
       "      <td>197.0</td>\n",
       "      <td>65.3</td>\n",
       "      <td>334.4</td>\n",
       "      <td>12350.0</td>\n",
       "    </tr>\n",
       "  </tbody>\n",
       "</table>\n",
       "</div>"
      ],
      "text/plain": [
       "   Quantity  UnitPrice  total_spend  CustomerID\n",
       "0   74215.0        1.0      77183.6     12346.0\n",
       "1    2458.0      481.2       4310.0     12347.0\n",
       "2    2341.0      178.7       1797.2     12348.0\n",
       "3     631.0      605.1       1757.6     12349.0\n",
       "4     197.0       65.3        334.4     12350.0"
      ]
     },
     "execution_count": 23,
     "metadata": {},
     "output_type": "execute_result"
    }
   ],
   "source": [
    "data_grouped = df.groupby('CustomerID')\n",
    "data_cluster=pd.DataFrame(columns=['Quantity','UnitPrice', 'total_spend', 'CustomerID'])\n",
    "count=0\n",
    "#data_grouped.head(5)\n",
    "for k,v in (data_grouped):\n",
    "    data_cluster.loc[count] = [(v['Quantity'].sum()), v['UnitPrice'].sum(), v['total_spend'].sum(), k]\n",
    "    count+=1\n",
    "\n",
    "# Applying K-Means Clustering Algorithm to quantity, and total spend\n",
    "X = data_cluster.iloc[:, [0, 2]].values\n",
    "data_cluster.head()"
   ]
  },
  {
   "cell_type": "code",
   "execution_count": 48,
   "id": "b5f1354f",
   "metadata": {},
   "outputs": [
    {
     "data": {
      "image/png": "[encoded data removed]",
      "text/plain": [
       "<Figure size 640x480 with 1 Axes>"
      ]
     },
     "metadata": {},
     "output_type": "display_data"
    }
   ],
   "source": [
    "# Feature Scaling\n",
    "from sklearn.preprocessing import StandardScaler\n",
    "sc_X = StandardScaler()\n",
    "X= sc_X.fit_transform(X)\n",
    "#Using the Elbow method to find the optimum number of clusters\n",
    "from sklearn.cluster import KMeans\n",
    "wcss = [] #Within cluster sum of squares (inertia)\n",
    "\n",
    "# https://stats.stackexchange.com/questions/185396/why-is-k-means-slower-than-random-initialization-k-means/185422\n",
    "#n_clusters is no.of clusters given by this method,\n",
    "#k-means++ is an random initialization methods for centriods to avoid random initialisation trap,\n",
    "#max_iter is max no of iterations defined when k-means is running\n",
    "#n_init is no of times k-means will run with different initial centroids\n",
    "\n",
    "for i in range(1,11): #From 2-10 doing multiple random initializations can make a huge difference to find a better local optima\n",
    "    kmeans = KMeans(n_clusters = i, init ='k-means++',max_iter=300,n_init=10)\n",
    "    kmeans.fit(X)\n",
    "    wcss.append(kmeans.inertia_)\n",
    "plt.plot(range(1,11) , wcss)\n",
    "plt.title('Elbow Method')\n",
    "plt.xlabel('Number Of Customer Clusters')\n",
    "plt.ylabel('WCSS')\n",
    "plt.show()"
   ]
  },
  {
   "cell_type": "code",
   "execution_count": 89,
   "id": "f13a7b11",
   "metadata": {},
   "outputs": [
    {
     "data": {
      "image/png": "[encoded data removed]",
      "text/plain": [
       "<Figure size 640x480 with 1 Axes>"
      ]
     },
     "metadata": {},
     "output_type": "display_data"
    }
   ],
   "source": [
    "# Fitting K-Means to the dataset\n",
    "kmeans = KMeans(n_clusters = 3,init='k-means++')\n",
    "y_kmeans = kmeans.fit_predict(X)\n",
    "\n",
    "# Visualising the clusters\n",
    "plt.scatter(X[y_kmeans == 0, 0], X[y_kmeans == 0, 1], s = 100, c = 'red', label = 'CustomerID cluster 1')\n",
    "plt.scatter(X[y_kmeans == 1, 0], X[y_kmeans == 1, 1], s = 100, c = 'blue', label = 'CustomerID cluster 2')\n",
    "plt.scatter(X[y_kmeans == 2, 0], X[y_kmeans == 2, 1], s = 100, c = 'green', label = 'CustomerID cluster 3')\n",
    "\n",
    "\n",
    "plt.scatter(kmeans.cluster_centers_[:, 0], kmeans.cluster_centers_[:, 1], s = 100, c = 'yellow', label = 'Centroids')\n",
    "plt.title('Customer Clusters')\n",
    "plt.xlabel('Number of items Purchased (Quantity)')\n",
    "plt.ylabel('total spend')\n",
    "plt.legend()\n",
    "plt.show()"
   ]
  },
  {
   "cell_type": "code",
   "execution_count": 24,
   "id": "4479828f",
   "metadata": {},
   "outputs": [
    {
     "name": "stderr",
     "output_type": "stream",
     "text": [
      "C:\\Users\\pc\\AppData\\Local\\Temp\\ipykernel_7592\\3453583765.py:2: FutureWarning:\n",
      "\n",
      "The default value of numeric_only in DataFrame.corr is deprecated. In a future version, it will default to False. Select only valid columns or specify the value of numeric_only to silence this warning.\n",
      "\n"
     ]
    },
    {
     "data": {
      "image/png": "[encoded data removed]",
      "text/plain": [
       "<Figure size 1000x1000 with 2 Axes>"
      ]
     },
     "metadata": {},
     "output_type": "display_data"
    }
   ],
   "source": [
    "f,ax = plt.subplots(figsize=(10, 10))\n",
    "sns.heatmap(df.corr(), annot=True, linewidths=.5, fmt= '.1f',ax=ax);"
   ]
  },
  {
   "cell_type": "code",
   "execution_count": 62,
   "id": "cfb04482",
   "metadata": {},
   "outputs": [
    {
     "data": {
      "text/plain": [
       "20.035499635788703"
      ]
     },
     "execution_count": 62,
     "metadata": {},
     "output_type": "execute_result"
    }
   ],
   "source": [
    "df['total_spend'].mean()"
   ]
  },
  {
   "cell_type": "code",
   "execution_count": 63,
   "id": "c1db71c2",
   "metadata": {},
   "outputs": [],
   "source": [
    "data2 = df[(df['total_spend'] >0) & (df['total_spend'] < 100)]"
   ]
  },
  {
   "cell_type": "code",
   "execution_count": 67,
   "id": "ec358ce1",
   "metadata": {},
   "outputs": [
    {
     "data": {
      "text/plain": [
       "516529"
      ]
     },
     "execution_count": 67,
     "metadata": {},
     "output_type": "execute_result"
    }
   ],
   "source": [
    "data2['total_spend'].value_counts().sum()"
   ]
  },
  {
   "cell_type": "code",
   "execution_count": 64,
   "id": "3875de54",
   "metadata": {},
   "outputs": [
    {
     "name": "stderr",
     "output_type": "stream",
     "text": [
      "C:\\Users\\pc\\AppData\\Local\\Temp\\ipykernel_14024\\3894616675.py:1: UserWarning:\n",
      "\n",
      "\n",
      "\n",
      "`distplot` is a deprecated function and will be removed in seaborn v0.14.0.\n",
      "\n",
      "Please adapt your code to use either `displot` (a figure-level function with\n",
      "similar flexibility) or `histplot` (an axes-level function for histograms).\n",
      "\n",
      "For a guide to updating your code to use the new functions, please see\n",
      "https://gist.github.com/mwaskom/de44147ed2974457ad6372750bbe5751\n",
      "\n",
      "\n"
     ]
    },
    {
     "data": {
      "image/png": "[encoded data removed]",
      "text/plain": [
       "<Figure size 640x480 with 1 Axes>"
      ]
     },
     "metadata": {},
     "output_type": "display_data"
    }
   ],
   "source": [
    "sns.distplot(data2['total_spend'],kde = False)\n",
    "plt.show()\n"
   ]
  },
  {
   "cell_type": "code",
   "execution_count": 69,
   "id": "7edf0c0b",
   "metadata": {},
   "outputs": [],
   "source": [
    "spend_label = []\n",
    "for i in range(0,len(data2),1):\n",
    "    if data2['total_spend'].iloc[i] < 10:\n",
    "        spend_label.append(0)\n",
    "    elif data2['total_spend'].iloc[i] >20:\n",
    "        spend_label.append(2)\n",
    "    else:\n",
    "        spend_label.append(1)"
   ]
  },
  {
   "cell_type": "code",
   "execution_count": 75,
   "id": "c1d81a63",
   "metadata": {},
   "outputs": [
    {
     "name": "stderr",
     "output_type": "stream",
     "text": [
      "C:\\Users\\pc\\AppData\\Local\\Temp\\ipykernel_14024\\282132476.py:1: SettingWithCopyWarning:\n",
      "\n",
      "\n",
      "A value is trying to be set on a copy of a slice from a DataFrame.\n",
      "Try using .loc[row_indexer,col_indexer] = value instead\n",
      "\n",
      "See the caveats in the documentation: https://pandas.pydata.org/pandas-docs/stable/user_guide/indexing.html#returning-a-view-versus-a-copy\n",
      "\n"
     ]
    }
   ],
   "source": [
    "data2['spend_label'] = spend_label\n"
   ]
  },
  {
   "cell_type": "code",
   "execution_count": 83,
   "id": "69c09dbd",
   "metadata": {},
   "outputs": [
    {
     "data": {
      "text/plain": [
       "0    271839\n",
       "1    157958\n",
       "2     86732\n",
       "Name: spend_label, dtype: int64"
      ]
     },
     "execution_count": 83,
     "metadata": {},
     "output_type": "execute_result"
    }
   ],
   "source": [
    "data2['spend_label'].value_counts()"
   ]
  },
  {
   "cell_type": "code",
   "execution_count": 85,
   "id": "07c13a26",
   "metadata": {},
   "outputs": [
    {
     "data": {
      "text/plain": [
       "16.79131278205096"
      ]
     },
     "execution_count": 85,
     "metadata": {},
     "output_type": "execute_result"
    }
   ],
   "source": [
    "data2['spend_label'].value_counts()[2]/(data2['spend_label'].value_counts()[0]+data2['spend_label'].value_counts()[1]+data2['spend_label'].value_counts()[2])*100"
   ]
  },
  {
   "cell_type": "code",
   "execution_count": 37,
   "id": "cad11a83",
   "metadata": {},
   "outputs": [
    {
     "name": "stderr",
     "output_type": "stream",
     "text": [
      "C:\\Users\\pc\\AppData\\Local\\Temp\\ipykernel_7592\\1165292419.py:2: FutureWarning:\n",
      "\n",
      "The default value of numeric_only in DataFrame.corr is deprecated. In a future version, it will default to False. Select only valid columns or specify the value of numeric_only to silence this warning.\n",
      "\n"
     ]
    },
    {
     "data": {
      "image/png": "[encoded data removed]",
      "text/plain": [
       "<Figure size 1000x1000 with 2 Axes>"
      ]
     },
     "metadata": {},
     "output_type": "display_data"
    }
   ],
   "source": [
    "f,ax = plt.subplots(figsize=(10, 10))\n",
    "sns.heatmap(data2.corr(), annot=True, linewidths=.5, fmt= '.1f',ax=ax);"
   ]
  },
  {
   "cell_type": "code",
   "execution_count": 62,
   "id": "09c630d7",
   "metadata": {},
   "outputs": [
    {
     "data": {
      "text/html": [
       "<div>\n",
       "<style scoped>\n",
       "    .dataframe tbody tr th:only-of-type {\n",
       "        vertical-align: middle;\n",
       "    }\n",
       "\n",
       "    .dataframe tbody tr th {\n",
       "        vertical-align: top;\n",
       "    }\n",
       "\n",
       "    .dataframe thead th {\n",
       "        text-align: right;\n",
       "    }\n",
       "</style>\n",
       "<table border=\"1\" class=\"dataframe\">\n",
       "  <thead>\n",
       "    <tr style=\"text-align: right;\">\n",
       "      <th></th>\n",
       "      <th>InvoiceNo</th>\n",
       "      <th>StockCode</th>\n",
       "      <th>Description</th>\n",
       "      <th>Quantity</th>\n",
       "      <th>InvoiceDate</th>\n",
       "      <th>UnitPrice</th>\n",
       "      <th>CustomerID</th>\n",
       "      <th>Country</th>\n",
       "      <th>Quarter</th>\n",
       "      <th>Month</th>\n",
       "      <th>Week</th>\n",
       "      <th>Weekday</th>\n",
       "      <th>Day</th>\n",
       "      <th>total_spend</th>\n",
       "      <th>spend_label</th>\n",
       "    </tr>\n",
       "  </thead>\n",
       "  <tbody>\n",
       "    <tr>\n",
       "      <th>0</th>\n",
       "      <td>536365</td>\n",
       "      <td>85123A</td>\n",
       "      <td>WHITE HANGING HEART T-LIGHT HOLDER</td>\n",
       "      <td>6</td>\n",
       "      <td>2010-12-01 08:26:00</td>\n",
       "      <td>2.5</td>\n",
       "      <td>17850.0</td>\n",
       "      <td>United Kingdom</td>\n",
       "      <td>4</td>\n",
       "      <td>12</td>\n",
       "      <td>48</td>\n",
       "      <td>2</td>\n",
       "      <td>1</td>\n",
       "      <td>15.3</td>\n",
       "      <td>1</td>\n",
       "    </tr>\n",
       "    <tr>\n",
       "      <th>1</th>\n",
       "      <td>536365</td>\n",
       "      <td>71053</td>\n",
       "      <td>WHITE METAL LANTERN</td>\n",
       "      <td>6</td>\n",
       "      <td>2010-12-01 08:26:00</td>\n",
       "      <td>3.4</td>\n",
       "      <td>17850.0</td>\n",
       "      <td>United Kingdom</td>\n",
       "      <td>4</td>\n",
       "      <td>12</td>\n",
       "      <td>48</td>\n",
       "      <td>2</td>\n",
       "      <td>1</td>\n",
       "      <td>20.3</td>\n",
       "      <td>1</td>\n",
       "    </tr>\n",
       "    <tr>\n",
       "      <th>2</th>\n",
       "      <td>536365</td>\n",
       "      <td>84406B</td>\n",
       "      <td>CREAM CUPID HEARTS COAT HANGER</td>\n",
       "      <td>8</td>\n",
       "      <td>2010-12-01 08:26:00</td>\n",
       "      <td>2.8</td>\n",
       "      <td>17850.0</td>\n",
       "      <td>United Kingdom</td>\n",
       "      <td>4</td>\n",
       "      <td>12</td>\n",
       "      <td>48</td>\n",
       "      <td>2</td>\n",
       "      <td>1</td>\n",
       "      <td>22.0</td>\n",
       "      <td>1</td>\n",
       "    </tr>\n",
       "    <tr>\n",
       "      <th>3</th>\n",
       "      <td>536365</td>\n",
       "      <td>84029G</td>\n",
       "      <td>KNITTED UNION FLAG HOT WATER BOTTLE</td>\n",
       "      <td>6</td>\n",
       "      <td>2010-12-01 08:26:00</td>\n",
       "      <td>3.4</td>\n",
       "      <td>17850.0</td>\n",
       "      <td>United Kingdom</td>\n",
       "      <td>4</td>\n",
       "      <td>12</td>\n",
       "      <td>48</td>\n",
       "      <td>2</td>\n",
       "      <td>1</td>\n",
       "      <td>20.3</td>\n",
       "      <td>1</td>\n",
       "    </tr>\n",
       "    <tr>\n",
       "      <th>4</th>\n",
       "      <td>536365</td>\n",
       "      <td>84029E</td>\n",
       "      <td>RED WOOLLY HOTTIE WHITE HEART.</td>\n",
       "      <td>6</td>\n",
       "      <td>2010-12-01 08:26:00</td>\n",
       "      <td>3.4</td>\n",
       "      <td>17850.0</td>\n",
       "      <td>United Kingdom</td>\n",
       "      <td>4</td>\n",
       "      <td>12</td>\n",
       "      <td>48</td>\n",
       "      <td>2</td>\n",
       "      <td>1</td>\n",
       "      <td>20.3</td>\n",
       "      <td>1</td>\n",
       "    </tr>\n",
       "    <tr>\n",
       "      <th>...</th>\n",
       "      <td>...</td>\n",
       "      <td>...</td>\n",
       "      <td>...</td>\n",
       "      <td>...</td>\n",
       "      <td>...</td>\n",
       "      <td>...</td>\n",
       "      <td>...</td>\n",
       "      <td>...</td>\n",
       "      <td>...</td>\n",
       "      <td>...</td>\n",
       "      <td>...</td>\n",
       "      <td>...</td>\n",
       "      <td>...</td>\n",
       "      <td>...</td>\n",
       "      <td>...</td>\n",
       "    </tr>\n",
       "    <tr>\n",
       "      <th>541904</th>\n",
       "      <td>581587</td>\n",
       "      <td>22613</td>\n",
       "      <td>PACK OF 20 SPACEBOY NAPKINS</td>\n",
       "      <td>12</td>\n",
       "      <td>2011-12-09 12:50:00</td>\n",
       "      <td>0.8</td>\n",
       "      <td>12680.0</td>\n",
       "      <td>France</td>\n",
       "      <td>4</td>\n",
       "      <td>12</td>\n",
       "      <td>49</td>\n",
       "      <td>4</td>\n",
       "      <td>9</td>\n",
       "      <td>10.2</td>\n",
       "      <td>1</td>\n",
       "    </tr>\n",
       "    <tr>\n",
       "      <th>541905</th>\n",
       "      <td>581587</td>\n",
       "      <td>22899</td>\n",
       "      <td>CHILDREN'S APRON DOLLY GIRL</td>\n",
       "      <td>6</td>\n",
       "      <td>2011-12-09 12:50:00</td>\n",
       "      <td>2.1</td>\n",
       "      <td>12680.0</td>\n",
       "      <td>France</td>\n",
       "      <td>4</td>\n",
       "      <td>12</td>\n",
       "      <td>49</td>\n",
       "      <td>4</td>\n",
       "      <td>9</td>\n",
       "      <td>12.6</td>\n",
       "      <td>1</td>\n",
       "    </tr>\n",
       "    <tr>\n",
       "      <th>541906</th>\n",
       "      <td>581587</td>\n",
       "      <td>23254</td>\n",
       "      <td>CHILDRENS CUTLERY DOLLY GIRL</td>\n",
       "      <td>4</td>\n",
       "      <td>2011-12-09 12:50:00</td>\n",
       "      <td>4.2</td>\n",
       "      <td>12680.0</td>\n",
       "      <td>France</td>\n",
       "      <td>4</td>\n",
       "      <td>12</td>\n",
       "      <td>49</td>\n",
       "      <td>4</td>\n",
       "      <td>9</td>\n",
       "      <td>16.6</td>\n",
       "      <td>1</td>\n",
       "    </tr>\n",
       "    <tr>\n",
       "      <th>541907</th>\n",
       "      <td>581587</td>\n",
       "      <td>23255</td>\n",
       "      <td>CHILDRENS CUTLERY CIRCUS PARADE</td>\n",
       "      <td>4</td>\n",
       "      <td>2011-12-09 12:50:00</td>\n",
       "      <td>4.2</td>\n",
       "      <td>12680.0</td>\n",
       "      <td>France</td>\n",
       "      <td>4</td>\n",
       "      <td>12</td>\n",
       "      <td>49</td>\n",
       "      <td>4</td>\n",
       "      <td>9</td>\n",
       "      <td>16.6</td>\n",
       "      <td>1</td>\n",
       "    </tr>\n",
       "    <tr>\n",
       "      <th>541908</th>\n",
       "      <td>581587</td>\n",
       "      <td>22138</td>\n",
       "      <td>BAKING SET 9 PIECE RETROSPOT</td>\n",
       "      <td>3</td>\n",
       "      <td>2011-12-09 12:50:00</td>\n",
       "      <td>5.0</td>\n",
       "      <td>12680.0</td>\n",
       "      <td>France</td>\n",
       "      <td>4</td>\n",
       "      <td>12</td>\n",
       "      <td>49</td>\n",
       "      <td>4</td>\n",
       "      <td>9</td>\n",
       "      <td>14.9</td>\n",
       "      <td>1</td>\n",
       "    </tr>\n",
       "  </tbody>\n",
       "</table>\n",
       "<p>516529 rows × 15 columns</p>\n",
       "</div>"
      ],
      "text/plain": [
       "       InvoiceNo StockCode                          Description  Quantity  \\\n",
       "0         536365    85123A   WHITE HANGING HEART T-LIGHT HOLDER         6   \n",
       "1         536365     71053                  WHITE METAL LANTERN         6   \n",
       "2         536365    84406B       CREAM CUPID HEARTS COAT HANGER         8   \n",
       "3         536365    84029G  KNITTED UNION FLAG HOT WATER BOTTLE         6   \n",
       "4         536365    84029E       RED WOOLLY HOTTIE WHITE HEART.         6   \n",
       "...          ...       ...                                  ...       ...   \n",
       "541904    581587     22613          PACK OF 20 SPACEBOY NAPKINS        12   \n",
       "541905    581587     22899         CHILDREN'S APRON DOLLY GIRL          6   \n",
       "541906    581587     23254        CHILDRENS CUTLERY DOLLY GIRL          4   \n",
       "541907    581587     23255      CHILDRENS CUTLERY CIRCUS PARADE         4   \n",
       "541908    581587     22138        BAKING SET 9 PIECE RETROSPOT          3   \n",
       "\n",
       "               InvoiceDate  UnitPrice  CustomerID         Country  Quarter  \\\n",
       "0      2010-12-01 08:26:00        2.5     17850.0  United Kingdom        4   \n",
       "1      2010-12-01 08:26:00        3.4     17850.0  United Kingdom        4   \n",
       "2      2010-12-01 08:26:00        2.8     17850.0  United Kingdom        4   \n",
       "3      2010-12-01 08:26:00        3.4     17850.0  United Kingdom        4   \n",
       "4      2010-12-01 08:26:00        3.4     17850.0  United Kingdom        4   \n",
       "...                    ...        ...         ...             ...      ...   \n",
       "541904 2011-12-09 12:50:00        0.8     12680.0          France        4   \n",
       "541905 2011-12-09 12:50:00        2.1     12680.0          France        4   \n",
       "541906 2011-12-09 12:50:00        4.2     12680.0          France        4   \n",
       "541907 2011-12-09 12:50:00        4.2     12680.0          France        4   \n",
       "541908 2011-12-09 12:50:00        5.0     12680.0          France        4   \n",
       "\n",
       "        Month  Week  Weekday  Day  total_spend  spend_label  \n",
       "0          12    48        2    1         15.3            1  \n",
       "1          12    48        2    1         20.3            1  \n",
       "2          12    48        2    1         22.0            1  \n",
       "3          12    48        2    1         20.3            1  \n",
       "4          12    48        2    1         20.3            1  \n",
       "...       ...   ...      ...  ...          ...          ...  \n",
       "541904     12    49        4    9         10.2            1  \n",
       "541905     12    49        4    9         12.6            1  \n",
       "541906     12    49        4    9         16.6            1  \n",
       "541907     12    49        4    9         16.6            1  \n",
       "541908     12    49        4    9         14.9            1  \n",
       "\n",
       "[516529 rows x 15 columns]"
      ]
     },
     "execution_count": 62,
     "metadata": {},
     "output_type": "execute_result"
    }
   ],
   "source": [
    "data2"
   ]
  },
  {
   "cell_type": "code",
   "execution_count": 38,
   "id": "646baccf",
   "metadata": {},
   "outputs": [],
   "source": [
    "data3=data2.drop(['total_spend','Month','Quarter'],axis=1)"
   ]
  },
  {
   "cell_type": "code",
   "execution_count": 39,
   "id": "c0774daf",
   "metadata": {},
   "outputs": [
    {
     "name": "stderr",
     "output_type": "stream",
     "text": [
      "C:\\Users\\pc\\AppData\\Local\\Temp\\ipykernel_7592\\4199778706.py:2: FutureWarning:\n",
      "\n",
      "The default value of numeric_only in DataFrame.corr is deprecated. In a future version, it will default to False. Select only valid columns or specify the value of numeric_only to silence this warning.\n",
      "\n"
     ]
    },
    {
     "data": {
      "image/png": "[encoded data removed]",
      "text/plain": [
       "<Figure size 1000x1000 with 2 Axes>"
      ]
     },
     "metadata": {},
     "output_type": "display_data"
    }
   ],
   "source": [
    "f,ax = plt.subplots(figsize=(10, 10))\n",
    "sns.heatmap(data3.corr(), annot=True, linewidths=.5, fmt= '.1f',ax=ax);"
   ]
  },
  {
   "cell_type": "code",
   "execution_count": null,
   "id": "26cdabac",
   "metadata": {},
   "outputs": [],
   "source": []
  },
  {
   "cell_type": "code",
   "execution_count": 40,
   "id": "40f03340",
   "metadata": {},
   "outputs": [
    {
     "data": {
      "text/html": [
       "<div>\n",
       "<style scoped>\n",
       "    .dataframe tbody tr th:only-of-type {\n",
       "        vertical-align: middle;\n",
       "    }\n",
       "\n",
       "    .dataframe tbody tr th {\n",
       "        vertical-align: top;\n",
       "    }\n",
       "\n",
       "    .dataframe thead th {\n",
       "        text-align: right;\n",
       "    }\n",
       "</style>\n",
       "<table border=\"1\" class=\"dataframe\">\n",
       "  <thead>\n",
       "    <tr style=\"text-align: right;\">\n",
       "      <th></th>\n",
       "      <th>InvoiceNo</th>\n",
       "      <th>StockCode</th>\n",
       "      <th>Description</th>\n",
       "      <th>Quantity</th>\n",
       "      <th>InvoiceDate</th>\n",
       "      <th>UnitPrice</th>\n",
       "      <th>CustomerID</th>\n",
       "      <th>Country</th>\n",
       "      <th>Week</th>\n",
       "      <th>spend_label</th>\n",
       "    </tr>\n",
       "  </thead>\n",
       "  <tbody>\n",
       "    <tr>\n",
       "      <th>0</th>\n",
       "      <td>536365</td>\n",
       "      <td>85123A</td>\n",
       "      <td>WHITE HANGING HEART T-LIGHT HOLDER</td>\n",
       "      <td>6</td>\n",
       "      <td>2010-12-01 08:26:00</td>\n",
       "      <td>2.5</td>\n",
       "      <td>17850.0</td>\n",
       "      <td>United Kingdom</td>\n",
       "      <td>48</td>\n",
       "      <td>1</td>\n",
       "    </tr>\n",
       "    <tr>\n",
       "      <th>1</th>\n",
       "      <td>536365</td>\n",
       "      <td>71053</td>\n",
       "      <td>WHITE METAL LANTERN</td>\n",
       "      <td>6</td>\n",
       "      <td>2010-12-01 08:26:00</td>\n",
       "      <td>3.4</td>\n",
       "      <td>17850.0</td>\n",
       "      <td>United Kingdom</td>\n",
       "      <td>48</td>\n",
       "      <td>2</td>\n",
       "    </tr>\n",
       "    <tr>\n",
       "      <th>2</th>\n",
       "      <td>536365</td>\n",
       "      <td>84406B</td>\n",
       "      <td>CREAM CUPID HEARTS COAT HANGER</td>\n",
       "      <td>8</td>\n",
       "      <td>2010-12-01 08:26:00</td>\n",
       "      <td>2.8</td>\n",
       "      <td>17850.0</td>\n",
       "      <td>United Kingdom</td>\n",
       "      <td>48</td>\n",
       "      <td>2</td>\n",
       "    </tr>\n",
       "    <tr>\n",
       "      <th>3</th>\n",
       "      <td>536365</td>\n",
       "      <td>84029G</td>\n",
       "      <td>KNITTED UNION FLAG HOT WATER BOTTLE</td>\n",
       "      <td>6</td>\n",
       "      <td>2010-12-01 08:26:00</td>\n",
       "      <td>3.4</td>\n",
       "      <td>17850.0</td>\n",
       "      <td>United Kingdom</td>\n",
       "      <td>48</td>\n",
       "      <td>2</td>\n",
       "    </tr>\n",
       "    <tr>\n",
       "      <th>4</th>\n",
       "      <td>536365</td>\n",
       "      <td>84029E</td>\n",
       "      <td>RED WOOLLY HOTTIE WHITE HEART.</td>\n",
       "      <td>6</td>\n",
       "      <td>2010-12-01 08:26:00</td>\n",
       "      <td>3.4</td>\n",
       "      <td>17850.0</td>\n",
       "      <td>United Kingdom</td>\n",
       "      <td>48</td>\n",
       "      <td>2</td>\n",
       "    </tr>\n",
       "    <tr>\n",
       "      <th>...</th>\n",
       "      <td>...</td>\n",
       "      <td>...</td>\n",
       "      <td>...</td>\n",
       "      <td>...</td>\n",
       "      <td>...</td>\n",
       "      <td>...</td>\n",
       "      <td>...</td>\n",
       "      <td>...</td>\n",
       "      <td>...</td>\n",
       "      <td>...</td>\n",
       "    </tr>\n",
       "    <tr>\n",
       "      <th>541904</th>\n",
       "      <td>581587</td>\n",
       "      <td>22613</td>\n",
       "      <td>PACK OF 20 SPACEBOY NAPKINS</td>\n",
       "      <td>12</td>\n",
       "      <td>2011-12-09 12:50:00</td>\n",
       "      <td>0.8</td>\n",
       "      <td>12680.0</td>\n",
       "      <td>France</td>\n",
       "      <td>49</td>\n",
       "      <td>1</td>\n",
       "    </tr>\n",
       "    <tr>\n",
       "      <th>541905</th>\n",
       "      <td>581587</td>\n",
       "      <td>22899</td>\n",
       "      <td>CHILDREN'S APRON DOLLY GIRL</td>\n",
       "      <td>6</td>\n",
       "      <td>2011-12-09 12:50:00</td>\n",
       "      <td>2.1</td>\n",
       "      <td>12680.0</td>\n",
       "      <td>France</td>\n",
       "      <td>49</td>\n",
       "      <td>1</td>\n",
       "    </tr>\n",
       "    <tr>\n",
       "      <th>541906</th>\n",
       "      <td>581587</td>\n",
       "      <td>23254</td>\n",
       "      <td>CHILDRENS CUTLERY DOLLY GIRL</td>\n",
       "      <td>4</td>\n",
       "      <td>2011-12-09 12:50:00</td>\n",
       "      <td>4.2</td>\n",
       "      <td>12680.0</td>\n",
       "      <td>France</td>\n",
       "      <td>49</td>\n",
       "      <td>1</td>\n",
       "    </tr>\n",
       "    <tr>\n",
       "      <th>541907</th>\n",
       "      <td>581587</td>\n",
       "      <td>23255</td>\n",
       "      <td>CHILDRENS CUTLERY CIRCUS PARADE</td>\n",
       "      <td>4</td>\n",
       "      <td>2011-12-09 12:50:00</td>\n",
       "      <td>4.2</td>\n",
       "      <td>12680.0</td>\n",
       "      <td>France</td>\n",
       "      <td>49</td>\n",
       "      <td>1</td>\n",
       "    </tr>\n",
       "    <tr>\n",
       "      <th>541908</th>\n",
       "      <td>581587</td>\n",
       "      <td>22138</td>\n",
       "      <td>BAKING SET 9 PIECE RETROSPOT</td>\n",
       "      <td>3</td>\n",
       "      <td>2011-12-09 12:50:00</td>\n",
       "      <td>5.0</td>\n",
       "      <td>12680.0</td>\n",
       "      <td>France</td>\n",
       "      <td>49</td>\n",
       "      <td>1</td>\n",
       "    </tr>\n",
       "  </tbody>\n",
       "</table>\n",
       "<p>516529 rows × 10 columns</p>\n",
       "</div>"
      ],
      "text/plain": [
       "       InvoiceNo StockCode                          Description  Quantity  \\\n",
       "0         536365    85123A   WHITE HANGING HEART T-LIGHT HOLDER         6   \n",
       "1         536365     71053                  WHITE METAL LANTERN         6   \n",
       "2         536365    84406B       CREAM CUPID HEARTS COAT HANGER         8   \n",
       "3         536365    84029G  KNITTED UNION FLAG HOT WATER BOTTLE         6   \n",
       "4         536365    84029E       RED WOOLLY HOTTIE WHITE HEART.         6   \n",
       "...          ...       ...                                  ...       ...   \n",
       "541904    581587     22613          PACK OF 20 SPACEBOY NAPKINS        12   \n",
       "541905    581587     22899         CHILDREN'S APRON DOLLY GIRL          6   \n",
       "541906    581587     23254        CHILDRENS CUTLERY DOLLY GIRL          4   \n",
       "541907    581587     23255      CHILDRENS CUTLERY CIRCUS PARADE         4   \n",
       "541908    581587     22138        BAKING SET 9 PIECE RETROSPOT          3   \n",
       "\n",
       "               InvoiceDate  UnitPrice  CustomerID         Country  Week  \\\n",
       "0      2010-12-01 08:26:00        2.5     17850.0  United Kingdom    48   \n",
       "1      2010-12-01 08:26:00        3.4     17850.0  United Kingdom    48   \n",
       "2      2010-12-01 08:26:00        2.8     17850.0  United Kingdom    48   \n",
       "3      2010-12-01 08:26:00        3.4     17850.0  United Kingdom    48   \n",
       "4      2010-12-01 08:26:00        3.4     17850.0  United Kingdom    48   \n",
       "...                    ...        ...         ...             ...   ...   \n",
       "541904 2011-12-09 12:50:00        0.8     12680.0          France    49   \n",
       "541905 2011-12-09 12:50:00        2.1     12680.0          France    49   \n",
       "541906 2011-12-09 12:50:00        4.2     12680.0          France    49   \n",
       "541907 2011-12-09 12:50:00        4.2     12680.0          France    49   \n",
       "541908 2011-12-09 12:50:00        5.0     12680.0          France    49   \n",
       "\n",
       "        spend_label  \n",
       "0                 1  \n",
       "1                 2  \n",
       "2                 2  \n",
       "3                 2  \n",
       "4                 2  \n",
       "...             ...  \n",
       "541904            1  \n",
       "541905            1  \n",
       "541906            1  \n",
       "541907            1  \n",
       "541908            1  \n",
       "\n",
       "[516529 rows x 10 columns]"
      ]
     },
     "execution_count": 40,
     "metadata": {},
     "output_type": "execute_result"
    }
   ],
   "source": [
    "data3"
   ]
  },
  {
   "cell_type": "code",
   "execution_count": 42,
   "id": "85e84cec",
   "metadata": {},
   "outputs": [
    {
     "data": {
      "text/html": [
       "<div>\n",
       "<style scoped>\n",
       "    .dataframe tbody tr th:only-of-type {\n",
       "        vertical-align: middle;\n",
       "    }\n",
       "\n",
       "    .dataframe tbody tr th {\n",
       "        vertical-align: top;\n",
       "    }\n",
       "\n",
       "    .dataframe thead th {\n",
       "        text-align: right;\n",
       "    }\n",
       "</style>\n",
       "<table border=\"1\" class=\"dataframe\">\n",
       "  <thead>\n",
       "    <tr style=\"text-align: right;\">\n",
       "      <th></th>\n",
       "      <th>InvoiceNo</th>\n",
       "      <th>StockCode</th>\n",
       "      <th>Description</th>\n",
       "      <th>Quantity</th>\n",
       "      <th>InvoiceDate</th>\n",
       "      <th>UnitPrice</th>\n",
       "      <th>CustomerID</th>\n",
       "      <th>Country</th>\n",
       "      <th>Week</th>\n",
       "      <th>spend_label</th>\n",
       "    </tr>\n",
       "  </thead>\n",
       "  <tbody>\n",
       "    <tr>\n",
       "      <th>0</th>\n",
       "      <td>536365</td>\n",
       "      <td>85123A</td>\n",
       "      <td>WHITE HANGING HEART T-LIGHT HOLDER</td>\n",
       "      <td>6</td>\n",
       "      <td>2010-12-01 08:26:00</td>\n",
       "      <td>2.5</td>\n",
       "      <td>17850.0</td>\n",
       "      <td>United Kingdom</td>\n",
       "      <td>48</td>\n",
       "      <td>1</td>\n",
       "    </tr>\n",
       "    <tr>\n",
       "      <th>1</th>\n",
       "      <td>536365</td>\n",
       "      <td>71053</td>\n",
       "      <td>WHITE METAL LANTERN</td>\n",
       "      <td>6</td>\n",
       "      <td>2010-12-01 08:26:00</td>\n",
       "      <td>3.4</td>\n",
       "      <td>17850.0</td>\n",
       "      <td>United Kingdom</td>\n",
       "      <td>48</td>\n",
       "      <td>2</td>\n",
       "    </tr>\n",
       "    <tr>\n",
       "      <th>2</th>\n",
       "      <td>536365</td>\n",
       "      <td>84406B</td>\n",
       "      <td>CREAM CUPID HEARTS COAT HANGER</td>\n",
       "      <td>8</td>\n",
       "      <td>2010-12-01 08:26:00</td>\n",
       "      <td>2.8</td>\n",
       "      <td>17850.0</td>\n",
       "      <td>United Kingdom</td>\n",
       "      <td>48</td>\n",
       "      <td>2</td>\n",
       "    </tr>\n",
       "    <tr>\n",
       "      <th>3</th>\n",
       "      <td>536365</td>\n",
       "      <td>84029G</td>\n",
       "      <td>KNITTED UNION FLAG HOT WATER BOTTLE</td>\n",
       "      <td>6</td>\n",
       "      <td>2010-12-01 08:26:00</td>\n",
       "      <td>3.4</td>\n",
       "      <td>17850.0</td>\n",
       "      <td>United Kingdom</td>\n",
       "      <td>48</td>\n",
       "      <td>2</td>\n",
       "    </tr>\n",
       "    <tr>\n",
       "      <th>4</th>\n",
       "      <td>536365</td>\n",
       "      <td>84029E</td>\n",
       "      <td>RED WOOLLY HOTTIE WHITE HEART.</td>\n",
       "      <td>6</td>\n",
       "      <td>2010-12-01 08:26:00</td>\n",
       "      <td>3.4</td>\n",
       "      <td>17850.0</td>\n",
       "      <td>United Kingdom</td>\n",
       "      <td>48</td>\n",
       "      <td>2</td>\n",
       "    </tr>\n",
       "    <tr>\n",
       "      <th>...</th>\n",
       "      <td>...</td>\n",
       "      <td>...</td>\n",
       "      <td>...</td>\n",
       "      <td>...</td>\n",
       "      <td>...</td>\n",
       "      <td>...</td>\n",
       "      <td>...</td>\n",
       "      <td>...</td>\n",
       "      <td>...</td>\n",
       "      <td>...</td>\n",
       "    </tr>\n",
       "    <tr>\n",
       "      <th>541904</th>\n",
       "      <td>581587</td>\n",
       "      <td>22613</td>\n",
       "      <td>PACK OF 20 SPACEBOY NAPKINS</td>\n",
       "      <td>12</td>\n",
       "      <td>2011-12-09 12:50:00</td>\n",
       "      <td>0.8</td>\n",
       "      <td>12680.0</td>\n",
       "      <td>France</td>\n",
       "      <td>49</td>\n",
       "      <td>1</td>\n",
       "    </tr>\n",
       "    <tr>\n",
       "      <th>541905</th>\n",
       "      <td>581587</td>\n",
       "      <td>22899</td>\n",
       "      <td>CHILDREN'S APRON DOLLY GIRL</td>\n",
       "      <td>6</td>\n",
       "      <td>2011-12-09 12:50:00</td>\n",
       "      <td>2.1</td>\n",
       "      <td>12680.0</td>\n",
       "      <td>France</td>\n",
       "      <td>49</td>\n",
       "      <td>1</td>\n",
       "    </tr>\n",
       "    <tr>\n",
       "      <th>541906</th>\n",
       "      <td>581587</td>\n",
       "      <td>23254</td>\n",
       "      <td>CHILDRENS CUTLERY DOLLY GIRL</td>\n",
       "      <td>4</td>\n",
       "      <td>2011-12-09 12:50:00</td>\n",
       "      <td>4.2</td>\n",
       "      <td>12680.0</td>\n",
       "      <td>France</td>\n",
       "      <td>49</td>\n",
       "      <td>1</td>\n",
       "    </tr>\n",
       "    <tr>\n",
       "      <th>541907</th>\n",
       "      <td>581587</td>\n",
       "      <td>23255</td>\n",
       "      <td>CHILDRENS CUTLERY CIRCUS PARADE</td>\n",
       "      <td>4</td>\n",
       "      <td>2011-12-09 12:50:00</td>\n",
       "      <td>4.2</td>\n",
       "      <td>12680.0</td>\n",
       "      <td>France</td>\n",
       "      <td>49</td>\n",
       "      <td>1</td>\n",
       "    </tr>\n",
       "    <tr>\n",
       "      <th>541908</th>\n",
       "      <td>581587</td>\n",
       "      <td>22138</td>\n",
       "      <td>BAKING SET 9 PIECE RETROSPOT</td>\n",
       "      <td>3</td>\n",
       "      <td>2011-12-09 12:50:00</td>\n",
       "      <td>5.0</td>\n",
       "      <td>12680.0</td>\n",
       "      <td>France</td>\n",
       "      <td>49</td>\n",
       "      <td>1</td>\n",
       "    </tr>\n",
       "  </tbody>\n",
       "</table>\n",
       "<p>516529 rows × 10 columns</p>\n",
       "</div>"
      ],
      "text/plain": [
       "       InvoiceNo StockCode                          Description  Quantity  \\\n",
       "0         536365    85123A   WHITE HANGING HEART T-LIGHT HOLDER         6   \n",
       "1         536365     71053                  WHITE METAL LANTERN         6   \n",
       "2         536365    84406B       CREAM CUPID HEARTS COAT HANGER         8   \n",
       "3         536365    84029G  KNITTED UNION FLAG HOT WATER BOTTLE         6   \n",
       "4         536365    84029E       RED WOOLLY HOTTIE WHITE HEART.         6   \n",
       "...          ...       ...                                  ...       ...   \n",
       "541904    581587     22613          PACK OF 20 SPACEBOY NAPKINS        12   \n",
       "541905    581587     22899         CHILDREN'S APRON DOLLY GIRL          6   \n",
       "541906    581587     23254        CHILDRENS CUTLERY DOLLY GIRL          4   \n",
       "541907    581587     23255      CHILDRENS CUTLERY CIRCUS PARADE         4   \n",
       "541908    581587     22138        BAKING SET 9 PIECE RETROSPOT          3   \n",
       "\n",
       "               InvoiceDate  UnitPrice  CustomerID         Country  Week  \\\n",
       "0      2010-12-01 08:26:00        2.5     17850.0  United Kingdom    48   \n",
       "1      2010-12-01 08:26:00        3.4     17850.0  United Kingdom    48   \n",
       "2      2010-12-01 08:26:00        2.8     17850.0  United Kingdom    48   \n",
       "3      2010-12-01 08:26:00        3.4     17850.0  United Kingdom    48   \n",
       "4      2010-12-01 08:26:00        3.4     17850.0  United Kingdom    48   \n",
       "...                    ...        ...         ...             ...   ...   \n",
       "541904 2011-12-09 12:50:00        0.8     12680.0          France    49   \n",
       "541905 2011-12-09 12:50:00        2.1     12680.0          France    49   \n",
       "541906 2011-12-09 12:50:00        4.2     12680.0          France    49   \n",
       "541907 2011-12-09 12:50:00        4.2     12680.0          France    49   \n",
       "541908 2011-12-09 12:50:00        5.0     12680.0          France    49   \n",
       "\n",
       "        spend_label  \n",
       "0                 1  \n",
       "1                 2  \n",
       "2                 2  \n",
       "3                 2  \n",
       "4                 2  \n",
       "...             ...  \n",
       "541904            1  \n",
       "541905            1  \n",
       "541906            1  \n",
       "541907            1  \n",
       "541908            1  \n",
       "\n",
       "[516529 rows x 10 columns]"
      ]
     },
     "execution_count": 42,
     "metadata": {},
     "output_type": "execute_result"
    }
   ],
   "source": [
    "data3"
   ]
  },
  {
   "cell_type": "code",
   "execution_count": 48,
   "id": "fe88a0ef",
   "metadata": {},
   "outputs": [],
   "source": [
    "df_train = data3[data3.InvoiceDate<'2011-11-01']\n",
    "df_test = data3[data3.InvoiceDate>='2011-11-01']"
   ]
  },
  {
   "cell_type": "code",
   "execution_count": 69,
   "id": "a9383ed5",
   "metadata": {},
   "outputs": [],
   "source": [
    "del X_train\n",
    "del y_train\n",
    "\n",
    "del X_test\n",
    "del y_test"
   ]
  },
  {
   "cell_type": "code",
   "execution_count": 70,
   "id": "0410655c",
   "metadata": {},
   "outputs": [],
   "source": [
    "X_train = df_train.drop(labels=['InvoiceNo', 'StockCode', 'Description', \n",
    "                                'Country', 'spend_label','InvoiceDate','CustomerID'],axis=1)\n",
    "y_train = df_train.spend_label\n",
    "\n",
    "X_test = df_test.drop(labels=['InvoiceNo', 'StockCode', 'Description', \n",
    "                              'Country', 'spend_label','InvoiceDate','CustomerID'],axis=1)\n",
    "y_test = df_test.spend_label\n"
   ]
  },
  {
   "cell_type": "code",
   "execution_count": 71,
   "id": "2ed55429",
   "metadata": {},
   "outputs": [],
   "source": [
    "from sklearn.metrics import confusion_matrix,precision_recall_curve,auc,roc_auc_score,roc_curve,recall_score,classification_report\n",
    "from sklearn.metrics import precision_score, recall_score, confusion_matrix, classification_report,accuracy_score, f1_score\n",
    "from sklearn.model_selection import  cross_val_score\n",
    "# from sklearn.externals import joblib #for saving the trained model"
   ]
  },
  {
   "cell_type": "code",
   "execution_count": 72,
   "id": "4ef80248",
   "metadata": {},
   "outputs": [],
   "source": [
    "import itertools\n",
    "\n",
    "# confusion matrix plotting function\n",
    "def plot_confusion_matrix(cm, classes,\n",
    "                          normalize=False,\n",
    "                          title='Confusion matrix',\n",
    "                          cmap=plt.cm.Blues):\n",
    "    \"\"\"\n",
    "    This function prints and plots the confusion matrix.\n",
    "    Normalization can be applied by setting `normalize=True`.\n",
    "    \"\"\"\n",
    "    plt.imshow(cm, interpolation='nearest', cmap=cmap)\n",
    "    plt.title(title)\n",
    "    plt.colorbar()\n",
    "    tick_marks = np.arange(len(classes))\n",
    "    plt.xticks(tick_marks, classes, rotation=0)\n",
    "    plt.yticks(tick_marks, classes)\n",
    "\n",
    "    if normalize:\n",
    "        cm = cm.astype('float') / cm.sum(axis=1)[:, np.newaxis]\n",
    "        #print(\"Normalized confusion matrix\")\n",
    "    else:\n",
    "        1#print('Confusion matrix, without normalization')\n",
    "\n",
    "    #print(cm)\n",
    "\n",
    "    thresh = cm.max() / 2.\n",
    "    for i, j in itertools.product(range(cm.shape[0]), range(cm.shape[1])):\n",
    "        plt.text(j, i, cm[i, j],\n",
    "                 horizontalalignment=\"center\",\n",
    "                 color=\"white\" if cm[i, j] > thresh else \"black\")\n",
    "\n",
    "    plt.tight_layout()\n",
    "    plt.ylabel('True label')\n",
    "    plt.xlabel('Predicted label')"
   ]
  },
  {
   "cell_type": "code",
   "execution_count": 73,
   "id": "c712dfad",
   "metadata": {},
   "outputs": [],
   "source": [
    "from sklearn.ensemble import RandomForestRegressor\n",
    "from sklearn.model_selection import GridSearchCV\n",
    "from sklearn.model_selection import RandomizedSearchCV"
   ]
  },
  {
   "cell_type": "code",
   "execution_count": 93,
   "id": "278f36de",
   "metadata": {},
   "outputs": [],
   "source": [
    "from sklearn.metrics import make_scorer\n",
    "\n",
    "# Metric used to measure the model (Root Mean Square Error)\n",
    "def rmse(y_actual, y_pred):\n",
    "    rmse = np.sqrt(mean_squared_error(y_actual,y_pred))\n",
    "    return rmse\n",
    "rmse_cv = make_scorer(rmse, greater_is_better=False)"
   ]
  },
  {
   "cell_type": "code",
   "execution_count": null,
   "id": "01baf53f",
   "metadata": {},
   "outputs": [],
   "source": [
    "from sklearn.metrics import make_scorer, mean_squared_error\n",
    "import numpy as np\n",
    "def rmse(y_true, y_pred):\n",
    "    return np.sqrt(mean_squared_error(y_true, y_pred))\n",
    "rmse_cv = make_scorer(rmse, greater_is_better=False)"
   ]
  },
  {
   "cell_type": "code",
   "execution_count": 75,
   "id": "ddd88e5a",
   "metadata": {},
   "outputs": [
    {
     "name": "stdout",
     "output_type": "stream",
     "text": [
      "Fitting 5 folds for each of 100 candidates, totalling 500 fits\n",
      "[CV] END max_features=sqrt, min_samples_leaf=5, min_samples_split=15, n_estimators=50; total time=   2.9s\n",
      "[CV] END max_features=sqrt, min_samples_leaf=5, min_samples_split=15, n_estimators=50; total time=   3.0s\n",
      "[CV] END max_features=sqrt, min_samples_leaf=5, min_samples_split=15, n_estimators=50; total time=   3.0s\n",
      "[CV] END max_features=sqrt, min_samples_leaf=5, min_samples_split=15, n_estimators=50; total time=   3.1s\n",
      "[CV] END max_features=sqrt, min_samples_leaf=5, min_samples_split=15, n_estimators=50; total time=   3.2s\n",
      "[CV] END max_features=auto, min_samples_leaf=1, min_samples_split=2, n_estimators=200; total time=  20.5s\n",
      "[CV] END max_features=auto, min_samples_leaf=1, min_samples_split=2, n_estimators=200; total time=  19.2s\n",
      "[CV] END max_features=auto, min_samples_leaf=1, min_samples_split=2, n_estimators=200; total time=  19.5s\n",
      "[CV] END max_features=auto, min_samples_leaf=1, min_samples_split=2, n_estimators=200; total time=  19.4s\n",
      "[CV] END max_features=auto, min_samples_leaf=1, min_samples_split=2, n_estimators=200; total time=  19.2s\n",
      "[CV] END max_features=sqrt, min_samples_leaf=1, min_samples_split=2, n_estimators=50; total time=   3.0s\n",
      "[CV] END max_features=sqrt, min_samples_leaf=1, min_samples_split=2, n_estimators=50; total time=   3.1s\n",
      "[CV] END max_features=sqrt, min_samples_leaf=1, min_samples_split=2, n_estimators=50; total time=   3.1s\n",
      "[CV] END max_features=sqrt, min_samples_leaf=1, min_samples_split=2, n_estimators=50; total time=   3.1s\n",
      "[CV] END max_features=sqrt, min_samples_leaf=1, min_samples_split=2, n_estimators=50; total time=   3.3s\n",
      "[CV] END max_features=sqrt, min_samples_leaf=5, min_samples_split=15, n_estimators=10; total time=   0.6s\n",
      "[CV] END max_features=sqrt, min_samples_leaf=5, min_samples_split=15, n_estimators=10; total time=   0.6s\n",
      "[CV] END max_features=sqrt, min_samples_leaf=5, min_samples_split=15, n_estimators=10; total time=   0.6s\n",
      "[CV] END max_features=sqrt, min_samples_leaf=5, min_samples_split=15, n_estimators=10; total time=   0.6s\n",
      "[CV] END max_features=sqrt, min_samples_leaf=5, min_samples_split=15, n_estimators=10; total time=   0.6s\n",
      "[CV] END max_features=auto, min_samples_leaf=2, min_samples_split=2, n_estimators=100; total time=  10.3s\n",
      "[CV] END max_features=auto, min_samples_leaf=2, min_samples_split=2, n_estimators=100; total time=  10.2s\n",
      "[CV] END max_features=auto, min_samples_leaf=2, min_samples_split=2, n_estimators=100; total time=   9.9s\n",
      "[CV] END max_features=auto, min_samples_leaf=2, min_samples_split=2, n_estimators=100; total time=   9.9s\n",
      "[CV] END max_features=auto, min_samples_leaf=2, min_samples_split=2, n_estimators=100; total time=   9.7s\n",
      "[CV] END max_features=log2, min_samples_leaf=10, min_samples_split=2, n_estimators=200; total time=  12.3s\n",
      "[CV] END max_features=log2, min_samples_leaf=10, min_samples_split=2, n_estimators=200; total time=  12.9s\n",
      "[CV] END max_features=log2, min_samples_leaf=10, min_samples_split=2, n_estimators=200; total time=  13.0s\n",
      "[CV] END max_features=log2, min_samples_leaf=10, min_samples_split=2, n_estimators=200; total time=  12.7s\n",
      "[CV] END max_features=log2, min_samples_leaf=10, min_samples_split=2, n_estimators=200; total time=  12.8s\n",
      "[CV] END max_features=log2, min_samples_leaf=1, min_samples_split=2, n_estimators=10; total time=   0.5s\n",
      "[CV] END max_features=log2, min_samples_leaf=1, min_samples_split=2, n_estimators=10; total time=   0.6s\n",
      "[CV] END max_features=log2, min_samples_leaf=1, min_samples_split=2, n_estimators=10; total time=   0.6s\n",
      "[CV] END max_features=log2, min_samples_leaf=1, min_samples_split=2, n_estimators=10; total time=   0.6s\n",
      "[CV] END max_features=log2, min_samples_leaf=1, min_samples_split=2, n_estimators=10; total time=   0.7s\n",
      "[CV] END max_features=sqrt, min_samples_leaf=1, min_samples_split=2, n_estimators=200; total time=  12.7s\n",
      "[CV] END max_features=sqrt, min_samples_leaf=1, min_samples_split=2, n_estimators=200; total time=  13.1s\n",
      "[CV] END max_features=sqrt, min_samples_leaf=1, min_samples_split=2, n_estimators=200; total time=  13.1s\n",
      "[CV] END max_features=sqrt, min_samples_leaf=1, min_samples_split=2, n_estimators=200; total time=  13.1s\n",
      "[CV] END max_features=sqrt, min_samples_leaf=1, min_samples_split=2, n_estimators=200; total time=  13.1s\n",
      "[CV] END max_features=auto, min_samples_leaf=2, min_samples_split=3, n_estimators=50; total time=   4.9s\n",
      "[CV] END max_features=auto, min_samples_leaf=2, min_samples_split=3, n_estimators=50; total time=   4.8s\n",
      "[CV] END max_features=auto, min_samples_leaf=2, min_samples_split=3, n_estimators=50; total time=   4.8s\n",
      "[CV] END max_features=auto, min_samples_leaf=2, min_samples_split=3, n_estimators=50; total time=   4.9s\n",
      "[CV] END max_features=auto, min_samples_leaf=2, min_samples_split=3, n_estimators=50; total time=   4.7s\n",
      "[CV] END max_features=sqrt, min_samples_leaf=10, min_samples_split=2, n_estimators=50; total time=   3.1s\n",
      "[CV] END max_features=sqrt, min_samples_leaf=10, min_samples_split=2, n_estimators=50; total time=   3.2s\n",
      "[CV] END max_features=sqrt, min_samples_leaf=10, min_samples_split=2, n_estimators=50; total time=   3.3s\n",
      "[CV] END max_features=sqrt, min_samples_leaf=10, min_samples_split=2, n_estimators=50; total time=   3.1s\n",
      "[CV] END max_features=sqrt, min_samples_leaf=10, min_samples_split=2, n_estimators=50; total time=   3.2s\n",
      "[CV] END max_features=auto, min_samples_leaf=10, min_samples_split=2, n_estimators=200; total time=  20.2s\n",
      "[CV] END max_features=auto, min_samples_leaf=10, min_samples_split=2, n_estimators=200; total time=  19.3s\n",
      "[CV] END max_features=auto, min_samples_leaf=10, min_samples_split=2, n_estimators=200; total time=  19.6s\n",
      "[CV] END max_features=auto, min_samples_leaf=10, min_samples_split=2, n_estimators=200; total time=  19.6s\n",
      "[CV] END max_features=auto, min_samples_leaf=10, min_samples_split=2, n_estimators=200; total time=  19.6s\n",
      "[CV] END max_features=auto, min_samples_leaf=2, min_samples_split=15, n_estimators=10; total time=   0.9s\n",
      "[CV] END max_features=auto, min_samples_leaf=2, min_samples_split=15, n_estimators=10; total time=   0.9s\n",
      "[CV] END max_features=auto, min_samples_leaf=2, min_samples_split=15, n_estimators=10; total time=   0.9s\n",
      "[CV] END max_features=auto, min_samples_leaf=2, min_samples_split=15, n_estimators=10; total time=   0.9s\n",
      "[CV] END max_features=auto, min_samples_leaf=2, min_samples_split=15, n_estimators=10; total time=   0.9s\n",
      "[CV] END max_features=auto, min_samples_leaf=10, min_samples_split=2, n_estimators=50; total time=   5.0s\n",
      "[CV] END max_features=auto, min_samples_leaf=10, min_samples_split=2, n_estimators=50; total time=   4.9s\n",
      "[CV] END max_features=auto, min_samples_leaf=10, min_samples_split=2, n_estimators=50; total time=   4.8s\n",
      "[CV] END max_features=auto, min_samples_leaf=10, min_samples_split=2, n_estimators=50; total time=   4.8s\n",
      "[CV] END max_features=auto, min_samples_leaf=10, min_samples_split=2, n_estimators=50; total time=   4.8s\n",
      "[CV] END max_features=log2, min_samples_leaf=2, min_samples_split=5, n_estimators=200; total time=  12.4s\n",
      "[CV] END max_features=log2, min_samples_leaf=2, min_samples_split=5, n_estimators=200; total time=  13.1s\n",
      "[CV] END max_features=log2, min_samples_leaf=2, min_samples_split=5, n_estimators=200; total time=  13.1s\n",
      "[CV] END max_features=log2, min_samples_leaf=2, min_samples_split=5, n_estimators=200; total time=  13.1s\n",
      "[CV] END max_features=log2, min_samples_leaf=2, min_samples_split=5, n_estimators=200; total time=  13.1s\n",
      "[CV] END max_features=auto, min_samples_leaf=1, min_samples_split=10, n_estimators=200; total time=  20.1s\n",
      "[CV] END max_features=auto, min_samples_leaf=1, min_samples_split=10, n_estimators=200; total time=  19.8s\n",
      "[CV] END max_features=auto, min_samples_leaf=1, min_samples_split=10, n_estimators=200; total time=  19.7s\n",
      "[CV] END max_features=auto, min_samples_leaf=1, min_samples_split=10, n_estimators=200; total time=  19.8s\n",
      "[CV] END max_features=auto, min_samples_leaf=1, min_samples_split=10, n_estimators=200; total time=  19.6s\n",
      "[CV] END max_features=log2, min_samples_leaf=1, min_samples_split=10, n_estimators=200; total time=  12.4s\n",
      "[CV] END max_features=log2, min_samples_leaf=1, min_samples_split=10, n_estimators=200; total time=  13.0s\n",
      "[CV] END max_features=log2, min_samples_leaf=1, min_samples_split=10, n_estimators=200; total time=  12.9s\n",
      "[CV] END max_features=log2, min_samples_leaf=1, min_samples_split=10, n_estimators=200; total time=  12.9s\n",
      "[CV] END max_features=log2, min_samples_leaf=1, min_samples_split=10, n_estimators=200; total time=  13.2s\n",
      "[CV] END max_features=sqrt, min_samples_leaf=5, min_samples_split=5, n_estimators=10; total time=   0.6s\n",
      "[CV] END max_features=sqrt, min_samples_leaf=5, min_samples_split=5, n_estimators=10; total time=   0.6s\n",
      "[CV] END max_features=sqrt, min_samples_leaf=5, min_samples_split=5, n_estimators=10; total time=   0.6s\n",
      "[CV] END max_features=sqrt, min_samples_leaf=5, min_samples_split=5, n_estimators=10; total time=   0.6s\n",
      "[CV] END max_features=sqrt, min_samples_leaf=5, min_samples_split=5, n_estimators=10; total time=   0.5s\n",
      "[CV] END max_features=log2, min_samples_leaf=2, min_samples_split=10, n_estimators=150; total time=   9.3s\n",
      "[CV] END max_features=log2, min_samples_leaf=2, min_samples_split=10, n_estimators=150; total time=   9.8s\n",
      "[CV] END max_features=log2, min_samples_leaf=2, min_samples_split=10, n_estimators=150; total time=   9.8s\n",
      "[CV] END max_features=log2, min_samples_leaf=2, min_samples_split=10, n_estimators=150; total time=  10.0s\n",
      "[CV] END max_features=log2, min_samples_leaf=2, min_samples_split=10, n_estimators=150; total time=   9.9s\n",
      "[CV] END max_features=auto, min_samples_leaf=2, min_samples_split=15, n_estimators=50; total time=   4.9s\n",
      "[CV] END max_features=auto, min_samples_leaf=2, min_samples_split=15, n_estimators=50; total time=   4.9s\n",
      "[CV] END max_features=auto, min_samples_leaf=2, min_samples_split=15, n_estimators=50; total time=   4.8s\n",
      "[CV] END max_features=auto, min_samples_leaf=2, min_samples_split=15, n_estimators=50; total time=   4.9s\n",
      "[CV] END max_features=auto, min_samples_leaf=2, min_samples_split=15, n_estimators=50; total time=   4.9s\n",
      "[CV] END max_features=auto, min_samples_leaf=2, min_samples_split=10, n_estimators=10; total time=   0.9s\n",
      "[CV] END max_features=auto, min_samples_leaf=2, min_samples_split=10, n_estimators=10; total time=   0.9s\n",
      "[CV] END max_features=auto, min_samples_leaf=2, min_samples_split=10, n_estimators=10; total time=   0.9s\n",
      "[CV] END max_features=auto, min_samples_leaf=2, min_samples_split=10, n_estimators=10; total time=   0.9s\n",
      "[CV] END max_features=auto, min_samples_leaf=2, min_samples_split=10, n_estimators=10; total time=   0.9s\n",
      "[CV] END max_features=log2, min_samples_leaf=5, min_samples_split=3, n_estimators=10; total time=   0.6s\n",
      "[CV] END max_features=log2, min_samples_leaf=5, min_samples_split=3, n_estimators=10; total time=   0.6s\n",
      "[CV] END max_features=log2, min_samples_leaf=5, min_samples_split=3, n_estimators=10; total time=   0.6s\n",
      "[CV] END max_features=log2, min_samples_leaf=5, min_samples_split=3, n_estimators=10; total time=   0.6s\n",
      "[CV] END max_features=log2, min_samples_leaf=5, min_samples_split=3, n_estimators=10; total time=   0.6s\n",
      "[CV] END max_features=auto, min_samples_leaf=7, min_samples_split=15, n_estimators=100; total time=  10.2s\n",
      "[CV] END max_features=auto, min_samples_leaf=7, min_samples_split=15, n_estimators=100; total time=  10.2s\n",
      "[CV] END max_features=auto, min_samples_leaf=7, min_samples_split=15, n_estimators=100; total time=  10.5s\n",
      "[CV] END max_features=auto, min_samples_leaf=7, min_samples_split=15, n_estimators=100; total time=  10.5s\n",
      "[CV] END max_features=auto, min_samples_leaf=7, min_samples_split=15, n_estimators=100; total time=  10.7s\n",
      "[CV] END max_features=log2, min_samples_leaf=10, min_samples_split=10, n_estimators=50; total time=   3.3s\n",
      "[CV] END max_features=log2, min_samples_leaf=10, min_samples_split=10, n_estimators=50; total time=   3.4s\n",
      "[CV] END max_features=log2, min_samples_leaf=10, min_samples_split=10, n_estimators=50; total time=   3.5s\n",
      "[CV] END max_features=log2, min_samples_leaf=10, min_samples_split=10, n_estimators=50; total time=   3.4s\n",
      "[CV] END max_features=log2, min_samples_leaf=10, min_samples_split=10, n_estimators=50; total time=   3.3s\n",
      "[CV] END max_features=log2, min_samples_leaf=5, min_samples_split=2, n_estimators=10; total time=   0.6s\n",
      "[CV] END max_features=log2, min_samples_leaf=5, min_samples_split=2, n_estimators=10; total time=   0.6s\n",
      "[CV] END max_features=log2, min_samples_leaf=5, min_samples_split=2, n_estimators=10; total time=   0.6s\n",
      "[CV] END max_features=log2, min_samples_leaf=5, min_samples_split=2, n_estimators=10; total time=   0.6s\n",
      "[CV] END max_features=log2, min_samples_leaf=5, min_samples_split=2, n_estimators=10; total time=   0.6s\n",
      "[CV] END max_features=log2, min_samples_leaf=1, min_samples_split=2, n_estimators=200; total time=  18.7s\n",
      "[CV] END max_features=log2, min_samples_leaf=1, min_samples_split=2, n_estimators=200; total time=  14.6s\n",
      "[CV] END max_features=log2, min_samples_leaf=1, min_samples_split=2, n_estimators=200; total time=  14.2s\n",
      "[CV] END max_features=log2, min_samples_leaf=1, min_samples_split=2, n_estimators=200; total time=  14.5s\n",
      "[CV] END max_features=log2, min_samples_leaf=1, min_samples_split=2, n_estimators=200; total time=  14.5s\n",
      "[CV] END max_features=log2, min_samples_leaf=2, min_samples_split=2, n_estimators=10; total time=   0.7s\n",
      "[CV] END max_features=log2, min_samples_leaf=2, min_samples_split=2, n_estimators=10; total time=   0.6s\n",
      "[CV] END max_features=log2, min_samples_leaf=2, min_samples_split=2, n_estimators=10; total time=   0.7s\n",
      "[CV] END max_features=log2, min_samples_leaf=2, min_samples_split=2, n_estimators=10; total time=   0.7s\n",
      "[CV] END max_features=log2, min_samples_leaf=2, min_samples_split=2, n_estimators=10; total time=   0.7s\n",
      "[CV] END max_features=sqrt, min_samples_leaf=7, min_samples_split=10, n_estimators=50; total time=   3.3s\n",
      "[CV] END max_features=sqrt, min_samples_leaf=7, min_samples_split=10, n_estimators=50; total time=   3.6s\n",
      "[CV] END max_features=sqrt, min_samples_leaf=7, min_samples_split=10, n_estimators=50; total time=   3.4s\n",
      "[CV] END max_features=sqrt, min_samples_leaf=7, min_samples_split=10, n_estimators=50; total time=   3.5s\n",
      "[CV] END max_features=sqrt, min_samples_leaf=7, min_samples_split=10, n_estimators=50; total time=   3.6s\n",
      "[CV] END max_features=auto, min_samples_leaf=10, min_samples_split=5, n_estimators=200; total time=  22.2s\n",
      "[CV] END max_features=auto, min_samples_leaf=10, min_samples_split=5, n_estimators=200; total time=  21.6s\n",
      "[CV] END max_features=auto, min_samples_leaf=10, min_samples_split=5, n_estimators=200; total time=  22.1s\n",
      "[CV] END max_features=auto, min_samples_leaf=10, min_samples_split=5, n_estimators=200; total time=  22.2s\n",
      "[CV] END max_features=auto, min_samples_leaf=10, min_samples_split=5, n_estimators=200; total time=  20.8s\n",
      "[CV] END max_features=auto, min_samples_leaf=5, min_samples_split=5, n_estimators=50; total time=   5.1s\n",
      "[CV] END max_features=auto, min_samples_leaf=5, min_samples_split=5, n_estimators=50; total time=   5.0s\n",
      "[CV] END max_features=auto, min_samples_leaf=5, min_samples_split=5, n_estimators=50; total time=   5.0s\n",
      "[CV] END max_features=auto, min_samples_leaf=5, min_samples_split=5, n_estimators=50; total time=   5.0s\n",
      "[CV] END max_features=auto, min_samples_leaf=5, min_samples_split=5, n_estimators=50; total time=   5.0s\n",
      "[CV] END max_features=sqrt, min_samples_leaf=10, min_samples_split=15, n_estimators=100; total time=   6.3s\n",
      "[CV] END max_features=sqrt, min_samples_leaf=10, min_samples_split=15, n_estimators=100; total time=   6.6s\n",
      "[CV] END max_features=sqrt, min_samples_leaf=10, min_samples_split=15, n_estimators=100; total time=   6.6s\n",
      "[CV] END max_features=sqrt, min_samples_leaf=10, min_samples_split=15, n_estimators=100; total time=   6.6s\n",
      "[CV] END max_features=sqrt, min_samples_leaf=10, min_samples_split=15, n_estimators=100; total time=   6.6s\n",
      "[CV] END max_features=sqrt, min_samples_leaf=5, min_samples_split=10, n_estimators=200; total time=  12.8s\n",
      "[CV] END max_features=sqrt, min_samples_leaf=5, min_samples_split=10, n_estimators=200; total time=  13.9s\n",
      "[CV] END max_features=sqrt, min_samples_leaf=5, min_samples_split=10, n_estimators=200; total time=  13.9s\n",
      "[CV] END max_features=sqrt, min_samples_leaf=5, min_samples_split=10, n_estimators=200; total time=  14.5s\n",
      "[CV] END max_features=sqrt, min_samples_leaf=5, min_samples_split=10, n_estimators=200; total time=  14.6s\n",
      "[CV] END max_features=auto, min_samples_leaf=10, min_samples_split=10, n_estimators=150; total time=  16.3s\n",
      "[CV] END max_features=auto, min_samples_leaf=10, min_samples_split=10, n_estimators=150; total time=  15.8s\n",
      "[CV] END max_features=auto, min_samples_leaf=10, min_samples_split=10, n_estimators=150; total time=  16.1s\n",
      "[CV] END max_features=auto, min_samples_leaf=10, min_samples_split=10, n_estimators=150; total time=  16.9s\n",
      "[CV] END max_features=auto, min_samples_leaf=10, min_samples_split=10, n_estimators=150; total time=  17.2s\n",
      "[CV] END max_features=sqrt, min_samples_leaf=5, min_samples_split=15, n_estimators=150; total time=  10.3s\n",
      "[CV] END max_features=sqrt, min_samples_leaf=5, min_samples_split=15, n_estimators=150; total time=  10.7s\n",
      "[CV] END max_features=sqrt, min_samples_leaf=5, min_samples_split=15, n_estimators=150; total time=  11.0s\n",
      "[CV] END max_features=sqrt, min_samples_leaf=5, min_samples_split=15, n_estimators=150; total time=  10.5s\n",
      "[CV] END max_features=sqrt, min_samples_leaf=5, min_samples_split=15, n_estimators=150; total time=  10.9s\n",
      "[CV] END max_features=log2, min_samples_leaf=7, min_samples_split=5, n_estimators=10; total time=   0.6s\n",
      "[CV] END max_features=log2, min_samples_leaf=7, min_samples_split=5, n_estimators=10; total time=   0.6s\n",
      "[CV] END max_features=log2, min_samples_leaf=7, min_samples_split=5, n_estimators=10; total time=   0.6s\n",
      "[CV] END max_features=log2, min_samples_leaf=7, min_samples_split=5, n_estimators=10; total time=   0.6s\n",
      "[CV] END max_features=log2, min_samples_leaf=7, min_samples_split=5, n_estimators=10; total time=   0.6s\n",
      "[CV] END max_features=log2, min_samples_leaf=2, min_samples_split=10, n_estimators=200; total time=  13.1s\n",
      "[CV] END max_features=log2, min_samples_leaf=2, min_samples_split=10, n_estimators=200; total time=  14.0s\n",
      "[CV] END max_features=log2, min_samples_leaf=2, min_samples_split=10, n_estimators=200; total time=  14.4s\n",
      "[CV] END max_features=log2, min_samples_leaf=2, min_samples_split=10, n_estimators=200; total time=  14.2s\n",
      "[CV] END max_features=log2, min_samples_leaf=2, min_samples_split=10, n_estimators=200; total time=  14.5s\n",
      "[CV] END max_features=auto, min_samples_leaf=7, min_samples_split=2, n_estimators=50; total time=   5.7s\n",
      "[CV] END max_features=auto, min_samples_leaf=7, min_samples_split=2, n_estimators=50; total time=   5.3s\n",
      "[CV] END max_features=auto, min_samples_leaf=7, min_samples_split=2, n_estimators=50; total time=   5.4s\n",
      "[CV] END max_features=auto, min_samples_leaf=7, min_samples_split=2, n_estimators=50; total time=   5.3s\n",
      "[CV] END max_features=auto, min_samples_leaf=7, min_samples_split=2, n_estimators=50; total time=   5.2s\n",
      "[CV] END max_features=sqrt, min_samples_leaf=2, min_samples_split=2, n_estimators=200; total time=  13.1s\n",
      "[CV] END max_features=sqrt, min_samples_leaf=2, min_samples_split=2, n_estimators=200; total time=  13.5s\n",
      "[CV] END max_features=sqrt, min_samples_leaf=2, min_samples_split=2, n_estimators=200; total time=  13.4s\n",
      "[CV] END max_features=sqrt, min_samples_leaf=2, min_samples_split=2, n_estimators=200; total time=  13.2s\n",
      "[CV] END max_features=sqrt, min_samples_leaf=2, min_samples_split=2, n_estimators=200; total time=  13.3s\n",
      "[CV] END max_features=auto, min_samples_leaf=5, min_samples_split=10, n_estimators=100; total time=   9.9s\n",
      "[CV] END max_features=auto, min_samples_leaf=5, min_samples_split=10, n_estimators=100; total time=  10.0s\n",
      "[CV] END max_features=auto, min_samples_leaf=5, min_samples_split=10, n_estimators=100; total time=  10.0s\n",
      "[CV] END max_features=auto, min_samples_leaf=5, min_samples_split=10, n_estimators=100; total time=  10.0s\n",
      "[CV] END max_features=auto, min_samples_leaf=5, min_samples_split=10, n_estimators=100; total time=   9.9s\n",
      "[CV] END max_features=log2, min_samples_leaf=1, min_samples_split=3, n_estimators=150; total time=   9.5s\n",
      "[CV] END max_features=log2, min_samples_leaf=1, min_samples_split=3, n_estimators=150; total time=   9.8s\n",
      "[CV] END max_features=log2, min_samples_leaf=1, min_samples_split=3, n_estimators=150; total time=   9.9s\n",
      "[CV] END max_features=log2, min_samples_leaf=1, min_samples_split=3, n_estimators=150; total time=   9.8s\n",
      "[CV] END max_features=log2, min_samples_leaf=1, min_samples_split=3, n_estimators=150; total time=   9.7s\n",
      "[CV] END max_features=auto, min_samples_leaf=5, min_samples_split=5, n_estimators=10; total time=   1.0s\n",
      "[CV] END max_features=auto, min_samples_leaf=5, min_samples_split=5, n_estimators=10; total time=   0.9s\n",
      "[CV] END max_features=auto, min_samples_leaf=5, min_samples_split=5, n_estimators=10; total time=   0.9s\n",
      "[CV] END max_features=auto, min_samples_leaf=5, min_samples_split=5, n_estimators=10; total time=   0.9s\n",
      "[CV] END max_features=auto, min_samples_leaf=5, min_samples_split=5, n_estimators=10; total time=   0.9s\n",
      "[CV] END max_features=log2, min_samples_leaf=5, min_samples_split=5, n_estimators=200; total time=  12.7s\n",
      "[CV] END max_features=log2, min_samples_leaf=5, min_samples_split=5, n_estimators=200; total time=  13.3s\n",
      "[CV] END max_features=log2, min_samples_leaf=5, min_samples_split=5, n_estimators=200; total time=  13.3s\n",
      "[CV] END max_features=log2, min_samples_leaf=5, min_samples_split=5, n_estimators=200; total time=  13.3s\n",
      "[CV] END max_features=log2, min_samples_leaf=5, min_samples_split=5, n_estimators=200; total time=  13.4s\n",
      "[CV] END max_features=auto, min_samples_leaf=5, min_samples_split=10, n_estimators=10; total time=   0.9s\n",
      "[CV] END max_features=auto, min_samples_leaf=5, min_samples_split=10, n_estimators=10; total time=   0.9s\n",
      "[CV] END max_features=auto, min_samples_leaf=5, min_samples_split=10, n_estimators=10; total time=   0.9s\n",
      "[CV] END max_features=auto, min_samples_leaf=5, min_samples_split=10, n_estimators=10; total time=   0.9s\n",
      "[CV] END max_features=auto, min_samples_leaf=5, min_samples_split=10, n_estimators=10; total time=   0.9s\n",
      "[CV] END max_features=log2, min_samples_leaf=7, min_samples_split=3, n_estimators=150; total time=   9.3s\n",
      "[CV] END max_features=log2, min_samples_leaf=7, min_samples_split=3, n_estimators=150; total time=   9.9s\n",
      "[CV] END max_features=log2, min_samples_leaf=7, min_samples_split=3, n_estimators=150; total time=   9.8s\n",
      "[CV] END max_features=log2, min_samples_leaf=7, min_samples_split=3, n_estimators=150; total time=   9.9s\n",
      "[CV] END max_features=log2, min_samples_leaf=7, min_samples_split=3, n_estimators=150; total time=  10.2s\n",
      "[CV] END max_features=log2, min_samples_leaf=1, min_samples_split=15, n_estimators=50; total time=   3.1s\n",
      "[CV] END max_features=log2, min_samples_leaf=1, min_samples_split=15, n_estimators=50; total time=   3.4s\n",
      "[CV] END max_features=log2, min_samples_leaf=1, min_samples_split=15, n_estimators=50; total time=   3.3s\n",
      "[CV] END max_features=log2, min_samples_leaf=1, min_samples_split=15, n_estimators=50; total time=   3.4s\n",
      "[CV] END max_features=log2, min_samples_leaf=1, min_samples_split=15, n_estimators=50; total time=   3.4s\n",
      "[CV] END max_features=auto, min_samples_leaf=5, min_samples_split=3, n_estimators=150; total time=  15.0s\n",
      "[CV] END max_features=auto, min_samples_leaf=5, min_samples_split=3, n_estimators=150; total time=  15.0s\n",
      "[CV] END max_features=auto, min_samples_leaf=5, min_samples_split=3, n_estimators=150; total time=  15.0s\n",
      "[CV] END max_features=auto, min_samples_leaf=5, min_samples_split=3, n_estimators=150; total time=  15.0s\n",
      "[CV] END max_features=auto, min_samples_leaf=5, min_samples_split=3, n_estimators=150; total time=  14.9s\n",
      "[CV] END max_features=sqrt, min_samples_leaf=5, min_samples_split=3, n_estimators=10; total time=   0.6s\n",
      "[CV] END max_features=sqrt, min_samples_leaf=5, min_samples_split=3, n_estimators=10; total time=   0.6s\n",
      "[CV] END max_features=sqrt, min_samples_leaf=5, min_samples_split=3, n_estimators=10; total time=   0.6s\n",
      "[CV] END max_features=sqrt, min_samples_leaf=5, min_samples_split=3, n_estimators=10; total time=   0.6s\n",
      "[CV] END max_features=sqrt, min_samples_leaf=5, min_samples_split=3, n_estimators=10; total time=   0.5s\n",
      "[CV] END max_features=sqrt, min_samples_leaf=1, min_samples_split=3, n_estimators=200; total time=  12.7s\n",
      "[CV] END max_features=sqrt, min_samples_leaf=1, min_samples_split=3, n_estimators=200; total time=  13.1s\n",
      "[CV] END max_features=sqrt, min_samples_leaf=1, min_samples_split=3, n_estimators=200; total time=  13.3s\n",
      "[CV] END max_features=sqrt, min_samples_leaf=1, min_samples_split=3, n_estimators=200; total time=  13.2s\n",
      "[CV] END max_features=sqrt, min_samples_leaf=1, min_samples_split=3, n_estimators=200; total time=  13.3s\n",
      "[CV] END max_features=sqrt, min_samples_leaf=2, min_samples_split=3, n_estimators=50; total time=   3.2s\n",
      "[CV] END max_features=sqrt, min_samples_leaf=2, min_samples_split=3, n_estimators=50; total time=   3.3s\n",
      "[CV] END max_features=sqrt, min_samples_leaf=2, min_samples_split=3, n_estimators=50; total time=   3.2s\n",
      "[CV] END max_features=sqrt, min_samples_leaf=2, min_samples_split=3, n_estimators=50; total time=   3.4s\n",
      "[CV] END max_features=sqrt, min_samples_leaf=2, min_samples_split=3, n_estimators=50; total time=   3.2s\n",
      "[CV] END max_features=log2, min_samples_leaf=7, min_samples_split=5, n_estimators=200; total time=  12.6s\n",
      "[CV] END max_features=log2, min_samples_leaf=7, min_samples_split=5, n_estimators=200; total time=  13.4s\n",
      "[CV] END max_features=log2, min_samples_leaf=7, min_samples_split=5, n_estimators=200; total time=  13.1s\n",
      "[CV] END max_features=log2, min_samples_leaf=7, min_samples_split=5, n_estimators=200; total time=  13.2s\n",
      "[CV] END max_features=log2, min_samples_leaf=7, min_samples_split=5, n_estimators=200; total time=  13.3s\n",
      "[CV] END max_features=auto, min_samples_leaf=5, min_samples_split=3, n_estimators=200; total time=  20.1s\n",
      "[CV] END max_features=auto, min_samples_leaf=5, min_samples_split=3, n_estimators=200; total time=  20.3s\n",
      "[CV] END max_features=auto, min_samples_leaf=5, min_samples_split=3, n_estimators=200; total time=  20.2s\n",
      "[CV] END max_features=auto, min_samples_leaf=5, min_samples_split=3, n_estimators=200; total time=  19.8s\n",
      "[CV] END max_features=auto, min_samples_leaf=5, min_samples_split=3, n_estimators=200; total time=  20.1s\n",
      "[CV] END max_features=log2, min_samples_leaf=10, min_samples_split=10, n_estimators=100; total time=   6.3s\n",
      "[CV] END max_features=log2, min_samples_leaf=10, min_samples_split=10, n_estimators=100; total time=   6.6s\n",
      "[CV] END max_features=log2, min_samples_leaf=10, min_samples_split=10, n_estimators=100; total time=   7.0s\n",
      "[CV] END max_features=log2, min_samples_leaf=10, min_samples_split=10, n_estimators=100; total time=   6.9s\n",
      "[CV] END max_features=log2, min_samples_leaf=10, min_samples_split=10, n_estimators=100; total time=   6.7s\n",
      "[CV] END max_features=log2, min_samples_leaf=5, min_samples_split=5, n_estimators=100; total time=   6.3s\n",
      "[CV] END max_features=log2, min_samples_leaf=5, min_samples_split=5, n_estimators=100; total time=   6.6s\n",
      "[CV] END max_features=log2, min_samples_leaf=5, min_samples_split=5, n_estimators=100; total time=   6.9s\n",
      "[CV] END max_features=log2, min_samples_leaf=5, min_samples_split=5, n_estimators=100; total time=   7.3s\n",
      "[CV] END max_features=log2, min_samples_leaf=5, min_samples_split=5, n_estimators=100; total time=   7.2s\n",
      "[CV] END max_features=auto, min_samples_leaf=5, min_samples_split=2, n_estimators=200; total time=  20.8s\n",
      "[CV] END max_features=auto, min_samples_leaf=5, min_samples_split=2, n_estimators=200; total time=  20.0s\n",
      "[CV] END max_features=auto, min_samples_leaf=5, min_samples_split=2, n_estimators=200; total time=  20.1s\n",
      "[CV] END max_features=auto, min_samples_leaf=5, min_samples_split=2, n_estimators=200; total time=  20.8s\n",
      "[CV] END max_features=auto, min_samples_leaf=5, min_samples_split=2, n_estimators=200; total time=  21.1s\n",
      "[CV] END max_features=sqrt, min_samples_leaf=10, min_samples_split=5, n_estimators=150; total time=   9.9s\n",
      "[CV] END max_features=sqrt, min_samples_leaf=10, min_samples_split=5, n_estimators=150; total time=  10.5s\n",
      "[CV] END max_features=sqrt, min_samples_leaf=10, min_samples_split=5, n_estimators=150; total time=  10.5s\n",
      "[CV] END max_features=sqrt, min_samples_leaf=10, min_samples_split=5, n_estimators=150; total time=  10.1s\n",
      "[CV] END max_features=sqrt, min_samples_leaf=10, min_samples_split=5, n_estimators=150; total time=  10.4s\n",
      "[CV] END max_features=auto, min_samples_leaf=1, min_samples_split=15, n_estimators=150; total time=  15.5s\n",
      "[CV] END max_features=auto, min_samples_leaf=1, min_samples_split=15, n_estimators=150; total time=  15.0s\n",
      "[CV] END max_features=auto, min_samples_leaf=1, min_samples_split=15, n_estimators=150; total time=  14.7s\n",
      "[CV] END max_features=auto, min_samples_leaf=1, min_samples_split=15, n_estimators=150; total time=  14.8s\n",
      "[CV] END max_features=auto, min_samples_leaf=1, min_samples_split=15, n_estimators=150; total time=  15.0s\n",
      "[CV] END max_features=auto, min_samples_leaf=1, min_samples_split=10, n_estimators=10; total time=   0.9s\n",
      "[CV] END max_features=auto, min_samples_leaf=1, min_samples_split=10, n_estimators=10; total time=   0.9s\n",
      "[CV] END max_features=auto, min_samples_leaf=1, min_samples_split=10, n_estimators=10; total time=   0.9s\n",
      "[CV] END max_features=auto, min_samples_leaf=1, min_samples_split=10, n_estimators=10; total time=   0.9s\n",
      "[CV] END max_features=auto, min_samples_leaf=1, min_samples_split=10, n_estimators=10; total time=   0.9s\n",
      "[CV] END max_features=log2, min_samples_leaf=2, min_samples_split=2, n_estimators=100; total time=   6.3s\n",
      "[CV] END max_features=log2, min_samples_leaf=2, min_samples_split=2, n_estimators=100; total time=   6.7s\n",
      "[CV] END max_features=log2, min_samples_leaf=2, min_samples_split=2, n_estimators=100; total time=   6.8s\n",
      "[CV] END max_features=log2, min_samples_leaf=2, min_samples_split=2, n_estimators=100; total time=   6.9s\n",
      "[CV] END max_features=log2, min_samples_leaf=2, min_samples_split=2, n_estimators=100; total time=   6.8s\n",
      "[CV] END max_features=sqrt, min_samples_leaf=1, min_samples_split=5, n_estimators=10; total time=   0.6s\n",
      "[CV] END max_features=sqrt, min_samples_leaf=1, min_samples_split=5, n_estimators=10; total time=   0.6s\n",
      "[CV] END max_features=sqrt, min_samples_leaf=1, min_samples_split=5, n_estimators=10; total time=   0.6s\n",
      "[CV] END max_features=sqrt, min_samples_leaf=1, min_samples_split=5, n_estimators=10; total time=   0.6s\n",
      "[CV] END max_features=sqrt, min_samples_leaf=1, min_samples_split=5, n_estimators=10; total time=   0.6s\n",
      "[CV] END max_features=auto, min_samples_leaf=5, min_samples_split=10, n_estimators=200; total time=  20.6s\n",
      "[CV] END max_features=auto, min_samples_leaf=5, min_samples_split=10, n_estimators=200; total time=  19.9s\n",
      "[CV] END max_features=auto, min_samples_leaf=5, min_samples_split=10, n_estimators=200; total time=  20.1s\n",
      "[CV] END max_features=auto, min_samples_leaf=5, min_samples_split=10, n_estimators=200; total time=  20.0s\n",
      "[CV] END max_features=auto, min_samples_leaf=5, min_samples_split=10, n_estimators=200; total time=  19.7s\n",
      "[CV] END max_features=log2, min_samples_leaf=2, min_samples_split=2, n_estimators=200; total time=  12.8s\n",
      "[CV] END max_features=log2, min_samples_leaf=2, min_samples_split=2, n_estimators=200; total time=  13.4s\n",
      "[CV] END max_features=log2, min_samples_leaf=2, min_samples_split=2, n_estimators=200; total time=  13.2s\n",
      "[CV] END max_features=log2, min_samples_leaf=2, min_samples_split=2, n_estimators=200; total time=  13.2s\n",
      "[CV] END max_features=log2, min_samples_leaf=2, min_samples_split=2, n_estimators=200; total time=  13.3s\n",
      "[CV] END max_features=log2, min_samples_leaf=2, min_samples_split=3, n_estimators=10; total time=   0.6s\n",
      "[CV] END max_features=log2, min_samples_leaf=2, min_samples_split=3, n_estimators=10; total time=   0.6s\n",
      "[CV] END max_features=log2, min_samples_leaf=2, min_samples_split=3, n_estimators=10; total time=   0.6s\n",
      "[CV] END max_features=log2, min_samples_leaf=2, min_samples_split=3, n_estimators=10; total time=   0.6s\n",
      "[CV] END max_features=log2, min_samples_leaf=2, min_samples_split=3, n_estimators=10; total time=   0.6s\n",
      "[CV] END max_features=auto, min_samples_leaf=7, min_samples_split=3, n_estimators=150; total time=  15.4s\n",
      "[CV] END max_features=auto, min_samples_leaf=7, min_samples_split=3, n_estimators=150; total time=  14.8s\n",
      "[CV] END max_features=auto, min_samples_leaf=7, min_samples_split=3, n_estimators=150; total time=  14.8s\n",
      "[CV] END max_features=auto, min_samples_leaf=7, min_samples_split=3, n_estimators=150; total time=  15.2s\n",
      "[CV] END max_features=auto, min_samples_leaf=7, min_samples_split=3, n_estimators=150; total time=  15.2s\n",
      "[CV] END max_features=sqrt, min_samples_leaf=5, min_samples_split=5, n_estimators=50; total time=   3.1s\n",
      "[CV] END max_features=sqrt, min_samples_leaf=5, min_samples_split=5, n_estimators=50; total time=   3.2s\n",
      "[CV] END max_features=sqrt, min_samples_leaf=5, min_samples_split=5, n_estimators=50; total time=   3.3s\n",
      "[CV] END max_features=sqrt, min_samples_leaf=5, min_samples_split=5, n_estimators=50; total time=   3.2s\n",
      "[CV] END max_features=sqrt, min_samples_leaf=5, min_samples_split=5, n_estimators=50; total time=   3.4s\n",
      "[CV] END max_features=sqrt, min_samples_leaf=10, min_samples_split=5, n_estimators=200; total time=  12.6s\n",
      "[CV] END max_features=sqrt, min_samples_leaf=10, min_samples_split=5, n_estimators=200; total time=  13.5s\n",
      "[CV] END max_features=sqrt, min_samples_leaf=10, min_samples_split=5, n_estimators=200; total time=  13.4s\n",
      "[CV] END max_features=sqrt, min_samples_leaf=10, min_samples_split=5, n_estimators=200; total time=  15.3s\n",
      "[CV] END max_features=sqrt, min_samples_leaf=10, min_samples_split=5, n_estimators=200; total time=  14.0s\n",
      "[CV] END max_features=sqrt, min_samples_leaf=1, min_samples_split=15, n_estimators=150; total time=   9.8s\n",
      "[CV] END max_features=sqrt, min_samples_leaf=1, min_samples_split=15, n_estimators=150; total time=  10.2s\n",
      "[CV] END max_features=sqrt, min_samples_leaf=1, min_samples_split=15, n_estimators=150; total time=  10.3s\n",
      "[CV] END max_features=sqrt, min_samples_leaf=1, min_samples_split=15, n_estimators=150; total time=  10.2s\n",
      "[CV] END max_features=sqrt, min_samples_leaf=1, min_samples_split=15, n_estimators=150; total time=  10.2s\n",
      "[CV] END max_features=auto, min_samples_leaf=10, min_samples_split=5, n_estimators=10; total time=   1.0s\n",
      "[CV] END max_features=auto, min_samples_leaf=10, min_samples_split=5, n_estimators=10; total time=   1.0s\n",
      "[CV] END max_features=auto, min_samples_leaf=10, min_samples_split=5, n_estimators=10; total time=   0.9s\n",
      "[CV] END max_features=auto, min_samples_leaf=10, min_samples_split=5, n_estimators=10; total time=   1.0s\n",
      "[CV] END max_features=auto, min_samples_leaf=10, min_samples_split=5, n_estimators=10; total time=   1.0s\n",
      "[CV] END max_features=auto, min_samples_leaf=5, min_samples_split=10, n_estimators=50; total time=   5.2s\n",
      "[CV] END max_features=auto, min_samples_leaf=5, min_samples_split=10, n_estimators=50; total time=   5.1s\n",
      "[CV] END max_features=auto, min_samples_leaf=5, min_samples_split=10, n_estimators=50; total time=   4.9s\n",
      "[CV] END max_features=auto, min_samples_leaf=5, min_samples_split=10, n_estimators=50; total time=   5.0s\n",
      "[CV] END max_features=auto, min_samples_leaf=5, min_samples_split=10, n_estimators=50; total time=   4.9s\n",
      "[CV] END max_features=auto, min_samples_leaf=7, min_samples_split=2, n_estimators=100; total time=  10.2s\n",
      "[CV] END max_features=auto, min_samples_leaf=7, min_samples_split=2, n_estimators=100; total time=  10.1s\n",
      "[CV] END max_features=auto, min_samples_leaf=7, min_samples_split=2, n_estimators=100; total time=  10.1s\n",
      "[CV] END max_features=auto, min_samples_leaf=7, min_samples_split=2, n_estimators=100; total time=  10.2s\n",
      "[CV] END max_features=auto, min_samples_leaf=7, min_samples_split=2, n_estimators=100; total time=  10.1s\n",
      "[CV] END max_features=log2, min_samples_leaf=1, min_samples_split=5, n_estimators=10; total time=   0.6s\n",
      "[CV] END max_features=log2, min_samples_leaf=1, min_samples_split=5, n_estimators=10; total time=   0.6s\n",
      "[CV] END max_features=log2, min_samples_leaf=1, min_samples_split=5, n_estimators=10; total time=   0.6s\n",
      "[CV] END max_features=log2, min_samples_leaf=1, min_samples_split=5, n_estimators=10; total time=   0.6s\n",
      "[CV] END max_features=log2, min_samples_leaf=1, min_samples_split=5, n_estimators=10; total time=   0.6s\n",
      "[CV] END max_features=auto, min_samples_leaf=2, min_samples_split=5, n_estimators=100; total time=  10.3s\n",
      "[CV] END max_features=auto, min_samples_leaf=2, min_samples_split=5, n_estimators=100; total time=  10.3s\n",
      "[CV] END max_features=auto, min_samples_leaf=2, min_samples_split=5, n_estimators=100; total time=  10.0s\n",
      "[CV] END max_features=auto, min_samples_leaf=2, min_samples_split=5, n_estimators=100; total time=  10.3s\n",
      "[CV] END max_features=auto, min_samples_leaf=2, min_samples_split=5, n_estimators=100; total time=  10.2s\n",
      "[CV] END max_features=auto, min_samples_leaf=1, min_samples_split=15, n_estimators=200; total time=  20.7s\n",
      "[CV] END max_features=auto, min_samples_leaf=1, min_samples_split=15, n_estimators=200; total time=  20.3s\n",
      "[CV] END max_features=auto, min_samples_leaf=1, min_samples_split=15, n_estimators=200; total time=  20.6s\n",
      "[CV] END max_features=auto, min_samples_leaf=1, min_samples_split=15, n_estimators=200; total time=  20.4s\n",
      "[CV] END max_features=auto, min_samples_leaf=1, min_samples_split=15, n_estimators=200; total time=  20.8s\n",
      "[CV] END max_features=auto, min_samples_leaf=2, min_samples_split=10, n_estimators=150; total time=  15.5s\n",
      "[CV] END max_features=auto, min_samples_leaf=2, min_samples_split=10, n_estimators=150; total time=  15.1s\n",
      "[CV] END max_features=auto, min_samples_leaf=2, min_samples_split=10, n_estimators=150; total time=  15.2s\n",
      "[CV] END max_features=auto, min_samples_leaf=2, min_samples_split=10, n_estimators=150; total time=  15.1s\n",
      "[CV] END max_features=auto, min_samples_leaf=2, min_samples_split=10, n_estimators=150; total time=  15.3s\n",
      "[CV] END max_features=sqrt, min_samples_leaf=7, min_samples_split=10, n_estimators=10; total time=   0.6s\n",
      "[CV] END max_features=sqrt, min_samples_leaf=7, min_samples_split=10, n_estimators=10; total time=   0.6s\n",
      "[CV] END max_features=sqrt, min_samples_leaf=7, min_samples_split=10, n_estimators=10; total time=   0.6s\n",
      "[CV] END max_features=sqrt, min_samples_leaf=7, min_samples_split=10, n_estimators=10; total time=   0.6s\n",
      "[CV] END max_features=sqrt, min_samples_leaf=7, min_samples_split=10, n_estimators=10; total time=   0.6s\n",
      "[CV] END max_features=log2, min_samples_leaf=7, min_samples_split=3, n_estimators=50; total time=   3.1s\n",
      "[CV] END max_features=log2, min_samples_leaf=7, min_samples_split=3, n_estimators=50; total time=   3.3s\n",
      "[CV] END max_features=log2, min_samples_leaf=7, min_samples_split=3, n_estimators=50; total time=   3.2s\n",
      "[CV] END max_features=log2, min_samples_leaf=7, min_samples_split=3, n_estimators=50; total time=   3.2s\n",
      "[CV] END max_features=log2, min_samples_leaf=7, min_samples_split=3, n_estimators=50; total time=   3.4s\n",
      "[CV] END max_features=log2, min_samples_leaf=2, min_samples_split=15, n_estimators=200; total time=  12.8s\n",
      "[CV] END max_features=log2, min_samples_leaf=2, min_samples_split=15, n_estimators=200; total time=  13.5s\n",
      "[CV] END max_features=log2, min_samples_leaf=2, min_samples_split=15, n_estimators=200; total time=  13.7s\n",
      "[CV] END max_features=log2, min_samples_leaf=2, min_samples_split=15, n_estimators=200; total time=  13.6s\n",
      "[CV] END max_features=log2, min_samples_leaf=2, min_samples_split=15, n_estimators=200; total time=  13.7s\n",
      "[CV] END max_features=log2, min_samples_leaf=10, min_samples_split=2, n_estimators=50; total time=   3.1s\n",
      "[CV] END max_features=log2, min_samples_leaf=10, min_samples_split=2, n_estimators=50; total time=   3.3s\n",
      "[CV] END max_features=log2, min_samples_leaf=10, min_samples_split=2, n_estimators=50; total time=   3.3s\n",
      "[CV] END max_features=log2, min_samples_leaf=10, min_samples_split=2, n_estimators=50; total time=   3.3s\n",
      "[CV] END max_features=log2, min_samples_leaf=10, min_samples_split=2, n_estimators=50; total time=   3.5s\n",
      "[CV] END max_features=sqrt, min_samples_leaf=2, min_samples_split=15, n_estimators=50; total time=   3.2s\n",
      "[CV] END max_features=sqrt, min_samples_leaf=2, min_samples_split=15, n_estimators=50; total time=   3.3s\n",
      "[CV] END max_features=sqrt, min_samples_leaf=2, min_samples_split=15, n_estimators=50; total time=   3.4s\n",
      "[CV] END max_features=sqrt, min_samples_leaf=2, min_samples_split=15, n_estimators=50; total time=   3.3s\n",
      "[CV] END max_features=sqrt, min_samples_leaf=2, min_samples_split=15, n_estimators=50; total time=   3.4s\n",
      "[CV] END max_features=sqrt, min_samples_leaf=1, min_samples_split=10, n_estimators=200; total time=  12.8s\n",
      "[CV] END max_features=sqrt, min_samples_leaf=1, min_samples_split=10, n_estimators=200; total time=  13.4s\n",
      "[CV] END max_features=sqrt, min_samples_leaf=1, min_samples_split=10, n_estimators=200; total time=  13.2s\n",
      "[CV] END max_features=sqrt, min_samples_leaf=1, min_samples_split=10, n_estimators=200; total time=  13.4s\n",
      "[CV] END max_features=sqrt, min_samples_leaf=1, min_samples_split=10, n_estimators=200; total time=  13.4s\n",
      "[CV] END max_features=sqrt, min_samples_leaf=1, min_samples_split=15, n_estimators=200; total time=  12.9s\n",
      "[CV] END max_features=sqrt, min_samples_leaf=1, min_samples_split=15, n_estimators=200; total time=  13.6s\n",
      "[CV] END max_features=sqrt, min_samples_leaf=1, min_samples_split=15, n_estimators=200; total time=  13.7s\n",
      "[CV] END max_features=sqrt, min_samples_leaf=1, min_samples_split=15, n_estimators=200; total time=  13.7s\n",
      "[CV] END max_features=sqrt, min_samples_leaf=1, min_samples_split=15, n_estimators=200; total time=  13.7s\n",
      "[CV] END max_features=log2, min_samples_leaf=2, min_samples_split=15, n_estimators=100; total time=   6.4s\n",
      "[CV] END max_features=log2, min_samples_leaf=2, min_samples_split=15, n_estimators=100; total time=   6.8s\n",
      "[CV] END max_features=log2, min_samples_leaf=2, min_samples_split=15, n_estimators=100; total time=   6.7s\n",
      "[CV] END max_features=log2, min_samples_leaf=2, min_samples_split=15, n_estimators=100; total time=   6.7s\n",
      "[CV] END max_features=log2, min_samples_leaf=2, min_samples_split=15, n_estimators=100; total time=   6.7s\n",
      "[CV] END max_features=auto, min_samples_leaf=5, min_samples_split=5, n_estimators=100; total time=  10.4s\n",
      "[CV] END max_features=auto, min_samples_leaf=5, min_samples_split=5, n_estimators=100; total time=  10.0s\n",
      "[CV] END max_features=auto, min_samples_leaf=5, min_samples_split=5, n_estimators=100; total time=  10.2s\n",
      "[CV] END max_features=auto, min_samples_leaf=5, min_samples_split=5, n_estimators=100; total time=  10.3s\n",
      "[CV] END max_features=auto, min_samples_leaf=5, min_samples_split=5, n_estimators=100; total time=  10.3s\n",
      "[CV] END max_features=sqrt, min_samples_leaf=5, min_samples_split=3, n_estimators=50; total time=   3.1s\n",
      "[CV] END max_features=sqrt, min_samples_leaf=5, min_samples_split=3, n_estimators=50; total time=   3.3s\n",
      "[CV] END max_features=sqrt, min_samples_leaf=5, min_samples_split=3, n_estimators=50; total time=   3.4s\n",
      "[CV] END max_features=sqrt, min_samples_leaf=5, min_samples_split=3, n_estimators=50; total time=   3.3s\n",
      "[CV] END max_features=sqrt, min_samples_leaf=5, min_samples_split=3, n_estimators=50; total time=   3.3s\n",
      "[CV] END max_features=auto, min_samples_leaf=7, min_samples_split=5, n_estimators=10; total time=   1.0s\n",
      "[CV] END max_features=auto, min_samples_leaf=7, min_samples_split=5, n_estimators=10; total time=   1.0s\n",
      "[CV] END max_features=auto, min_samples_leaf=7, min_samples_split=5, n_estimators=10; total time=   0.9s\n",
      "[CV] END max_features=auto, min_samples_leaf=7, min_samples_split=5, n_estimators=10; total time=   0.9s\n",
      "[CV] END max_features=auto, min_samples_leaf=7, min_samples_split=5, n_estimators=10; total time=   0.9s\n",
      "[CV] END max_features=auto, min_samples_leaf=2, min_samples_split=2, n_estimators=200; total time=  20.9s\n",
      "[CV] END max_features=auto, min_samples_leaf=2, min_samples_split=2, n_estimators=200; total time=  20.0s\n",
      "[CV] END max_features=auto, min_samples_leaf=2, min_samples_split=2, n_estimators=200; total time=  20.1s\n",
      "[CV] END max_features=auto, min_samples_leaf=2, min_samples_split=2, n_estimators=200; total time=  20.0s\n",
      "[CV] END max_features=auto, min_samples_leaf=2, min_samples_split=2, n_estimators=200; total time=  20.5s\n",
      "[CV] END max_features=log2, min_samples_leaf=1, min_samples_split=10, n_estimators=100; total time=   6.3s\n",
      "[CV] END max_features=log2, min_samples_leaf=1, min_samples_split=10, n_estimators=100; total time=   6.5s\n",
      "[CV] END max_features=log2, min_samples_leaf=1, min_samples_split=10, n_estimators=100; total time=   6.7s\n",
      "[CV] END max_features=log2, min_samples_leaf=1, min_samples_split=10, n_estimators=100; total time=   6.7s\n",
      "[CV] END max_features=log2, min_samples_leaf=1, min_samples_split=10, n_estimators=100; total time=   6.8s\n",
      "[CV] END max_features=log2, min_samples_leaf=1, min_samples_split=2, n_estimators=50; total time=   3.2s\n",
      "[CV] END max_features=log2, min_samples_leaf=1, min_samples_split=2, n_estimators=50; total time=   3.4s\n",
      "[CV] END max_features=log2, min_samples_leaf=1, min_samples_split=2, n_estimators=50; total time=   3.4s\n",
      "[CV] END max_features=log2, min_samples_leaf=1, min_samples_split=2, n_estimators=50; total time=   3.3s\n",
      "[CV] END max_features=log2, min_samples_leaf=1, min_samples_split=2, n_estimators=50; total time=   3.4s\n",
      "[CV] END max_features=sqrt, min_samples_leaf=7, min_samples_split=10, n_estimators=100; total time=   6.3s\n",
      "[CV] END max_features=sqrt, min_samples_leaf=7, min_samples_split=10, n_estimators=100; total time=   6.8s\n",
      "[CV] END max_features=sqrt, min_samples_leaf=7, min_samples_split=10, n_estimators=100; total time=   6.7s\n",
      "[CV] END max_features=sqrt, min_samples_leaf=7, min_samples_split=10, n_estimators=100; total time=   6.5s\n",
      "[CV] END max_features=sqrt, min_samples_leaf=7, min_samples_split=10, n_estimators=100; total time=   6.8s\n",
      "[CV] END max_features=sqrt, min_samples_leaf=1, min_samples_split=10, n_estimators=100; total time=   6.2s\n",
      "[CV] END max_features=sqrt, min_samples_leaf=1, min_samples_split=10, n_estimators=100; total time=   6.5s\n",
      "[CV] END max_features=sqrt, min_samples_leaf=1, min_samples_split=10, n_estimators=100; total time=   6.6s\n",
      "[CV] END max_features=sqrt, min_samples_leaf=1, min_samples_split=10, n_estimators=100; total time=   6.6s\n",
      "[CV] END max_features=sqrt, min_samples_leaf=1, min_samples_split=10, n_estimators=100; total time=   6.8s\n",
      "[CV] END max_features=sqrt, min_samples_leaf=2, min_samples_split=15, n_estimators=200; total time=  13.0s\n",
      "[CV] END max_features=sqrt, min_samples_leaf=2, min_samples_split=15, n_estimators=200; total time=  13.5s\n",
      "[CV] END max_features=sqrt, min_samples_leaf=2, min_samples_split=15, n_estimators=200; total time=  13.4s\n",
      "[CV] END max_features=sqrt, min_samples_leaf=2, min_samples_split=15, n_estimators=200; total time=  13.3s\n",
      "[CV] END max_features=sqrt, min_samples_leaf=2, min_samples_split=15, n_estimators=200; total time=  13.5s\n",
      "[CV] END max_features=sqrt, min_samples_leaf=10, min_samples_split=3, n_estimators=150; total time=   9.2s\n",
      "[CV] END max_features=sqrt, min_samples_leaf=10, min_samples_split=3, n_estimators=150; total time=  10.2s\n",
      "[CV] END max_features=sqrt, min_samples_leaf=10, min_samples_split=3, n_estimators=150; total time=  10.2s\n",
      "[CV] END max_features=sqrt, min_samples_leaf=10, min_samples_split=3, n_estimators=150; total time=  10.1s\n",
      "[CV] END max_features=sqrt, min_samples_leaf=10, min_samples_split=3, n_estimators=150; total time=  10.4s\n",
      "[CV] END max_features=log2, min_samples_leaf=5, min_samples_split=5, n_estimators=10; total time=   0.6s\n",
      "[CV] END max_features=log2, min_samples_leaf=5, min_samples_split=5, n_estimators=10; total time=   0.6s\n",
      "[CV] END max_features=log2, min_samples_leaf=5, min_samples_split=5, n_estimators=10; total time=   0.6s\n",
      "[CV] END max_features=log2, min_samples_leaf=5, min_samples_split=5, n_estimators=10; total time=   0.6s\n",
      "[CV] END max_features=log2, min_samples_leaf=5, min_samples_split=5, n_estimators=10; total time=   0.6s\n",
      "[CV] END max_features=log2, min_samples_leaf=2, min_samples_split=5, n_estimators=10; total time=   0.6s\n",
      "[CV] END max_features=log2, min_samples_leaf=2, min_samples_split=5, n_estimators=10; total time=   0.6s\n",
      "[CV] END max_features=log2, min_samples_leaf=2, min_samples_split=5, n_estimators=10; total time=   0.6s\n",
      "[CV] END max_features=log2, min_samples_leaf=2, min_samples_split=5, n_estimators=10; total time=   0.6s\n",
      "[CV] END max_features=log2, min_samples_leaf=2, min_samples_split=5, n_estimators=10; total time=   0.6s\n",
      "[CV] END max_features=log2, min_samples_leaf=10, min_samples_split=15, n_estimators=200; total time=  12.8s\n",
      "[CV] END max_features=log2, min_samples_leaf=10, min_samples_split=15, n_estimators=200; total time=  13.5s\n",
      "[CV] END max_features=log2, min_samples_leaf=10, min_samples_split=15, n_estimators=200; total time=  13.9s\n",
      "[CV] END max_features=log2, min_samples_leaf=10, min_samples_split=15, n_estimators=200; total time=  14.0s\n",
      "[CV] END max_features=log2, min_samples_leaf=10, min_samples_split=15, n_estimators=200; total time=  14.0s\n",
      "[CV] END max_features=sqrt, min_samples_leaf=2, min_samples_split=10, n_estimators=50; total time=   3.3s\n",
      "[CV] END max_features=sqrt, min_samples_leaf=2, min_samples_split=10, n_estimators=50; total time=   3.5s\n",
      "[CV] END max_features=sqrt, min_samples_leaf=2, min_samples_split=10, n_estimators=50; total time=   3.5s\n",
      "[CV] END max_features=sqrt, min_samples_leaf=2, min_samples_split=10, n_estimators=50; total time=   3.4s\n",
      "[CV] END max_features=sqrt, min_samples_leaf=2, min_samples_split=10, n_estimators=50; total time=   3.6s\n",
      "[CV] END max_features=log2, min_samples_leaf=1, min_samples_split=15, n_estimators=10; total time=   0.6s\n",
      "[CV] END max_features=log2, min_samples_leaf=1, min_samples_split=15, n_estimators=10; total time=   0.7s\n",
      "[CV] END max_features=log2, min_samples_leaf=1, min_samples_split=15, n_estimators=10; total time=   0.6s\n",
      "[CV] END max_features=log2, min_samples_leaf=1, min_samples_split=15, n_estimators=10; total time=   0.7s\n",
      "[CV] END max_features=log2, min_samples_leaf=1, min_samples_split=15, n_estimators=10; total time=   0.8s\n",
      "[CV] END max_features=sqrt, min_samples_leaf=7, min_samples_split=2, n_estimators=200; total time=  13.8s\n",
      "[CV] END max_features=sqrt, min_samples_leaf=7, min_samples_split=2, n_estimators=200; total time=  16.2s\n",
      "[CV] END max_features=sqrt, min_samples_leaf=7, min_samples_split=2, n_estimators=200; total time=  15.2s\n",
      "[CV] END max_features=sqrt, min_samples_leaf=7, min_samples_split=2, n_estimators=200; total time=  14.7s\n",
      "[CV] END max_features=sqrt, min_samples_leaf=7, min_samples_split=2, n_estimators=200; total time=  14.6s\n",
      "[CV] END max_features=sqrt, min_samples_leaf=10, min_samples_split=10, n_estimators=150; total time=  10.1s\n",
      "[CV] END max_features=sqrt, min_samples_leaf=10, min_samples_split=10, n_estimators=150; total time=  10.8s\n",
      "[CV] END max_features=sqrt, min_samples_leaf=10, min_samples_split=10, n_estimators=150; total time=  10.9s\n",
      "[CV] END max_features=sqrt, min_samples_leaf=10, min_samples_split=10, n_estimators=150; total time=  10.7s\n",
      "[CV] END max_features=sqrt, min_samples_leaf=10, min_samples_split=10, n_estimators=150; total time=  10.8s\n",
      "[CV] END max_features=log2, min_samples_leaf=7, min_samples_split=15, n_estimators=100; total time=   6.8s\n",
      "[CV] END max_features=log2, min_samples_leaf=7, min_samples_split=15, n_estimators=100; total time=   7.4s\n",
      "[CV] END max_features=log2, min_samples_leaf=7, min_samples_split=15, n_estimators=100; total time=   7.2s\n",
      "[CV] END max_features=log2, min_samples_leaf=7, min_samples_split=15, n_estimators=100; total time=   7.2s\n",
      "[CV] END max_features=log2, min_samples_leaf=7, min_samples_split=15, n_estimators=100; total time=   7.1s\n",
      "[CV] END max_features=sqrt, min_samples_leaf=2, min_samples_split=5, n_estimators=50; total time=   3.3s\n",
      "[CV] END max_features=sqrt, min_samples_leaf=2, min_samples_split=5, n_estimators=50; total time=   3.4s\n",
      "[CV] END max_features=sqrt, min_samples_leaf=2, min_samples_split=5, n_estimators=50; total time=   3.5s\n",
      "[CV] END max_features=sqrt, min_samples_leaf=2, min_samples_split=5, n_estimators=50; total time=   3.4s\n",
      "[CV] END max_features=sqrt, min_samples_leaf=2, min_samples_split=5, n_estimators=50; total time=   3.4s\n",
      "[CV] END max_features=log2, min_samples_leaf=1, min_samples_split=3, n_estimators=200; total time=  13.1s\n",
      "[CV] END max_features=log2, min_samples_leaf=1, min_samples_split=3, n_estimators=200; total time=  13.6s\n",
      "[CV] END max_features=log2, min_samples_leaf=1, min_samples_split=3, n_estimators=200; total time=  13.6s\n",
      "[CV] END max_features=log2, min_samples_leaf=1, min_samples_split=3, n_estimators=200; total time=  13.3s\n",
      "[CV] END max_features=log2, min_samples_leaf=1, min_samples_split=3, n_estimators=200; total time=  13.4s\n",
      "CPU times: total: 1h 10min 3s\n",
      "Wall time: 1h 10min 8s\n"
     ]
    },
    {
     "data": {
      "text/plain": [
       "RandomizedSearchCV(cv=5, error_score='raise',\n",
       "                   estimator=RandomForestRegressor(random_state=42), n_iter=100,\n",
       "                   param_distributions={'max_features': ['auto', 'sqrt',\n",
       "                                                         'log2'],\n",
       "                                        'min_samples_leaf': [1, 2, 5, 7, 10],\n",
       "                                        'min_samples_split': [2, 3, 5, 10, 15],\n",
       "                                        'n_estimators': [10, 50, 100, 150,\n",
       "                                                         200]},\n",
       "                   scoring=make_scorer(rmse, greater_is_better=False),\n",
       "                   verbose=2)"
      ]
     },
     "execution_count": 75,
     "metadata": {},
     "output_type": "execute_result"
    }
   ],
   "source": [
    "param_distributions = {'n_estimators': [10,50,100,150,200], 'max_features':['auto','sqrt','log2'], \n",
    "                       'min_samples_leaf':[1,2,5,7,10],'min_samples_split': [2, 3, 5, 10, 15]}\n",
    "rf_main = RandomizedSearchCV(RandomForestRegressor(random_state=42), param_distributions, verbose=2, \n",
    "                             n_iter = 100,cv=5,scoring=rmse_cv,error_score='raise')\n",
    "%time rf_main.fit(X_train, y_train)"
   ]
  },
  {
   "cell_type": "code",
   "execution_count": 95,
   "id": "312f6210",
   "metadata": {},
   "outputs": [
    {
     "name": "stdout",
     "output_type": "stream",
     "text": [
      "Best parameters for Random Forest Regression Model: {'n_estimators': 200, 'min_samples_split': 2, 'min_samples_leaf': 1, 'max_features': 'auto'}\n"
     ]
    }
   ],
   "source": [
    "print('Best parameters for Random Forest Regression Model: {}'.format(rf_main.best_params_))\n"
   ]
  },
  {
   "cell_type": "code",
   "execution_count": 96,
   "id": "e93fec39",
   "metadata": {},
   "outputs": [],
   "source": [
    "best_params=rf_main.best_params_"
   ]
  },
  {
   "cell_type": "code",
   "execution_count": 98,
   "id": "38961ad2",
   "metadata": {},
   "outputs": [],
   "source": [
    "from sklearn.ensemble import RandomForestClassifier\n"
   ]
  },
  {
   "cell_type": "code",
   "execution_count": 102,
   "id": "e9feff85",
   "metadata": {},
   "outputs": [
    {
     "name": "stdout",
     "output_type": "stream",
     "text": [
      "CPU times: total: 27.5 s\n",
      "Wall time: 27.5 s\n",
      "정확도: 0.997764783551825\n"
     ]
    },
    {
     "data": {
      "image/png": "[encoded data removed]",
      "text/plain": [
       "<Figure size 1000x700 with 2 Axes>"
      ]
     },
     "metadata": {},
     "output_type": "display_data"
    },
    {
     "name": "stdout",
     "output_type": "stream",
     "text": [
      "              precision    recall  f1-score   support\n",
      "\n",
      "           0       1.00      1.00      1.00     61662\n",
      "           1       0.99      1.00      1.00     27633\n",
      "           2       1.00      1.00      1.00     16735\n",
      "\n",
      "    accuracy                           1.00    106030\n",
      "   macro avg       1.00      1.00      1.00    106030\n",
      "weighted avg       1.00      1.00      1.00    106030\n",
      "\n",
      "Precision: [0.99993495 0.9934438  0.99696121]\n",
      "Recall: [0.99709708 0.99800963 0.99982073]\n"
     ]
    }
   ],
   "source": [
    "best_rf = RandomForestClassifier(**best_params, random_state=42)\n",
    "%time best_rf.fit(X_train, y_train)\n",
    "y_pred = best_rf.predict(X_test)\n",
    "\n",
    "# 정확도 평가\n",
    "print(\"정확도:\", accuracy_score(y_test, y_pred))\n",
    "\n",
    "# Confusion Matrix 생성\n",
    "conf_mat = confusion_matrix(y_test, y_pred)\n",
    "\n",
    "plt.figure(figsize=(10, 7))\n",
    "sns.heatmap(conf_mat, annot=True, cmap=\"YlGnBu\", fmt='d')\n",
    "plt.xlabel('predicted label')\n",
    "plt.ylabel('true label')\n",
    "plt.ylabel('')\n",
    "plt.show()\n",
    "print(classification_report(y_test, y_pred))\n",
    "\n",
    "# 클래스별로 Precision과 Recall 계산\n",
    "precision = precision_score(y_test, y_pred, average=None)\n",
    "recall = recall_score(y_test, y_pred, average=None)\n",
    "print('Precision:', precision)\n",
    "print('Recall:', recall)"
   ]
  },
  {
   "cell_type": "code",
   "execution_count": 77,
   "id": "61d69934",
   "metadata": {},
   "outputs": [],
   "source": [
    "rf_result=pd.DataFrame(rf_main.cv_results_)"
   ]
  },
  {
   "cell_type": "code",
   "execution_count": 78,
   "id": "f2b72eeb",
   "metadata": {},
   "outputs": [
    {
     "data": {
      "text/plain": [
       "param_n_estimators\n",
       "10    -0.0\n",
       "50    -0.0\n",
       "100   -0.0\n",
       "150   -0.0\n",
       "200   -0.0\n",
       "Name: mean_test_score, dtype: float64"
      ]
     },
     "execution_count": 78,
     "metadata": {},
     "output_type": "execute_result"
    }
   ],
   "source": [
    "best_score = rf_result.groupby('param_n_estimators')['mean_test_score'].mean()\n",
    "best_score"
   ]
  },
  {
   "cell_type": "code",
   "execution_count": 82,
   "id": "295e876f",
   "metadata": {},
   "outputs": [
    {
     "data": {
      "text/plain": [
       "[Text(0.5, 0, 'n_estimators'),\n",
       " Text(0, 0.5, 'Mean CV Test Score'),\n",
       " Text(0.5, 1.0, 'best_n_estimator = 200')]"
      ]
     },
     "execution_count": 82,
     "metadata": {},
     "output_type": "execute_result"
    },
    {
     "data": {
      "image/png": "[encoded data removed]",
      "text/plain": [
       "<Figure size 1800x1200 with 1 Axes>"
      ]
     },
     "metadata": {},
     "output_type": "display_data"
    }
   ],
   "source": [
    "fig=plt.figure(figsize=(18, 12))\n",
    "\n",
    "axes=fig.add_subplot(2, 3, 1)\n",
    "axes.plot(est_score.index, est_score.values, marker='.')\n",
    "axes.set(xlabel='n_estimators', ylabel='Test Score', title='best_n_estimator = 200')"
   ]
  },
  {
   "cell_type": "code",
   "execution_count": 83,
   "id": "f7edbeda",
   "metadata": {},
   "outputs": [
    {
     "data": {
      "image/png": "[encoded data removed]",
      "text/plain": [
       "<Figure size 1800x800 with 1 Axes>"
      ]
     },
     "metadata": {},
     "output_type": "display_data"
    }
   ],
   "source": [
    "fig = plt.figure(figsize=(18, 8))\n",
    "axes = fig.add_subplot(1, 1, 1)\n",
    "axes.plot(rf_main.best_estimator_.feature_importances_, marker='.', markersize=15)\n",
    "plt.xticks(range(len(rf_main.best_estimator_.feature_importances_)), X_train.columns,rotation=90)\n",
    "axes.set(ylabel='Feature Importance', title='Feature Importance in Random Forest Model')\n",
    "\n",
    "plt.show()"
   ]
  },
  {
   "cell_type": "code",
   "execution_count": null,
   "id": "e3bbd21a",
   "metadata": {},
   "outputs": [],
   "source": []
  }
 ],
 "metadata": {
  "kernelspec": {
   "display_name": "Python 3 (ipykernel)",
   "language": "python",
   "name": "python3"
  },
  "language_info": {
   "codemirror_mode": {
    "name": "ipython",
    "version": 3
   },
   "file_extension": ".py",
   "mimetype": "text/x-python",
   "name": "python",
   "nbconvert_exporter": "python",
   "pygments_lexer": "ipython3",
   "version": "3.9.7"
  },
  "toc": {
   "base_numbering": 1,
   "nav_menu": {},
   "number_sections": true,
   "sideBar": true,
   "skip_h1_title": false,
   "title_cell": "Table of Contents",
   "title_sidebar": "Contents",
   "toc_cell": false,
   "toc_position": {},
   "toc_section_display": true,
   "toc_window_display": false
  }
 },
 "nbformat": 4,
 "nbformat_minor": 5
}
